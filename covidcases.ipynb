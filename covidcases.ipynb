{
 "cells": [
  {
   "cell_type": "markdown",
   "metadata": {
    "id": "eo0j4zIZGSG-"
   },
   "source": [
    "HERE WE ARE DOING ANALYZATION ON COVID LATEST REPORT INDIA STATE WISE"
   ]
  },
  {
   "cell_type": "markdown",
   "metadata": {
    "id": "7bA9WN1AGcoT"
   },
   "source": [
    "# First we will load the data and will download required library\n",
    "## Then we will clean data\n",
    "\n",
    "\n",
    "\n",
    "---\n",
    "\n"
   ]
  },
  {
   "cell_type": "code",
   "execution_count": 5,
   "metadata": {
    "id": "dZwiSJQGGPUi"
   },
   "outputs": [],
   "source": [
    "import pandas as pd\n",
    "import numpy as np\n",
    "import matplotlib.pyplot as plt\n",
    "import plotly.express as px\n",
    "import plotly.figure_factory as ff\n",
    "import plotly.graph_objects as go\n",
    "import seaborn as sns\n",
    "import folium\n",
    "%matplotlib inline"
   ]
  },
  {
   "cell_type": "code",
   "execution_count": 8,
   "metadata": {
    "id": "xpHC-kxqKxoe"
   },
   "outputs": [],
   "source": [
    "df = pd.read_csv('/Latest Covid-19 India Status.csv')"
   ]
  },
  {
   "cell_type": "markdown",
   "metadata": {
    "id": "MZT9HXsHLWGO"
   },
   "source": [
    "# After downloading data we will try to find out some information about it"
   ]
  },
  {
   "cell_type": "markdown",
   "metadata": {
    "id": "WITxm0vGLjb7"
   },
   "source": []
  },
  {
   "cell_type": "code",
   "execution_count": 9,
   "metadata": {
    "colab": {
     "base_uri": "https://localhost:8080/",
     "height": 204
    },
    "id": "pBiFr7vDLRrc",
    "outputId": "bf9a8810-b1a6-42a2-a54c-932ae09cbefc"
   },
   "outputs": [
    {
     "data": {
      "text/html": [
       "<div>\n",
       "<style scoped>\n",
       "    .dataframe tbody tr th:only-of-type {\n",
       "        vertical-align: middle;\n",
       "    }\n",
       "\n",
       "    .dataframe tbody tr th {\n",
       "        vertical-align: top;\n",
       "    }\n",
       "\n",
       "    .dataframe thead th {\n",
       "        text-align: right;\n",
       "    }\n",
       "</style>\n",
       "<table border=\"1\" class=\"dataframe\">\n",
       "  <thead>\n",
       "    <tr style=\"text-align: right;\">\n",
       "      <th></th>\n",
       "      <th>State/UTs</th>\n",
       "      <th>Total Cases</th>\n",
       "      <th>Active</th>\n",
       "      <th>Discharged</th>\n",
       "      <th>Deaths</th>\n",
       "      <th>Active Ratio (%)</th>\n",
       "      <th>Discharge Ratio (%)</th>\n",
       "      <th>Death Ratio (%)</th>\n",
       "    </tr>\n",
       "  </thead>\n",
       "  <tbody>\n",
       "    <tr>\n",
       "      <th>0</th>\n",
       "      <td>Andaman and Nicobar</td>\n",
       "      <td>7539</td>\n",
       "      <td>6</td>\n",
       "      <td>7404</td>\n",
       "      <td>129</td>\n",
       "      <td>0.08</td>\n",
       "      <td>98.21</td>\n",
       "      <td>1.71</td>\n",
       "    </tr>\n",
       "    <tr>\n",
       "      <th>1</th>\n",
       "      <td>Andhra Pradesh</td>\n",
       "      <td>1970008</td>\n",
       "      <td>20582</td>\n",
       "      <td>1936016</td>\n",
       "      <td>13410</td>\n",
       "      <td>1.04</td>\n",
       "      <td>98.27</td>\n",
       "      <td>0.68</td>\n",
       "    </tr>\n",
       "    <tr>\n",
       "      <th>2</th>\n",
       "      <td>Arunachal Pradesh</td>\n",
       "      <td>48565</td>\n",
       "      <td>3508</td>\n",
       "      <td>44823</td>\n",
       "      <td>234</td>\n",
       "      <td>7.22</td>\n",
       "      <td>92.29</td>\n",
       "      <td>0.48</td>\n",
       "    </tr>\n",
       "    <tr>\n",
       "      <th>3</th>\n",
       "      <td>Assam</td>\n",
       "      <td>568257</td>\n",
       "      <td>12429</td>\n",
       "      <td>550534</td>\n",
       "      <td>5294</td>\n",
       "      <td>2.19</td>\n",
       "      <td>96.88</td>\n",
       "      <td>0.93</td>\n",
       "    </tr>\n",
       "    <tr>\n",
       "      <th>4</th>\n",
       "      <td>Bihar</td>\n",
       "      <td>724917</td>\n",
       "      <td>401</td>\n",
       "      <td>714872</td>\n",
       "      <td>9644</td>\n",
       "      <td>0.06</td>\n",
       "      <td>98.61</td>\n",
       "      <td>1.33</td>\n",
       "    </tr>\n",
       "  </tbody>\n",
       "</table>\n",
       "</div>"
      ],
      "text/plain": [
       "             State/UTs  Total Cases  ...  Discharge Ratio (%)  Death Ratio (%)\n",
       "0  Andaman and Nicobar         7539  ...                98.21             1.71\n",
       "1       Andhra Pradesh      1970008  ...                98.27             0.68\n",
       "2    Arunachal Pradesh        48565  ...                92.29             0.48\n",
       "3                Assam       568257  ...                96.88             0.93\n",
       "4                Bihar       724917  ...                98.61             1.33\n",
       "\n",
       "[5 rows x 8 columns]"
      ]
     },
     "execution_count": 9,
     "metadata": {
      "tags": []
     },
     "output_type": "execute_result"
    }
   ],
   "source": [
    "df.head(5)"
   ]
  },
  {
   "cell_type": "code",
   "execution_count": 11,
   "metadata": {
    "colab": {
     "base_uri": "https://localhost:8080/"
    },
    "id": "rp0su_aaMM3J",
    "outputId": "511e7950-6dc0-4072-e982-998a0f86f138"
   },
   "outputs": [
    {
     "data": {
      "text/plain": [
       "Index(['State/UTs', 'Total Cases', 'Active', 'Discharged', 'Deaths',\n",
       "       'Active Ratio (%)', 'Discharge Ratio (%)', 'Death Ratio (%)'],\n",
       "      dtype='object')"
      ]
     },
     "execution_count": 11,
     "metadata": {
      "tags": []
     },
     "output_type": "execute_result"
    }
   ],
   "source": [
    "df.columns"
   ]
  },
  {
   "cell_type": "markdown",
   "metadata": {
    "id": "_adropYBM8B2"
   },
   "source": [
    "Now we will check if there is any null value present"
   ]
  },
  {
   "cell_type": "code",
   "execution_count": 12,
   "metadata": {
    "colab": {
     "base_uri": "https://localhost:8080/",
     "height": 1000
    },
    "id": "_OAIVyxfMXw7",
    "outputId": "cde6ea55-9a15-40c7-d55b-76a7a4d00def"
   },
   "outputs": [
    {
     "data": {
      "text/html": [
       "<div>\n",
       "<style scoped>\n",
       "    .dataframe tbody tr th:only-of-type {\n",
       "        vertical-align: middle;\n",
       "    }\n",
       "\n",
       "    .dataframe tbody tr th {\n",
       "        vertical-align: top;\n",
       "    }\n",
       "\n",
       "    .dataframe thead th {\n",
       "        text-align: right;\n",
       "    }\n",
       "</style>\n",
       "<table border=\"1\" class=\"dataframe\">\n",
       "  <thead>\n",
       "    <tr style=\"text-align: right;\">\n",
       "      <th></th>\n",
       "      <th>State/UTs</th>\n",
       "      <th>Total Cases</th>\n",
       "      <th>Active</th>\n",
       "      <th>Discharged</th>\n",
       "      <th>Deaths</th>\n",
       "      <th>Active Ratio (%)</th>\n",
       "      <th>Discharge Ratio (%)</th>\n",
       "      <th>Death Ratio (%)</th>\n",
       "    </tr>\n",
       "  </thead>\n",
       "  <tbody>\n",
       "    <tr>\n",
       "      <th>0</th>\n",
       "      <td>False</td>\n",
       "      <td>False</td>\n",
       "      <td>False</td>\n",
       "      <td>False</td>\n",
       "      <td>False</td>\n",
       "      <td>False</td>\n",
       "      <td>False</td>\n",
       "      <td>False</td>\n",
       "    </tr>\n",
       "    <tr>\n",
       "      <th>1</th>\n",
       "      <td>False</td>\n",
       "      <td>False</td>\n",
       "      <td>False</td>\n",
       "      <td>False</td>\n",
       "      <td>False</td>\n",
       "      <td>False</td>\n",
       "      <td>False</td>\n",
       "      <td>False</td>\n",
       "    </tr>\n",
       "    <tr>\n",
       "      <th>2</th>\n",
       "      <td>False</td>\n",
       "      <td>False</td>\n",
       "      <td>False</td>\n",
       "      <td>False</td>\n",
       "      <td>False</td>\n",
       "      <td>False</td>\n",
       "      <td>False</td>\n",
       "      <td>False</td>\n",
       "    </tr>\n",
       "    <tr>\n",
       "      <th>3</th>\n",
       "      <td>False</td>\n",
       "      <td>False</td>\n",
       "      <td>False</td>\n",
       "      <td>False</td>\n",
       "      <td>False</td>\n",
       "      <td>False</td>\n",
       "      <td>False</td>\n",
       "      <td>False</td>\n",
       "    </tr>\n",
       "    <tr>\n",
       "      <th>4</th>\n",
       "      <td>False</td>\n",
       "      <td>False</td>\n",
       "      <td>False</td>\n",
       "      <td>False</td>\n",
       "      <td>False</td>\n",
       "      <td>False</td>\n",
       "      <td>False</td>\n",
       "      <td>False</td>\n",
       "    </tr>\n",
       "    <tr>\n",
       "      <th>5</th>\n",
       "      <td>False</td>\n",
       "      <td>False</td>\n",
       "      <td>False</td>\n",
       "      <td>False</td>\n",
       "      <td>False</td>\n",
       "      <td>False</td>\n",
       "      <td>False</td>\n",
       "      <td>False</td>\n",
       "    </tr>\n",
       "    <tr>\n",
       "      <th>6</th>\n",
       "      <td>False</td>\n",
       "      <td>False</td>\n",
       "      <td>False</td>\n",
       "      <td>False</td>\n",
       "      <td>False</td>\n",
       "      <td>False</td>\n",
       "      <td>False</td>\n",
       "      <td>False</td>\n",
       "    </tr>\n",
       "    <tr>\n",
       "      <th>7</th>\n",
       "      <td>False</td>\n",
       "      <td>False</td>\n",
       "      <td>False</td>\n",
       "      <td>False</td>\n",
       "      <td>False</td>\n",
       "      <td>False</td>\n",
       "      <td>False</td>\n",
       "      <td>False</td>\n",
       "    </tr>\n",
       "    <tr>\n",
       "      <th>8</th>\n",
       "      <td>False</td>\n",
       "      <td>False</td>\n",
       "      <td>False</td>\n",
       "      <td>False</td>\n",
       "      <td>False</td>\n",
       "      <td>False</td>\n",
       "      <td>False</td>\n",
       "      <td>False</td>\n",
       "    </tr>\n",
       "    <tr>\n",
       "      <th>9</th>\n",
       "      <td>False</td>\n",
       "      <td>False</td>\n",
       "      <td>False</td>\n",
       "      <td>False</td>\n",
       "      <td>False</td>\n",
       "      <td>False</td>\n",
       "      <td>False</td>\n",
       "      <td>False</td>\n",
       "    </tr>\n",
       "    <tr>\n",
       "      <th>10</th>\n",
       "      <td>False</td>\n",
       "      <td>False</td>\n",
       "      <td>False</td>\n",
       "      <td>False</td>\n",
       "      <td>False</td>\n",
       "      <td>False</td>\n",
       "      <td>False</td>\n",
       "      <td>False</td>\n",
       "    </tr>\n",
       "    <tr>\n",
       "      <th>11</th>\n",
       "      <td>False</td>\n",
       "      <td>False</td>\n",
       "      <td>False</td>\n",
       "      <td>False</td>\n",
       "      <td>False</td>\n",
       "      <td>False</td>\n",
       "      <td>False</td>\n",
       "      <td>False</td>\n",
       "    </tr>\n",
       "    <tr>\n",
       "      <th>12</th>\n",
       "      <td>False</td>\n",
       "      <td>False</td>\n",
       "      <td>False</td>\n",
       "      <td>False</td>\n",
       "      <td>False</td>\n",
       "      <td>False</td>\n",
       "      <td>False</td>\n",
       "      <td>False</td>\n",
       "    </tr>\n",
       "    <tr>\n",
       "      <th>13</th>\n",
       "      <td>False</td>\n",
       "      <td>False</td>\n",
       "      <td>False</td>\n",
       "      <td>False</td>\n",
       "      <td>False</td>\n",
       "      <td>False</td>\n",
       "      <td>False</td>\n",
       "      <td>False</td>\n",
       "    </tr>\n",
       "    <tr>\n",
       "      <th>14</th>\n",
       "      <td>False</td>\n",
       "      <td>False</td>\n",
       "      <td>False</td>\n",
       "      <td>False</td>\n",
       "      <td>False</td>\n",
       "      <td>False</td>\n",
       "      <td>False</td>\n",
       "      <td>False</td>\n",
       "    </tr>\n",
       "    <tr>\n",
       "      <th>15</th>\n",
       "      <td>False</td>\n",
       "      <td>False</td>\n",
       "      <td>False</td>\n",
       "      <td>False</td>\n",
       "      <td>False</td>\n",
       "      <td>False</td>\n",
       "      <td>False</td>\n",
       "      <td>False</td>\n",
       "    </tr>\n",
       "    <tr>\n",
       "      <th>16</th>\n",
       "      <td>False</td>\n",
       "      <td>False</td>\n",
       "      <td>False</td>\n",
       "      <td>False</td>\n",
       "      <td>False</td>\n",
       "      <td>False</td>\n",
       "      <td>False</td>\n",
       "      <td>False</td>\n",
       "    </tr>\n",
       "    <tr>\n",
       "      <th>17</th>\n",
       "      <td>False</td>\n",
       "      <td>False</td>\n",
       "      <td>False</td>\n",
       "      <td>False</td>\n",
       "      <td>False</td>\n",
       "      <td>False</td>\n",
       "      <td>False</td>\n",
       "      <td>False</td>\n",
       "    </tr>\n",
       "    <tr>\n",
       "      <th>18</th>\n",
       "      <td>False</td>\n",
       "      <td>False</td>\n",
       "      <td>False</td>\n",
       "      <td>False</td>\n",
       "      <td>False</td>\n",
       "      <td>False</td>\n",
       "      <td>False</td>\n",
       "      <td>False</td>\n",
       "    </tr>\n",
       "    <tr>\n",
       "      <th>19</th>\n",
       "      <td>False</td>\n",
       "      <td>False</td>\n",
       "      <td>False</td>\n",
       "      <td>False</td>\n",
       "      <td>False</td>\n",
       "      <td>False</td>\n",
       "      <td>False</td>\n",
       "      <td>False</td>\n",
       "    </tr>\n",
       "    <tr>\n",
       "      <th>20</th>\n",
       "      <td>False</td>\n",
       "      <td>False</td>\n",
       "      <td>False</td>\n",
       "      <td>False</td>\n",
       "      <td>False</td>\n",
       "      <td>False</td>\n",
       "      <td>False</td>\n",
       "      <td>False</td>\n",
       "    </tr>\n",
       "    <tr>\n",
       "      <th>21</th>\n",
       "      <td>False</td>\n",
       "      <td>False</td>\n",
       "      <td>False</td>\n",
       "      <td>False</td>\n",
       "      <td>False</td>\n",
       "      <td>False</td>\n",
       "      <td>False</td>\n",
       "      <td>False</td>\n",
       "    </tr>\n",
       "    <tr>\n",
       "      <th>22</th>\n",
       "      <td>False</td>\n",
       "      <td>False</td>\n",
       "      <td>False</td>\n",
       "      <td>False</td>\n",
       "      <td>False</td>\n",
       "      <td>False</td>\n",
       "      <td>False</td>\n",
       "      <td>False</td>\n",
       "    </tr>\n",
       "    <tr>\n",
       "      <th>23</th>\n",
       "      <td>False</td>\n",
       "      <td>False</td>\n",
       "      <td>False</td>\n",
       "      <td>False</td>\n",
       "      <td>False</td>\n",
       "      <td>False</td>\n",
       "      <td>False</td>\n",
       "      <td>False</td>\n",
       "    </tr>\n",
       "    <tr>\n",
       "      <th>24</th>\n",
       "      <td>False</td>\n",
       "      <td>False</td>\n",
       "      <td>False</td>\n",
       "      <td>False</td>\n",
       "      <td>False</td>\n",
       "      <td>False</td>\n",
       "      <td>False</td>\n",
       "      <td>False</td>\n",
       "    </tr>\n",
       "    <tr>\n",
       "      <th>25</th>\n",
       "      <td>False</td>\n",
       "      <td>False</td>\n",
       "      <td>False</td>\n",
       "      <td>False</td>\n",
       "      <td>False</td>\n",
       "      <td>False</td>\n",
       "      <td>False</td>\n",
       "      <td>False</td>\n",
       "    </tr>\n",
       "    <tr>\n",
       "      <th>26</th>\n",
       "      <td>False</td>\n",
       "      <td>False</td>\n",
       "      <td>False</td>\n",
       "      <td>False</td>\n",
       "      <td>False</td>\n",
       "      <td>False</td>\n",
       "      <td>False</td>\n",
       "      <td>False</td>\n",
       "    </tr>\n",
       "    <tr>\n",
       "      <th>27</th>\n",
       "      <td>False</td>\n",
       "      <td>False</td>\n",
       "      <td>False</td>\n",
       "      <td>False</td>\n",
       "      <td>False</td>\n",
       "      <td>False</td>\n",
       "      <td>False</td>\n",
       "      <td>False</td>\n",
       "    </tr>\n",
       "    <tr>\n",
       "      <th>28</th>\n",
       "      <td>False</td>\n",
       "      <td>False</td>\n",
       "      <td>False</td>\n",
       "      <td>False</td>\n",
       "      <td>False</td>\n",
       "      <td>False</td>\n",
       "      <td>False</td>\n",
       "      <td>False</td>\n",
       "    </tr>\n",
       "    <tr>\n",
       "      <th>29</th>\n",
       "      <td>False</td>\n",
       "      <td>False</td>\n",
       "      <td>False</td>\n",
       "      <td>False</td>\n",
       "      <td>False</td>\n",
       "      <td>False</td>\n",
       "      <td>False</td>\n",
       "      <td>False</td>\n",
       "    </tr>\n",
       "    <tr>\n",
       "      <th>30</th>\n",
       "      <td>False</td>\n",
       "      <td>False</td>\n",
       "      <td>False</td>\n",
       "      <td>False</td>\n",
       "      <td>False</td>\n",
       "      <td>False</td>\n",
       "      <td>False</td>\n",
       "      <td>False</td>\n",
       "    </tr>\n",
       "    <tr>\n",
       "      <th>31</th>\n",
       "      <td>False</td>\n",
       "      <td>False</td>\n",
       "      <td>False</td>\n",
       "      <td>False</td>\n",
       "      <td>False</td>\n",
       "      <td>False</td>\n",
       "      <td>False</td>\n",
       "      <td>False</td>\n",
       "    </tr>\n",
       "    <tr>\n",
       "      <th>32</th>\n",
       "      <td>False</td>\n",
       "      <td>False</td>\n",
       "      <td>False</td>\n",
       "      <td>False</td>\n",
       "      <td>False</td>\n",
       "      <td>False</td>\n",
       "      <td>False</td>\n",
       "      <td>False</td>\n",
       "    </tr>\n",
       "    <tr>\n",
       "      <th>33</th>\n",
       "      <td>False</td>\n",
       "      <td>False</td>\n",
       "      <td>False</td>\n",
       "      <td>False</td>\n",
       "      <td>False</td>\n",
       "      <td>False</td>\n",
       "      <td>False</td>\n",
       "      <td>False</td>\n",
       "    </tr>\n",
       "    <tr>\n",
       "      <th>34</th>\n",
       "      <td>False</td>\n",
       "      <td>False</td>\n",
       "      <td>False</td>\n",
       "      <td>False</td>\n",
       "      <td>False</td>\n",
       "      <td>False</td>\n",
       "      <td>False</td>\n",
       "      <td>False</td>\n",
       "    </tr>\n",
       "    <tr>\n",
       "      <th>35</th>\n",
       "      <td>False</td>\n",
       "      <td>False</td>\n",
       "      <td>False</td>\n",
       "      <td>False</td>\n",
       "      <td>False</td>\n",
       "      <td>False</td>\n",
       "      <td>False</td>\n",
       "      <td>False</td>\n",
       "    </tr>\n",
       "  </tbody>\n",
       "</table>\n",
       "</div>"
      ],
      "text/plain": [
       "    State/UTs  Total Cases  ...  Discharge Ratio (%)  Death Ratio (%)\n",
       "0       False        False  ...                False            False\n",
       "1       False        False  ...                False            False\n",
       "2       False        False  ...                False            False\n",
       "3       False        False  ...                False            False\n",
       "4       False        False  ...                False            False\n",
       "5       False        False  ...                False            False\n",
       "6       False        False  ...                False            False\n",
       "7       False        False  ...                False            False\n",
       "8       False        False  ...                False            False\n",
       "9       False        False  ...                False            False\n",
       "10      False        False  ...                False            False\n",
       "11      False        False  ...                False            False\n",
       "12      False        False  ...                False            False\n",
       "13      False        False  ...                False            False\n",
       "14      False        False  ...                False            False\n",
       "15      False        False  ...                False            False\n",
       "16      False        False  ...                False            False\n",
       "17      False        False  ...                False            False\n",
       "18      False        False  ...                False            False\n",
       "19      False        False  ...                False            False\n",
       "20      False        False  ...                False            False\n",
       "21      False        False  ...                False            False\n",
       "22      False        False  ...                False            False\n",
       "23      False        False  ...                False            False\n",
       "24      False        False  ...                False            False\n",
       "25      False        False  ...                False            False\n",
       "26      False        False  ...                False            False\n",
       "27      False        False  ...                False            False\n",
       "28      False        False  ...                False            False\n",
       "29      False        False  ...                False            False\n",
       "30      False        False  ...                False            False\n",
       "31      False        False  ...                False            False\n",
       "32      False        False  ...                False            False\n",
       "33      False        False  ...                False            False\n",
       "34      False        False  ...                False            False\n",
       "35      False        False  ...                False            False\n",
       "\n",
       "[36 rows x 8 columns]"
      ]
     },
     "execution_count": 12,
     "metadata": {
      "tags": []
     },
     "output_type": "execute_result"
    }
   ],
   "source": [
    "df.isnull()"
   ]
  },
  {
   "cell_type": "markdown",
   "metadata": {
    "id": "-HRoHwXBNRiH"
   },
   "source": [
    "- we can clearly see no null value is present here, so we do not need to clean it."
   ]
  },
  {
   "cell_type": "code",
   "execution_count": 13,
   "metadata": {
    "colab": {
     "base_uri": "https://localhost:8080/",
     "height": 111
    },
    "id": "_AZpPTm2NeKA",
    "outputId": "e0e9c67f-8107-44f3-f6bf-07f785eef372"
   },
   "outputs": [
    {
     "data": {
      "text/html": [
       "<div>\n",
       "<style scoped>\n",
       "    .dataframe tbody tr th:only-of-type {\n",
       "        vertical-align: middle;\n",
       "    }\n",
       "\n",
       "    .dataframe tbody tr th {\n",
       "        vertical-align: top;\n",
       "    }\n",
       "\n",
       "    .dataframe thead th {\n",
       "        text-align: right;\n",
       "    }\n",
       "</style>\n",
       "<table border=\"1\" class=\"dataframe\">\n",
       "  <thead>\n",
       "    <tr style=\"text-align: right;\">\n",
       "      <th></th>\n",
       "      <th>State/UTs</th>\n",
       "      <th>Total Cases</th>\n",
       "      <th>Active</th>\n",
       "      <th>Discharged</th>\n",
       "      <th>Deaths</th>\n",
       "      <th>Active Ratio (%)</th>\n",
       "      <th>Discharge Ratio (%)</th>\n",
       "      <th>Death Ratio (%)</th>\n",
       "    </tr>\n",
       "  </thead>\n",
       "  <tbody>\n",
       "    <tr>\n",
       "      <th>0</th>\n",
       "      <td>Andaman and Nicobar</td>\n",
       "      <td>7539</td>\n",
       "      <td>6</td>\n",
       "      <td>7404</td>\n",
       "      <td>129</td>\n",
       "      <td>0.08</td>\n",
       "      <td>98.21</td>\n",
       "      <td>1.71</td>\n",
       "    </tr>\n",
       "    <tr>\n",
       "      <th>1</th>\n",
       "      <td>Andhra Pradesh</td>\n",
       "      <td>1970008</td>\n",
       "      <td>20582</td>\n",
       "      <td>1936016</td>\n",
       "      <td>13410</td>\n",
       "      <td>1.04</td>\n",
       "      <td>98.27</td>\n",
       "      <td>0.68</td>\n",
       "    </tr>\n",
       "  </tbody>\n",
       "</table>\n",
       "</div>"
      ],
      "text/plain": [
       "             State/UTs  Total Cases  ...  Discharge Ratio (%)  Death Ratio (%)\n",
       "0  Andaman and Nicobar         7539  ...                98.21             1.71\n",
       "1       Andhra Pradesh      1970008  ...                98.27             0.68\n",
       "\n",
       "[2 rows x 8 columns]"
      ]
     },
     "execution_count": 13,
     "metadata": {
      "tags": []
     },
     "output_type": "execute_result"
    }
   ],
   "source": [
    "df.head(2)"
   ]
  },
  {
   "cell_type": "code",
   "execution_count": 21,
   "metadata": {
    "colab": {
     "base_uri": "https://localhost:8080/"
    },
    "id": "mpDpAHgDPbe5",
    "outputId": "dca80fa2-28a8-4886-dc18-58a81b0e6bdf"
   },
   "outputs": [
    {
     "data": {
      "text/plain": [
       "(36, 8)"
      ]
     },
     "execution_count": 21,
     "metadata": {
      "tags": []
     },
     "output_type": "execute_result"
    }
   ],
   "source": [
    "df.shape"
   ]
  },
  {
   "cell_type": "markdown",
   "metadata": {
    "id": "Y8EvqzqpPmUO"
   },
   "source": [
    "-checking duplicate values"
   ]
  },
  {
   "cell_type": "code",
   "execution_count": 24,
   "metadata": {
    "colab": {
     "base_uri": "https://localhost:8080/"
    },
    "id": "rerhtJqfPl0w",
    "outputId": "ab0d8b91-1e1d-4bd1-db89-d02283e8eb18"
   },
   "outputs": [
    {
     "data": {
      "text/plain": [
       "0"
      ]
     },
     "execution_count": 24,
     "metadata": {
      "tags": []
     },
     "output_type": "execute_result"
    }
   ],
   "source": [
    "df.duplicated().sum()"
   ]
  },
  {
   "cell_type": "code",
   "execution_count": 17,
   "metadata": {
    "colab": {
     "base_uri": "https://localhost:8080/"
    },
    "id": "6MFueC8NNsaL",
    "outputId": "2e7e2e2c-8fd7-4ea3-9d5d-073da0812120"
   },
   "outputs": [
    {
     "data": {
      "text/plain": [
       "36"
      ]
     },
     "execution_count": 17,
     "metadata": {
      "tags": []
     },
     "output_type": "execute_result"
    }
   ],
   "source": [
    "  df['State/UTs'].count()"
   ]
  },
  {
   "cell_type": "markdown",
   "metadata": {
    "id": "2YDO3earN-7u"
   },
   "source": [
    "-total states/uts taken in this survey are 36"
   ]
  },
  {
   "cell_type": "code",
   "execution_count": 19,
   "metadata": {
    "colab": {
     "base_uri": "https://localhost:8080/"
    },
    "id": "VTB5jYSuOJXk",
    "outputId": "02d04c39-6e88-47f2-8a3d-191d65fbcd78"
   },
   "outputs": [
    {
     "data": {
      "text/plain": [
       "0                          Andaman and Nicobar\n",
       "1                               Andhra Pradesh\n",
       "2                            Arunachal Pradesh\n",
       "3                                        Assam\n",
       "4                                        Bihar\n",
       "5                                   Chandigarh\n",
       "6                                 Chhattisgarh\n",
       "7     Dadra and Nagar Haveli and Daman and Diu\n",
       "8                                        Delhi\n",
       "9                                          Goa\n",
       "10                                     Gujarat\n",
       "11                                     Haryana\n",
       "12                            Himachal Pradesh\n",
       "13                           Jammu and Kashmir\n",
       "14                                   Jharkhand\n",
       "15                                   Karnataka\n",
       "16                                      Kerala\n",
       "17                                      Ladakh\n",
       "18                                 Lakshadweep\n",
       "19                              Madhya Pradesh\n",
       "20                                 Maharashtra\n",
       "21                                     Manipur\n",
       "22                                   Meghalaya\n",
       "23                                     Mizoram\n",
       "24                                    Nagaland\n",
       "25                                      Odisha\n",
       "26                                  Puducherry\n",
       "27                                      Punjab\n",
       "28                                   Rajasthan\n",
       "29                                      Sikkim\n",
       "30                                  Tamil Nadu\n",
       "31                                   Telengana\n",
       "32                                     Tripura\n",
       "33                               Uttar Pradesh\n",
       "34                                 Uttarakhand\n",
       "35                                 West Bengal\n",
       "Name: State/UTs, dtype: object"
      ]
     },
     "execution_count": 19,
     "metadata": {
      "tags": []
     },
     "output_type": "execute_result"
    }
   ],
   "source": [
    "df['State/UTs']"
   ]
  },
  {
   "cell_type": "markdown",
   "metadata": {
    "id": "L2dQ5KiVQAmO"
   },
   "source": [
    "-replacing long name with shorter ones"
   ]
  },
  {
   "cell_type": "code",
   "execution_count": 25,
   "metadata": {
    "id": "KlYfNxZbQE3W"
   },
   "outputs": [],
   "source": [
    "df = df.replace('Dadra and Nagar Haveli and Daman and Diu', 'Daman and Diu')"
   ]
  },
  {
   "cell_type": "code",
   "execution_count": 26,
   "metadata": {
    "colab": {
     "base_uri": "https://localhost:8080/",
     "height": 297
    },
    "id": "book-do9QV1b",
    "outputId": "3177d4fc-eec0-4c99-a05e-9953ad38baa8"
   },
   "outputs": [
    {
     "data": {
      "text/html": [
       "<div>\n",
       "<style scoped>\n",
       "    .dataframe tbody tr th:only-of-type {\n",
       "        vertical-align: middle;\n",
       "    }\n",
       "\n",
       "    .dataframe tbody tr th {\n",
       "        vertical-align: top;\n",
       "    }\n",
       "\n",
       "    .dataframe thead th {\n",
       "        text-align: right;\n",
       "    }\n",
       "</style>\n",
       "<table border=\"1\" class=\"dataframe\">\n",
       "  <thead>\n",
       "    <tr style=\"text-align: right;\">\n",
       "      <th></th>\n",
       "      <th>Total Cases</th>\n",
       "      <th>Active</th>\n",
       "      <th>Discharged</th>\n",
       "      <th>Deaths</th>\n",
       "      <th>Active Ratio (%)</th>\n",
       "      <th>Discharge Ratio (%)</th>\n",
       "      <th>Death Ratio (%)</th>\n",
       "    </tr>\n",
       "  </thead>\n",
       "  <tbody>\n",
       "    <tr>\n",
       "      <th>count</th>\n",
       "      <td>3.600000e+01</td>\n",
       "      <td>36.000000</td>\n",
       "      <td>3.600000e+01</td>\n",
       "      <td>36.000000</td>\n",
       "      <td>36.000000</td>\n",
       "      <td>36.000000</td>\n",
       "      <td>36.000000</td>\n",
       "    </tr>\n",
       "    <tr>\n",
       "      <th>mean</th>\n",
       "      <td>8.812919e+05</td>\n",
       "      <td>11248.833333</td>\n",
       "      <td>8.582321e+05</td>\n",
       "      <td>11810.972222</td>\n",
       "      <td>2.679722</td>\n",
       "      <td>96.059167</td>\n",
       "      <td>1.261667</td>\n",
       "    </tr>\n",
       "    <tr>\n",
       "      <th>std</th>\n",
       "      <td>1.273276e+06</td>\n",
       "      <td>29957.488684</td>\n",
       "      <td>1.231874e+06</td>\n",
       "      <td>22842.176185</td>\n",
       "      <td>5.706423</td>\n",
       "      <td>5.592844</td>\n",
       "      <td>0.567604</td>\n",
       "    </tr>\n",
       "    <tr>\n",
       "      <th>min</th>\n",
       "      <td>7.539000e+03</td>\n",
       "      <td>6.000000</td>\n",
       "      <td>7.404000e+03</td>\n",
       "      <td>4.000000</td>\n",
       "      <td>0.020000</td>\n",
       "      <td>68.910000</td>\n",
       "      <td>0.040000</td>\n",
       "    </tr>\n",
       "    <tr>\n",
       "      <th>25%</th>\n",
       "      <td>6.494425e+04</td>\n",
       "      <td>363.500000</td>\n",
       "      <td>6.058375e+04</td>\n",
       "      <td>797.000000</td>\n",
       "      <td>0.080000</td>\n",
       "      <td>96.822500</td>\n",
       "      <td>0.937500</td>\n",
       "    </tr>\n",
       "    <tr>\n",
       "      <th>50%</th>\n",
       "      <td>4.577400e+05</td>\n",
       "      <td>1277.000000</td>\n",
       "      <td>4.461945e+05</td>\n",
       "      <td>5211.500000</td>\n",
       "      <td>0.670000</td>\n",
       "      <td>98.035000</td>\n",
       "      <td>1.320000</td>\n",
       "    </tr>\n",
       "    <tr>\n",
       "      <th>75%</th>\n",
       "      <td>9.854172e+05</td>\n",
       "      <td>10061.250000</td>\n",
       "      <td>9.670425e+05</td>\n",
       "      <td>13439.500000</td>\n",
       "      <td>1.575000</td>\n",
       "      <td>98.615000</td>\n",
       "      <td>1.605000</td>\n",
       "    </tr>\n",
       "    <tr>\n",
       "      <th>max</th>\n",
       "      <td>6.315063e+06</td>\n",
       "      <td>165834.000000</td>\n",
       "      <td>6.103325e+06</td>\n",
       "      <td>133038.000000</td>\n",
       "      <td>30.700000</td>\n",
       "      <td>99.820000</td>\n",
       "      <td>2.720000</td>\n",
       "    </tr>\n",
       "  </tbody>\n",
       "</table>\n",
       "</div>"
      ],
      "text/plain": [
       "        Total Cases         Active  ...  Discharge Ratio (%)  Death Ratio (%)\n",
       "count  3.600000e+01      36.000000  ...            36.000000        36.000000\n",
       "mean   8.812919e+05   11248.833333  ...            96.059167         1.261667\n",
       "std    1.273276e+06   29957.488684  ...             5.592844         0.567604\n",
       "min    7.539000e+03       6.000000  ...            68.910000         0.040000\n",
       "25%    6.494425e+04     363.500000  ...            96.822500         0.937500\n",
       "50%    4.577400e+05    1277.000000  ...            98.035000         1.320000\n",
       "75%    9.854172e+05   10061.250000  ...            98.615000         1.605000\n",
       "max    6.315063e+06  165834.000000  ...            99.820000         2.720000\n",
       "\n",
       "[8 rows x 7 columns]"
      ]
     },
     "execution_count": 26,
     "metadata": {
      "tags": []
     },
     "output_type": "execute_result"
    }
   ],
   "source": [
    "df.describe()"
   ]
  },
  {
   "cell_type": "code",
   "execution_count": 27,
   "metadata": {
    "colab": {
     "base_uri": "https://localhost:8080/",
     "height": 266
    },
    "id": "4yDXklRJN93c",
    "outputId": "d4a1044b-fdc1-40b3-e1d0-66c90d78931f"
   },
   "outputs": [
    {
     "data": {
      "text/html": [
       "<div>\n",
       "<style scoped>\n",
       "    .dataframe tbody tr th:only-of-type {\n",
       "        vertical-align: middle;\n",
       "    }\n",
       "\n",
       "    .dataframe tbody tr th {\n",
       "        vertical-align: top;\n",
       "    }\n",
       "\n",
       "    .dataframe thead th {\n",
       "        text-align: right;\n",
       "    }\n",
       "</style>\n",
       "<table border=\"1\" class=\"dataframe\">\n",
       "  <thead>\n",
       "    <tr style=\"text-align: right;\">\n",
       "      <th></th>\n",
       "      <th>Total Cases</th>\n",
       "      <th>Active</th>\n",
       "      <th>Discharged</th>\n",
       "      <th>Deaths</th>\n",
       "      <th>Active Ratio (%)</th>\n",
       "      <th>Discharge Ratio (%)</th>\n",
       "      <th>Death Ratio (%)</th>\n",
       "    </tr>\n",
       "  </thead>\n",
       "  <tbody>\n",
       "    <tr>\n",
       "      <th>Total Cases</th>\n",
       "      <td>1.000000</td>\n",
       "      <td>0.690865</td>\n",
       "      <td>0.999896</td>\n",
       "      <td>0.912042</td>\n",
       "      <td>-0.174841</td>\n",
       "      <td>0.168515</td>\n",
       "      <td>0.098537</td>\n",
       "    </tr>\n",
       "    <tr>\n",
       "      <th>Active</th>\n",
       "      <td>0.690865</td>\n",
       "      <td>1.000000</td>\n",
       "      <td>0.681361</td>\n",
       "      <td>0.453223</td>\n",
       "      <td>0.092421</td>\n",
       "      <td>-0.078144</td>\n",
       "      <td>-0.161234</td>\n",
       "    </tr>\n",
       "    <tr>\n",
       "      <th>Discharged</th>\n",
       "      <td>0.999896</td>\n",
       "      <td>0.681361</td>\n",
       "      <td>1.000000</td>\n",
       "      <td>0.913131</td>\n",
       "      <td>-0.180027</td>\n",
       "      <td>0.173632</td>\n",
       "      <td>0.100295</td>\n",
       "    </tr>\n",
       "    <tr>\n",
       "      <th>Deaths</th>\n",
       "      <td>0.912042</td>\n",
       "      <td>0.453223</td>\n",
       "      <td>0.913131</td>\n",
       "      <td>1.000000</td>\n",
       "      <td>-0.158451</td>\n",
       "      <td>0.131972</td>\n",
       "      <td>0.295282</td>\n",
       "    </tr>\n",
       "    <tr>\n",
       "      <th>Active Ratio (%)</th>\n",
       "      <td>-0.174841</td>\n",
       "      <td>0.092421</td>\n",
       "      <td>-0.180027</td>\n",
       "      <td>-0.158451</td>\n",
       "      <td>1.000000</td>\n",
       "      <td>-0.995177</td>\n",
       "      <td>-0.251315</td>\n",
       "    </tr>\n",
       "    <tr>\n",
       "      <th>Discharge Ratio (%)</th>\n",
       "      <td>0.168515</td>\n",
       "      <td>-0.078144</td>\n",
       "      <td>0.173632</td>\n",
       "      <td>0.131972</td>\n",
       "      <td>-0.995177</td>\n",
       "      <td>1.000000</td>\n",
       "      <td>0.155162</td>\n",
       "    </tr>\n",
       "    <tr>\n",
       "      <th>Death Ratio (%)</th>\n",
       "      <td>0.098537</td>\n",
       "      <td>-0.161234</td>\n",
       "      <td>0.100295</td>\n",
       "      <td>0.295282</td>\n",
       "      <td>-0.251315</td>\n",
       "      <td>0.155162</td>\n",
       "      <td>1.000000</td>\n",
       "    </tr>\n",
       "  </tbody>\n",
       "</table>\n",
       "</div>"
      ],
      "text/plain": [
       "                     Total Cases  ...  Death Ratio (%)\n",
       "Total Cases             1.000000  ...         0.098537\n",
       "Active                  0.690865  ...        -0.161234\n",
       "Discharged              0.999896  ...         0.100295\n",
       "Deaths                  0.912042  ...         0.295282\n",
       "Active Ratio (%)       -0.174841  ...        -0.251315\n",
       "Discharge Ratio (%)     0.168515  ...         0.155162\n",
       "Death Ratio (%)         0.098537  ...         1.000000\n",
       "\n",
       "[7 rows x 7 columns]"
      ]
     },
     "execution_count": 27,
     "metadata": {
      "tags": []
     },
     "output_type": "execute_result"
    }
   ],
   "source": [
    "df.corr()"
   ]
  },
  {
   "cell_type": "markdown",
   "metadata": {
    "id": "sIKlEzljQ5T5"
   },
   "source": [
    "- there is a co-relation between total cases, discharged and deaths\n",
    "- there is negative co-relation between  death ratio and active cases"
   ]
  },
  {
   "cell_type": "markdown",
   "metadata": {
    "id": "x03fvrklRgju"
   },
   "source": [
    "-visualizing corelation using heat map"
   ]
  },
  {
   "cell_type": "code",
   "execution_count": 29,
   "metadata": {
    "colab": {
     "base_uri": "https://localhost:8080/",
     "height": 376
    },
    "id": "Whv4qRh4RlPW",
    "outputId": "2d068d66-fce5-477b-d022-3e98979c6663"
   },
   "outputs": [
    {
     "data": {
      "text/plain": [
       "<matplotlib.axes._subplots.AxesSubplot at 0x7f61296b0310>"
      ]
     },
     "execution_count": 29,
     "metadata": {
      "tags": []
     },
     "output_type": "execute_result"
    },
    {
     "data": {
      "image/png": "[encoded data removed]",
      "text/plain": [
       "<Figure size 432x288 with 2 Axes>"
      ]
     },
     "metadata": {
      "needs_background": "light",
      "tags": []
     },
     "output_type": "display_data"
    }
   ],
   "source": [
    "sns.heatmap(df.corr(), annot=True)"
   ]
  },
  {
   "cell_type": "code",
   "execution_count": null,
   "metadata": {
    "id": "3af-qqlXSHv8"
   },
   "outputs": [],
   "source": [
    "-creating more visulisatuon to understand this code"
   ]
  },
  {
   "cell_type": "code",
   "execution_count": 33,
   "metadata": {
    "colab": {
     "base_uri": "https://localhost:8080/",
     "height": 623
    },
    "id": "k8opoqsbRf2u",
    "outputId": "cf858658-4ee6-48a6-eb30-7a71189ab70b"
   },
   "outputs": [
    {
     "data": {
      "text/plain": [
       "<matplotlib.axes._subplots.AxesSubplot at 0x7f6120e7f690>"
      ]
     },
     "execution_count": 33,
     "metadata": {
      "tags": []
     },
     "output_type": "execute_result"
    },
    {
     "data": {
      "image/png": "[encoded data removed]",
      "text/plain": [
       "<Figure size 576x720 with 1 Axes>"
      ]
     },
     "metadata": {
      "needs_background": "light",
      "tags": []
     },
     "output_type": "display_data"
    }
   ],
   "source": [
    "plt.figure(figsize=(8, 10))\n",
    "sns.barplot(data = df, y=\"State/UTs\", x=\"Total Cases\")"
   ]
  },
  {
   "cell_type": "markdown",
   "metadata": {
    "id": "kL2cq-ubTCeA"
   },
   "source": [
    "**Observations**\n",
    "- number of cases are highest in maharastra,keral, Andhra pradesh,karnataka,tamil nadu.\n",
    "-lowest in arunachal pradesh, chandigarh, Manipur, Meghalya, Tripura\n",
    "-zero cases are shown in  many states which includes  Andaman ,Ladakh, Lakshadweep, Mizoram, Nagaland, Sikkim(colde area has lowest number of cases compare to hotter regions)"
   ]
  },
  {
   "cell_type": "code",
   "execution_count": 34,
   "metadata": {
    "colab": {
     "base_uri": "https://localhost:8080/",
     "height": 542
    },
    "id": "nRj7yC7zUOXR",
    "outputId": "ee7ce633-ca2a-43a8-d319-cc5ba97a06ed"
   },
   "outputs": [
    {
     "data": {
      "text/html": [
       "<html>\n",
       "<head><meta charset=\"utf-8\" /></head>\n",
       "<body>\n",
       "    <div>\n",
       "            <script src=\"https://cdnjs.cloudflare.com/ajax/libs/mathjax/2.7.5/MathJax.js?config=TeX-AMS-MML_SVG\"></script><script type=\"text/javascript\">if (window.MathJax) {MathJax.Hub.Config({SVG: {font: \"STIX-Web\"}});}</script>\n",
       "                <script type=\"text/javascript\">window.PlotlyConfig = {MathJaxConfig: 'local'};</script>\n",
       "        <script src=\"https://cdn.plot.ly/plotly-latest.min.js\"></script>    \n",
       "            <div id=\"0b007aea-ffff-4af8-a3c2-444b0f7b54ff\" class=\"plotly-graph-div\" style=\"height:525px; width:100%;\"></div>\n",
       "            <script type=\"text/javascript\">\n",
       "                \n",
       "                    window.PLOTLYENV=window.PLOTLYENV || {};\n",
       "                    \n",
       "                if (document.getElementById(\"0b007aea-ffff-4af8-a3c2-444b0f7b54ff\")) {\n",
       "                    Plotly.newPlot(\n",
       "                        '0b007aea-ffff-4af8-a3c2-444b0f7b54ff',\n",
       "                        [{\"alignmentgroup\": \"True\", \"hoverlabel\": {\"namelength\": 0}, \"hovertemplate\": \"State/UTs=%{x}<br>Total Cases=%{y}<br>Death Ratio (%)=%{marker.color}\", \"legendgroup\": \"\", \"marker\": {\"color\": [1.71, 0.68, 0.48, 0.93, 1.33, 1.31, 1.35, 0.04, 1.74, 1.84, 1.22, 1.25, 1.71, 1.36, 1.48, 1.26, 0.49, 1.02, 0.49, 1.33, 2.11, 1.58, 1.68, 0.38, 2.05, 0.62, 1.48, 2.72, 0.94, 1.29, 1.33, 0.59, 0.96, 1.33, 2.15, 1.19], \"coloraxis\": \"coloraxis\"}, \"name\": \"\", \"offsetgroup\": \"\", \"orientation\": \"v\", \"showlegend\": false, \"textposition\": \"auto\", \"type\": \"bar\", \"x\": [\"Andaman and Nicobar\", \"Andhra Pradesh\", \"Arunachal Pradesh\", \"Assam\", \"Bihar\", \"Chandigarh\", \"Chhattisgarh\", \"Daman and Diu\", \"Delhi\", \"Goa\", \"Gujarat\", \"Haryana\", \"Himachal Pradesh\", \"Jammu and Kashmir\", \"Jharkhand\", \"Karnataka\", \"Kerala\", \"Ladakh\", \"Lakshadweep\", \"Madhya Pradesh\", \"Maharashtra\", \"Manipur\", \"Meghalaya\", \"Mizoram\", \"Nagaland\", \"Odisha\", \"Puducherry\", \"Punjab\", \"Rajasthan\", \"Sikkim\", \"Tamil Nadu\", \"Telengana\", \"Tripura\", \"Uttar Pradesh\", \"Uttarakhand\", \"West Bengal\"], \"xaxis\": \"x\", \"y\": [7539, 1970008, 48565, 568257, 724917, 61960, 1002458, 10650, 1436401, 171295, 824922, 769956, 206369, 321725, 347223, 2908284, 3425473, 20345, 10207, 791862, 6315063, 99872, 65939, 40111, 28004, 979737, 121059, 599162, 953704, 26880, 2563544, 645997, 79026, 1708500, 342198, 1529295], \"yaxis\": \"y\"}],\n",
       "                        {\"barmode\": \"relative\", \"coloraxis\": {\"colorbar\": {\"title\": {\"text\": \"Death Ratio (%)\"}}, \"colorscale\": [[0.0, \"#0d0887\"], [0.1111111111111111, \"#46039f\"], [0.2222222222222222, \"#7201a8\"], [0.3333333333333333, \"#9c179e\"], [0.4444444444444444, \"#bd3786\"], [0.5555555555555556, \"#d8576b\"], [0.6666666666666666, \"#ed7953\"], [0.7777777777777778, \"#fb9f3a\"], [0.8888888888888888, \"#fdca26\"], [1.0, \"#f0f921\"]]}, \"legend\": {\"tracegroupgap\": 0}, \"template\": {\"data\": {\"bar\": [{\"error_x\": {\"color\": \"#2a3f5f\"}, \"error_y\": {\"color\": \"#2a3f5f\"}, \"marker\": {\"line\": {\"color\": \"#E5ECF6\", \"width\": 0.5}}, \"type\": \"bar\"}], \"barpolar\": [{\"marker\": {\"line\": {\"color\": \"#E5ECF6\", \"width\": 0.5}}, \"type\": \"barpolar\"}], \"carpet\": [{\"aaxis\": {\"endlinecolor\": \"#2a3f5f\", \"gridcolor\": \"white\", \"linecolor\": \"white\", \"minorgridcolor\": \"white\", \"startlinecolor\": \"#2a3f5f\"}, \"baxis\": {\"endlinecolor\": \"#2a3f5f\", \"gridcolor\": \"white\", \"linecolor\": \"white\", \"minorgridcolor\": \"white\", \"startlinecolor\": \"#2a3f5f\"}, \"type\": \"carpet\"}], \"choropleth\": [{\"colorbar\": {\"outlinewidth\": 0, \"ticks\": \"\"}, \"type\": \"choropleth\"}], \"contour\": [{\"colorbar\": {\"outlinewidth\": 0, \"ticks\": \"\"}, \"colorscale\": [[0.0, \"#0d0887\"], [0.1111111111111111, \"#46039f\"], [0.2222222222222222, \"#7201a8\"], [0.3333333333333333, \"#9c179e\"], [0.4444444444444444, \"#bd3786\"], [0.5555555555555556, \"#d8576b\"], [0.6666666666666666, \"#ed7953\"], [0.7777777777777778, \"#fb9f3a\"], [0.8888888888888888, \"#fdca26\"], [1.0, \"#f0f921\"]], \"type\": \"contour\"}], \"contourcarpet\": [{\"colorbar\": {\"outlinewidth\": 0, \"ticks\": \"\"}, \"type\": \"contourcarpet\"}], \"heatmap\": [{\"colorbar\": {\"outlinewidth\": 0, \"ticks\": \"\"}, \"colorscale\": [[0.0, \"#0d0887\"], [0.1111111111111111, \"#46039f\"], [0.2222222222222222, \"#7201a8\"], [0.3333333333333333, \"#9c179e\"], [0.4444444444444444, \"#bd3786\"], [0.5555555555555556, \"#d8576b\"], [0.6666666666666666, \"#ed7953\"], [0.7777777777777778, \"#fb9f3a\"], [0.8888888888888888, \"#fdca26\"], [1.0, \"#f0f921\"]], \"type\": \"heatmap\"}], \"heatmapgl\": [{\"colorbar\": {\"outlinewidth\": 0, \"ticks\": \"\"}, \"colorscale\": [[0.0, \"#0d0887\"], [0.1111111111111111, \"#46039f\"], [0.2222222222222222, \"#7201a8\"], [0.3333333333333333, \"#9c179e\"], [0.4444444444444444, \"#bd3786\"], [0.5555555555555556, \"#d8576b\"], [0.6666666666666666, \"#ed7953\"], [0.7777777777777778, \"#fb9f3a\"], [0.8888888888888888, \"#fdca26\"], [1.0, \"#f0f921\"]], \"type\": \"heatmapgl\"}], \"histogram\": [{\"marker\": {\"colorbar\": {\"outlinewidth\": 0, \"ticks\": \"\"}}, \"type\": \"histogram\"}], \"histogram2d\": [{\"colorbar\": {\"outlinewidth\": 0, \"ticks\": \"\"}, \"colorscale\": [[0.0, \"#0d0887\"], [0.1111111111111111, \"#46039f\"], [0.2222222222222222, \"#7201a8\"], [0.3333333333333333, \"#9c179e\"], [0.4444444444444444, \"#bd3786\"], [0.5555555555555556, \"#d8576b\"], [0.6666666666666666, \"#ed7953\"], [0.7777777777777778, \"#fb9f3a\"], [0.8888888888888888, \"#fdca26\"], [1.0, \"#f0f921\"]], \"type\": \"histogram2d\"}], \"histogram2dcontour\": [{\"colorbar\": {\"outlinewidth\": 0, \"ticks\": \"\"}, \"colorscale\": [[0.0, \"#0d0887\"], [0.1111111111111111, \"#46039f\"], [0.2222222222222222, \"#7201a8\"], [0.3333333333333333, \"#9c179e\"], [0.4444444444444444, \"#bd3786\"], [0.5555555555555556, \"#d8576b\"], [0.6666666666666666, \"#ed7953\"], [0.7777777777777778, \"#fb9f3a\"], [0.8888888888888888, \"#fdca26\"], [1.0, \"#f0f921\"]], \"type\": \"histogram2dcontour\"}], \"mesh3d\": [{\"colorbar\": {\"outlinewidth\": 0, \"ticks\": \"\"}, \"type\": \"mesh3d\"}], \"parcoords\": [{\"line\": {\"colorbar\": {\"outlinewidth\": 0, \"ticks\": \"\"}}, \"type\": \"parcoords\"}], \"pie\": [{\"automargin\": true, \"type\": \"pie\"}], \"scatter\": [{\"marker\": {\"colorbar\": {\"outlinewidth\": 0, \"ticks\": \"\"}}, \"type\": \"scatter\"}], \"scatter3d\": [{\"line\": {\"colorbar\": {\"outlinewidth\": 0, \"ticks\": \"\"}}, \"marker\": {\"colorbar\": {\"outlinewidth\": 0, \"ticks\": \"\"}}, \"type\": \"scatter3d\"}], \"scattercarpet\": [{\"marker\": {\"colorbar\": {\"outlinewidth\": 0, \"ticks\": \"\"}}, \"type\": \"scattercarpet\"}], \"scattergeo\": [{\"marker\": {\"colorbar\": {\"outlinewidth\": 0, \"ticks\": \"\"}}, \"type\": \"scattergeo\"}], \"scattergl\": [{\"marker\": {\"colorbar\": {\"outlinewidth\": 0, \"ticks\": \"\"}}, \"type\": \"scattergl\"}], \"scattermapbox\": [{\"marker\": {\"colorbar\": {\"outlinewidth\": 0, \"ticks\": \"\"}}, \"type\": \"scattermapbox\"}], \"scatterpolar\": [{\"marker\": {\"colorbar\": {\"outlinewidth\": 0, \"ticks\": \"\"}}, \"type\": \"scatterpolar\"}], \"scatterpolargl\": [{\"marker\": {\"colorbar\": {\"outlinewidth\": 0, \"ticks\": \"\"}}, \"type\": \"scatterpolargl\"}], \"scatterternary\": [{\"marker\": {\"colorbar\": {\"outlinewidth\": 0, \"ticks\": \"\"}}, \"type\": \"scatterternary\"}], \"surface\": [{\"colorbar\": {\"outlinewidth\": 0, \"ticks\": \"\"}, \"colorscale\": [[0.0, \"#0d0887\"], [0.1111111111111111, \"#46039f\"], [0.2222222222222222, \"#7201a8\"], [0.3333333333333333, \"#9c179e\"], [0.4444444444444444, \"#bd3786\"], [0.5555555555555556, \"#d8576b\"], [0.6666666666666666, \"#ed7953\"], [0.7777777777777778, \"#fb9f3a\"], [0.8888888888888888, \"#fdca26\"], [1.0, \"#f0f921\"]], \"type\": \"surface\"}], \"table\": [{\"cells\": {\"fill\": {\"color\": \"#EBF0F8\"}, \"line\": {\"color\": \"white\"}}, \"header\": {\"fill\": {\"color\": \"#C8D4E3\"}, \"line\": {\"color\": \"white\"}}, \"type\": \"table\"}]}, \"layout\": {\"annotationdefaults\": {\"arrowcolor\": \"#2a3f5f\", \"arrowhead\": 0, \"arrowwidth\": 1}, \"coloraxis\": {\"colorbar\": {\"outlinewidth\": 0, \"ticks\": \"\"}}, \"colorscale\": {\"diverging\": [[0, \"#8e0152\"], [0.1, \"#c51b7d\"], [0.2, \"#de77ae\"], [0.3, \"#f1b6da\"], [0.4, \"#fde0ef\"], [0.5, \"#f7f7f7\"], [0.6, \"#e6f5d0\"], [0.7, \"#b8e186\"], [0.8, \"#7fbc41\"], [0.9, \"#4d9221\"], [1, \"#276419\"]], \"sequential\": [[0.0, \"#0d0887\"], [0.1111111111111111, \"#46039f\"], [0.2222222222222222, \"#7201a8\"], [0.3333333333333333, \"#9c179e\"], [0.4444444444444444, \"#bd3786\"], [0.5555555555555556, \"#d8576b\"], [0.6666666666666666, \"#ed7953\"], [0.7777777777777778, \"#fb9f3a\"], [0.8888888888888888, \"#fdca26\"], [1.0, \"#f0f921\"]], \"sequentialminus\": [[0.0, \"#0d0887\"], [0.1111111111111111, \"#46039f\"], [0.2222222222222222, \"#7201a8\"], [0.3333333333333333, \"#9c179e\"], [0.4444444444444444, \"#bd3786\"], [0.5555555555555556, \"#d8576b\"], [0.6666666666666666, \"#ed7953\"], [0.7777777777777778, \"#fb9f3a\"], [0.8888888888888888, \"#fdca26\"], [1.0, \"#f0f921\"]]}, \"colorway\": [\"#636efa\", \"#EF553B\", \"#00cc96\", \"#ab63fa\", \"#FFA15A\", \"#19d3f3\", \"#FF6692\", \"#B6E880\", \"#FF97FF\", \"#FECB52\"], \"font\": {\"color\": \"#2a3f5f\"}, \"geo\": {\"bgcolor\": \"white\", \"lakecolor\": \"white\", \"landcolor\": \"#E5ECF6\", \"showlakes\": true, \"showland\": true, \"subunitcolor\": \"white\"}, \"hoverlabel\": {\"align\": \"left\"}, \"hovermode\": \"closest\", \"mapbox\": {\"style\": \"light\"}, \"paper_bgcolor\": \"white\", \"plot_bgcolor\": \"#E5ECF6\", \"polar\": {\"angularaxis\": {\"gridcolor\": \"white\", \"linecolor\": \"white\", \"ticks\": \"\"}, \"bgcolor\": \"#E5ECF6\", \"radialaxis\": {\"gridcolor\": \"white\", \"linecolor\": \"white\", \"ticks\": \"\"}}, \"scene\": {\"xaxis\": {\"backgroundcolor\": \"#E5ECF6\", \"gridcolor\": \"white\", \"gridwidth\": 2, \"linecolor\": \"white\", \"showbackground\": true, \"ticks\": \"\", \"zerolinecolor\": \"white\"}, \"yaxis\": {\"backgroundcolor\": \"#E5ECF6\", \"gridcolor\": \"white\", \"gridwidth\": 2, \"linecolor\": \"white\", \"showbackground\": true, \"ticks\": \"\", \"zerolinecolor\": \"white\"}, \"zaxis\": {\"backgroundcolor\": \"#E5ECF6\", \"gridcolor\": \"white\", \"gridwidth\": 2, \"linecolor\": \"white\", \"showbackground\": true, \"ticks\": \"\", \"zerolinecolor\": \"white\"}}, \"shapedefaults\": {\"line\": {\"color\": \"#2a3f5f\"}}, \"ternary\": {\"aaxis\": {\"gridcolor\": \"white\", \"linecolor\": \"white\", \"ticks\": \"\"}, \"baxis\": {\"gridcolor\": \"white\", \"linecolor\": \"white\", \"ticks\": \"\"}, \"bgcolor\": \"#E5ECF6\", \"caxis\": {\"gridcolor\": \"white\", \"linecolor\": \"white\", \"ticks\": \"\"}}, \"title\": {\"x\": 0.05}, \"xaxis\": {\"automargin\": true, \"gridcolor\": \"white\", \"linecolor\": \"white\", \"ticks\": \"\", \"title\": {\"standoff\": 15}, \"zerolinecolor\": \"white\", \"zerolinewidth\": 2}, \"yaxis\": {\"automargin\": true, \"gridcolor\": \"white\", \"linecolor\": \"white\", \"ticks\": \"\", \"title\": {\"standoff\": 15}, \"zerolinecolor\": \"white\", \"zerolinewidth\": 2}}}, \"title\": {\"text\": \"Total Cases as per each State : \"}, \"xaxis\": {\"anchor\": \"y\", \"domain\": [0.0, 1.0], \"title\": {\"text\": \"State/UTs\"}}, \"yaxis\": {\"anchor\": \"x\", \"domain\": [0.0, 1.0], \"title\": {\"text\": \"Total Cases\"}}},\n",
       "                        {\"responsive\": true}\n",
       "                    ).then(function(){\n",
       "                            \n",
       "var gd = document.getElementById('0b007aea-ffff-4af8-a3c2-444b0f7b54ff');\n",
       "var x = new MutationObserver(function (mutations, observer) {{\n",
       "        var display = window.getComputedStyle(gd).display;\n",
       "        if (!display || display === 'none') {{\n",
       "            console.log([gd, 'removed!']);\n",
       "            Plotly.purge(gd);\n",
       "            observer.disconnect();\n",
       "        }}\n",
       "}});\n",
       "\n",
       "// Listen for the removal of the full notebook cells\n",
       "var notebookContainer = gd.closest('#notebook-container');\n",
       "if (notebookContainer) {{\n",
       "    x.observe(notebookContainer, {childList: true});\n",
       "}}\n",
       "\n",
       "// Listen for the clearing of the current output cell\n",
       "var outputEl = gd.closest('.output');\n",
       "if (outputEl) {{\n",
       "    x.observe(outputEl, {childList: true});\n",
       "}}\n",
       "\n",
       "                        })\n",
       "                };\n",
       "                \n",
       "            </script>\n",
       "        </div>\n",
       "</body>\n",
       "</html>"
      ]
     },
     "metadata": {
      "tags": []
     },
     "output_type": "display_data"
    }
   ],
   "source": [
    "px.bar(df, x=\"State/UTs\", y=\"Total Cases\", color=\"Death Ratio (%)\", title=\"Total Cases as per each State : \")"
   ]
  },
  {
   "cell_type": "markdown",
   "metadata": {
    "id": "oEy-C_9tUsZ_"
   },
   "source": [
    "-Highest death ratio in Maharastra ,numer of total cases are also higher there\n",
    "-\n",
    "\n",
    "-uttrakhand has lower number of total cases compare to other still death rate is high there.\n",
    "-same goes with Punjab,Goa\n",
    "\n",
    "> Keral has High number of cases still their death ratio is lower.\n",
    "\n",
    "\n",
    "\n",
    "\n",
    "\n",
    "\n"
   ]
  },
  {
   "cell_type": "code",
   "execution_count": 35,
   "metadata": {
    "colab": {
     "base_uri": "https://localhost:8080/",
     "height": 542
    },
    "id": "5ikjwCauWTzS",
    "outputId": "8f5c498f-fe61-4a59-986a-c9d7999f6a55"
   },
   "outputs": [
    {
     "data": {
      "text/html": [
       "<html>\n",
       "<head><meta charset=\"utf-8\" /></head>\n",
       "<body>\n",
       "    <div>\n",
       "            <script src=\"https://cdnjs.cloudflare.com/ajax/libs/mathjax/2.7.5/MathJax.js?config=TeX-AMS-MML_SVG\"></script><script type=\"text/javascript\">if (window.MathJax) {MathJax.Hub.Config({SVG: {font: \"STIX-Web\"}});}</script>\n",
       "                <script type=\"text/javascript\">window.PlotlyConfig = {MathJaxConfig: 'local'};</script>\n",
       "        <script src=\"https://cdn.plot.ly/plotly-latest.min.js\"></script>    \n",
       "            <div id=\"da1a7ba0-a78e-4905-98b5-204c75710e08\" class=\"plotly-graph-div\" style=\"height:525px; width:100%;\"></div>\n",
       "            <script type=\"text/javascript\">\n",
       "                \n",
       "                    window.PLOTLYENV=window.PLOTLYENV || {};\n",
       "                    \n",
       "                if (document.getElementById(\"da1a7ba0-a78e-4905-98b5-204c75710e08\")) {\n",
       "                    Plotly.newPlot(\n",
       "                        'da1a7ba0-a78e-4905-98b5-204c75710e08',\n",
       "                        [{\"hoverlabel\": {\"namelength\": 0}, \"hovertemplate\": \"State/UTs=Andaman and Nicobar<br>Active Ratio (%)=%{x}<br>Death Ratio (%)=%{y}\", \"legendgroup\": \"State/UTs=Andaman and Nicobar\", \"marker\": {\"color\": \"#636efa\", \"symbol\": \"circle\"}, \"mode\": \"markers\", \"name\": \"State/UTs=Andaman and Nicobar\", \"showlegend\": true, \"type\": \"scatter\", \"x\": [0.08], \"xaxis\": \"x\", \"y\": [1.71], \"yaxis\": \"y\"}, {\"hoverlabel\": {\"namelength\": 0}, \"hovertemplate\": \"State/UTs=Andhra Pradesh<br>Active Ratio (%)=%{x}<br>Death Ratio (%)=%{y}\", \"legendgroup\": \"State/UTs=Andhra Pradesh\", \"marker\": {\"color\": \"#EF553B\", \"symbol\": \"circle\"}, \"mode\": \"markers\", \"name\": \"State/UTs=Andhra Pradesh\", \"showlegend\": true, \"type\": \"scatter\", \"x\": [1.04], \"xaxis\": \"x\", \"y\": [0.68], \"yaxis\": \"y\"}, {\"hoverlabel\": {\"namelength\": 0}, \"hovertemplate\": \"State/UTs=Arunachal Pradesh<br>Active Ratio (%)=%{x}<br>Death Ratio (%)=%{y}\", \"legendgroup\": \"State/UTs=Arunachal Pradesh\", \"marker\": {\"color\": \"#00cc96\", \"symbol\": \"circle\"}, \"mode\": \"markers\", \"name\": \"State/UTs=Arunachal Pradesh\", \"showlegend\": true, \"type\": \"scatter\", \"x\": [7.22], \"xaxis\": \"x\", \"y\": [0.48], \"yaxis\": \"y\"}, {\"hoverlabel\": {\"namelength\": 0}, \"hovertemplate\": \"State/UTs=Assam<br>Active Ratio (%)=%{x}<br>Death Ratio (%)=%{y}\", \"legendgroup\": \"State/UTs=Assam\", \"marker\": {\"color\": \"#ab63fa\", \"symbol\": \"circle\"}, \"mode\": \"markers\", \"name\": \"State/UTs=Assam\", \"showlegend\": true, \"type\": \"scatter\", \"x\": [2.19], \"xaxis\": \"x\", \"y\": [0.93], \"yaxis\": \"y\"}, {\"hoverlabel\": {\"namelength\": 0}, \"hovertemplate\": \"State/UTs=Bihar<br>Active Ratio (%)=%{x}<br>Death Ratio (%)=%{y}\", \"legendgroup\": \"State/UTs=Bihar\", \"marker\": {\"color\": \"#FFA15A\", \"symbol\": \"circle\"}, \"mode\": \"markers\", \"name\": \"State/UTs=Bihar\", \"showlegend\": true, \"type\": \"scatter\", \"x\": [0.06], \"xaxis\": \"x\", \"y\": [1.33], \"yaxis\": \"y\"}, {\"hoverlabel\": {\"namelength\": 0}, \"hovertemplate\": \"State/UTs=Chandigarh<br>Active Ratio (%)=%{x}<br>Death Ratio (%)=%{y}\", \"legendgroup\": \"State/UTs=Chandigarh\", \"marker\": {\"color\": \"#19d3f3\", \"symbol\": \"circle\"}, \"mode\": \"markers\", \"name\": \"State/UTs=Chandigarh\", \"showlegend\": true, \"type\": \"scatter\", \"x\": [0.05], \"xaxis\": \"x\", \"y\": [1.31], \"yaxis\": \"y\"}, {\"hoverlabel\": {\"namelength\": 0}, \"hovertemplate\": \"State/UTs=Chhattisgarh<br>Active Ratio (%)=%{x}<br>Death Ratio (%)=%{y}\", \"legendgroup\": \"State/UTs=Chhattisgarh\", \"marker\": {\"color\": \"#FF6692\", \"symbol\": \"circle\"}, \"mode\": \"markers\", \"name\": \"State/UTs=Chhattisgarh\", \"showlegend\": true, \"type\": \"scatter\", \"x\": [0.19], \"xaxis\": \"x\", \"y\": [1.35], \"yaxis\": \"y\"}, {\"hoverlabel\": {\"namelength\": 0}, \"hovertemplate\": \"State/UTs=Daman and Diu<br>Active Ratio (%)=%{x}<br>Death Ratio (%)=%{y}\", \"legendgroup\": \"State/UTs=Daman and Diu\", \"marker\": {\"color\": \"#B6E880\", \"symbol\": \"circle\"}, \"mode\": \"markers\", \"name\": \"State/UTs=Daman and Diu\", \"showlegend\": true, \"type\": \"scatter\", \"x\": [0.14], \"xaxis\": \"x\", \"y\": [0.04], \"yaxis\": \"y\"}, {\"hoverlabel\": {\"namelength\": 0}, \"hovertemplate\": \"State/UTs=Delhi<br>Active Ratio (%)=%{x}<br>Death Ratio (%)=%{y}\", \"legendgroup\": \"State/UTs=Delhi\", \"marker\": {\"color\": \"#FF97FF\", \"symbol\": \"circle\"}, \"mode\": \"markers\", \"name\": \"State/UTs=Delhi\", \"showlegend\": true, \"type\": \"scatter\", \"x\": [0.04], \"xaxis\": \"x\", \"y\": [1.74], \"yaxis\": \"y\"}, {\"hoverlabel\": {\"namelength\": 0}, \"hovertemplate\": \"State/UTs=Goa<br>Active Ratio (%)=%{x}<br>Death Ratio (%)=%{y}\", \"legendgroup\": \"State/UTs=Goa\", \"marker\": {\"color\": \"#FECB52\", \"symbol\": \"circle\"}, \"mode\": \"markers\", \"name\": \"State/UTs=Goa\", \"showlegend\": true, \"type\": \"scatter\", \"x\": [0.6], \"xaxis\": \"x\", \"y\": [1.84], \"yaxis\": \"y\"}, {\"hoverlabel\": {\"namelength\": 0}, \"hovertemplate\": \"State/UTs=Gujarat<br>Active Ratio (%)=%{x}<br>Death Ratio (%)=%{y}\", \"legendgroup\": \"State/UTs=Gujarat\", \"marker\": {\"color\": \"#636efa\", \"symbol\": \"circle\"}, \"mode\": \"markers\", \"name\": \"State/UTs=Gujarat\", \"showlegend\": true, \"type\": \"scatter\", \"x\": [0.03], \"xaxis\": \"x\", \"y\": [1.22], \"yaxis\": \"y\"}, {\"hoverlabel\": {\"namelength\": 0}, \"hovertemplate\": \"State/UTs=Haryana<br>Active Ratio (%)=%{x}<br>Death Ratio (%)=%{y}\", \"legendgroup\": \"State/UTs=Haryana\", \"marker\": {\"color\": \"#EF553B\", \"symbol\": \"circle\"}, \"mode\": \"markers\", \"name\": \"State/UTs=Haryana\", \"showlegend\": true, \"type\": \"scatter\", \"x\": [0.09], \"xaxis\": \"x\", \"y\": [1.25], \"yaxis\": \"y\"}, {\"hoverlabel\": {\"namelength\": 0}, \"hovertemplate\": \"State/UTs=Himachal Pradesh<br>Active Ratio (%)=%{x}<br>Death Ratio (%)=%{y}\", \"legendgroup\": \"State/UTs=Himachal Pradesh\", \"marker\": {\"color\": \"#00cc96\", \"symbol\": \"circle\"}, \"mode\": \"markers\", \"name\": \"State/UTs=Himachal Pradesh\", \"showlegend\": true, \"type\": \"scatter\", \"x\": [0.63], \"xaxis\": \"x\", \"y\": [1.71], \"yaxis\": \"y\"}, {\"hoverlabel\": {\"namelength\": 0}, \"hovertemplate\": \"State/UTs=Jammu and Kashmir<br>Active Ratio (%)=%{x}<br>Death Ratio (%)=%{y}\", \"legendgroup\": \"State/UTs=Jammu and Kashmir\", \"marker\": {\"color\": \"#ab63fa\", \"symbol\": \"circle\"}, \"mode\": \"markers\", \"name\": \"State/UTs=Jammu and Kashmir\", \"showlegend\": true, \"type\": \"scatter\", \"x\": [0.39], \"xaxis\": \"x\", \"y\": [1.36], \"yaxis\": \"y\"}, {\"hoverlabel\": {\"namelength\": 0}, \"hovertemplate\": \"State/UTs=Jharkhand<br>Active Ratio (%)=%{x}<br>Death Ratio (%)=%{y}\", \"legendgroup\": \"State/UTs=Jharkhand\", \"marker\": {\"color\": \"#FFA15A\", \"symbol\": \"circle\"}, \"mode\": \"markers\", \"name\": \"State/UTs=Jharkhand\", \"showlegend\": true, \"type\": \"scatter\", \"x\": [0.07], \"xaxis\": \"x\", \"y\": [1.48], \"yaxis\": \"y\"}, {\"hoverlabel\": {\"namelength\": 0}, \"hovertemplate\": \"State/UTs=Karnataka<br>Active Ratio (%)=%{x}<br>Death Ratio (%)=%{y}\", \"legendgroup\": \"State/UTs=Karnataka\", \"marker\": {\"color\": \"#19d3f3\", \"symbol\": \"circle\"}, \"mode\": \"markers\", \"name\": \"State/UTs=Karnataka\", \"showlegend\": true, \"type\": \"scatter\", \"x\": [0.83], \"xaxis\": \"x\", \"y\": [1.26], \"yaxis\": \"y\"}, {\"hoverlabel\": {\"namelength\": 0}, \"hovertemplate\": \"State/UTs=Kerala<br>Active Ratio (%)=%{x}<br>Death Ratio (%)=%{y}\", \"legendgroup\": \"State/UTs=Kerala\", \"marker\": {\"color\": \"#FF6692\", \"symbol\": \"circle\"}, \"mode\": \"markers\", \"name\": \"State/UTs=Kerala\", \"showlegend\": true, \"type\": \"scatter\", \"x\": [4.84], \"xaxis\": \"x\", \"y\": [0.49], \"yaxis\": \"y\"}, {\"hoverlabel\": {\"namelength\": 0}, \"hovertemplate\": \"State/UTs=Ladakh<br>Active Ratio (%)=%{x}<br>Death Ratio (%)=%{y}\", \"legendgroup\": \"State/UTs=Ladakh\", \"marker\": {\"color\": \"#B6E880\", \"symbol\": \"circle\"}, \"mode\": \"markers\", \"name\": \"State/UTs=Ladakh\", \"showlegend\": true, \"type\": \"scatter\", \"x\": [0.28], \"xaxis\": \"x\", \"y\": [1.02], \"yaxis\": \"y\"}, {\"hoverlabel\": {\"namelength\": 0}, \"hovertemplate\": \"State/UTs=Lakshadweep<br>Active Ratio (%)=%{x}<br>Death Ratio (%)=%{y}\", \"legendgroup\": \"State/UTs=Lakshadweep\", \"marker\": {\"color\": \"#FF97FF\", \"symbol\": \"circle\"}, \"mode\": \"markers\", \"name\": \"State/UTs=Lakshadweep\", \"showlegend\": true, \"type\": \"scatter\", \"x\": [0.77], \"xaxis\": \"x\", \"y\": [0.49], \"yaxis\": \"y\"}, {\"hoverlabel\": {\"namelength\": 0}, \"hovertemplate\": \"State/UTs=Madhya Pradesh<br>Active Ratio (%)=%{x}<br>Death Ratio (%)=%{y}\", \"legendgroup\": \"State/UTs=Madhya Pradesh\", \"marker\": {\"color\": \"#FECB52\", \"symbol\": \"circle\"}, \"mode\": \"markers\", \"name\": \"State/UTs=Madhya Pradesh\", \"showlegend\": true, \"type\": \"scatter\", \"x\": [0.02], \"xaxis\": \"x\", \"y\": [1.33], \"yaxis\": \"y\"}, {\"hoverlabel\": {\"namelength\": 0}, \"hovertemplate\": \"State/UTs=Maharashtra<br>Active Ratio (%)=%{x}<br>Death Ratio (%)=%{y}\", \"legendgroup\": \"State/UTs=Maharashtra\", \"marker\": {\"color\": \"#636efa\", \"symbol\": \"circle\"}, \"mode\": \"markers\", \"name\": \"State/UTs=Maharashtra\", \"showlegend\": true, \"type\": \"scatter\", \"x\": [1.25], \"xaxis\": \"x\", \"y\": [2.11], \"yaxis\": \"y\"}, {\"hoverlabel\": {\"namelength\": 0}, \"hovertemplate\": \"State/UTs=Manipur<br>Active Ratio (%)=%{x}<br>Death Ratio (%)=%{y}\", \"legendgroup\": \"State/UTs=Manipur\", \"marker\": {\"color\": \"#EF553B\", \"symbol\": \"circle\"}, \"mode\": \"markers\", \"name\": \"State/UTs=Manipur\", \"showlegend\": true, \"type\": \"scatter\", \"x\": [9.83], \"xaxis\": \"x\", \"y\": [1.58], \"yaxis\": \"y\"}, {\"hoverlabel\": {\"namelength\": 0}, \"hovertemplate\": \"State/UTs=Meghalaya<br>Active Ratio (%)=%{x}<br>Death Ratio (%)=%{y}\", \"legendgroup\": \"State/UTs=Meghalaya\", \"marker\": {\"color\": \"#00cc96\", \"symbol\": \"circle\"}, \"mode\": \"markers\", \"name\": \"State/UTs=Meghalaya\", \"showlegend\": true, \"type\": \"scatter\", \"x\": [8.86], \"xaxis\": \"x\", \"y\": [1.68], \"yaxis\": \"y\"}, {\"hoverlabel\": {\"namelength\": 0}, \"hovertemplate\": \"State/UTs=Mizoram<br>Active Ratio (%)=%{x}<br>Death Ratio (%)=%{y}\", \"legendgroup\": \"State/UTs=Mizoram\", \"marker\": {\"color\": \"#ab63fa\", \"symbol\": \"circle\"}, \"mode\": \"markers\", \"name\": \"State/UTs=Mizoram\", \"showlegend\": true, \"type\": \"scatter\", \"x\": [30.7], \"xaxis\": \"x\", \"y\": [0.38], \"yaxis\": \"y\"}, {\"hoverlabel\": {\"namelength\": 0}, \"hovertemplate\": \"State/UTs=Nagaland<br>Active Ratio (%)=%{x}<br>Death Ratio (%)=%{y}\", \"legendgroup\": \"State/UTs=Nagaland\", \"marker\": {\"color\": \"#FFA15A\", \"symbol\": \"circle\"}, \"mode\": \"markers\", \"name\": \"State/UTs=Nagaland\", \"showlegend\": true, \"type\": \"scatter\", \"x\": [4.64], \"xaxis\": \"x\", \"y\": [2.05], \"yaxis\": \"y\"}, {\"hoverlabel\": {\"namelength\": 0}, \"hovertemplate\": \"State/UTs=Odisha<br>Active Ratio (%)=%{x}<br>Death Ratio (%)=%{y}\", \"legendgroup\": \"State/UTs=Odisha\", \"marker\": {\"color\": \"#19d3f3\", \"symbol\": \"circle\"}, \"mode\": \"markers\", \"name\": \"State/UTs=Odisha\", \"showlegend\": true, \"type\": \"scatter\", \"x\": [1.36], \"xaxis\": \"x\", \"y\": [0.62], \"yaxis\": \"y\"}, {\"hoverlabel\": {\"namelength\": 0}, \"hovertemplate\": \"State/UTs=Puducherry<br>Active Ratio (%)=%{x}<br>Death Ratio (%)=%{y}\", \"legendgroup\": \"State/UTs=Puducherry\", \"marker\": {\"color\": \"#FF6692\", \"symbol\": \"circle\"}, \"mode\": \"markers\", \"name\": \"State/UTs=Puducherry\", \"showlegend\": true, \"type\": \"scatter\", \"x\": [0.78], \"xaxis\": \"x\", \"y\": [1.48], \"yaxis\": \"y\"}, {\"hoverlabel\": {\"namelength\": 0}, \"hovertemplate\": \"State/UTs=Punjab<br>Active Ratio (%)=%{x}<br>Death Ratio (%)=%{y}\", \"legendgroup\": \"State/UTs=Punjab\", \"marker\": {\"color\": \"#B6E880\", \"symbol\": \"circle\"}, \"mode\": \"markers\", \"name\": \"State/UTs=Punjab\", \"showlegend\": true, \"type\": \"scatter\", \"x\": [0.08], \"xaxis\": \"x\", \"y\": [2.72], \"yaxis\": \"y\"}, {\"hoverlabel\": {\"namelength\": 0}, \"hovertemplate\": \"State/UTs=Rajasthan<br>Active Ratio (%)=%{x}<br>Death Ratio (%)=%{y}\", \"legendgroup\": \"State/UTs=Rajasthan\", \"marker\": {\"color\": \"#FF97FF\", \"symbol\": \"circle\"}, \"mode\": \"markers\", \"name\": \"State/UTs=Rajasthan\", \"showlegend\": true, \"type\": \"scatter\", \"x\": [0.03], \"xaxis\": \"x\", \"y\": [0.94], \"yaxis\": \"y\"}, {\"hoverlabel\": {\"namelength\": 0}, \"hovertemplate\": \"State/UTs=Sikkim<br>Active Ratio (%)=%{x}<br>Death Ratio (%)=%{y}\", \"legendgroup\": \"State/UTs=Sikkim\", \"marker\": {\"color\": \"#FECB52\", \"symbol\": \"circle\"}, \"mode\": \"markers\", \"name\": \"State/UTs=Sikkim\", \"showlegend\": true, \"type\": \"scatter\", \"x\": [12.36], \"xaxis\": \"x\", \"y\": [1.29], \"yaxis\": \"y\"}, {\"hoverlabel\": {\"namelength\": 0}, \"hovertemplate\": \"State/UTs=Tamil Nadu<br>Active Ratio (%)=%{x}<br>Death Ratio (%)=%{y}\", \"legendgroup\": \"State/UTs=Tamil Nadu\", \"marker\": {\"color\": \"#636efa\", \"symbol\": \"circle\"}, \"mode\": \"markers\", \"name\": \"State/UTs=Tamil Nadu\", \"showlegend\": true, \"type\": \"scatter\", \"x\": [0.8], \"xaxis\": \"x\", \"y\": [1.33], \"yaxis\": \"y\"}, {\"hoverlabel\": {\"namelength\": 0}, \"hovertemplate\": \"State/UTs=Telengana<br>Active Ratio (%)=%{x}<br>Death Ratio (%)=%{y}\", \"legendgroup\": \"State/UTs=Telengana\", \"marker\": {\"color\": \"#EF553B\", \"symbol\": \"circle\"}, \"mode\": \"markers\", \"name\": \"State/UTs=Telengana\", \"showlegend\": true, \"type\": \"scatter\", \"x\": [1.37], \"xaxis\": \"x\", \"y\": [0.59], \"yaxis\": \"y\"}, {\"hoverlabel\": {\"namelength\": 0}, \"hovertemplate\": \"State/UTs=Tripura<br>Active Ratio (%)=%{x}<br>Death Ratio (%)=%{y}\", \"legendgroup\": \"State/UTs=Tripura\", \"marker\": {\"color\": \"#00cc96\", \"symbol\": \"circle\"}, \"mode\": \"markers\", \"name\": \"State/UTs=Tripura\", \"showlegend\": true, \"type\": \"scatter\", \"x\": [3.93], \"xaxis\": \"x\", \"y\": [0.96], \"yaxis\": \"y\"}, {\"hoverlabel\": {\"namelength\": 0}, \"hovertemplate\": \"State/UTs=Uttar Pradesh<br>Active Ratio (%)=%{x}<br>Death Ratio (%)=%{y}\", \"legendgroup\": \"State/UTs=Uttar Pradesh\", \"marker\": {\"color\": \"#ab63fa\", \"symbol\": \"circle\"}, \"mode\": \"markers\", \"name\": \"State/UTs=Uttar Pradesh\", \"showlegend\": true, \"type\": \"scatter\", \"x\": [0.04], \"xaxis\": \"x\", \"y\": [1.33], \"yaxis\": \"y\"}, {\"hoverlabel\": {\"namelength\": 0}, \"hovertemplate\": \"State/UTs=Uttarakhand<br>Active Ratio (%)=%{x}<br>Death Ratio (%)=%{y}\", \"legendgroup\": \"State/UTs=Uttarakhand\", \"marker\": {\"color\": \"#FFA15A\", \"symbol\": \"circle\"}, \"mode\": \"markers\", \"name\": \"State/UTs=Uttarakhand\", \"showlegend\": true, \"type\": \"scatter\", \"x\": [0.17], \"xaxis\": \"x\", \"y\": [2.15], \"yaxis\": \"y\"}, {\"hoverlabel\": {\"namelength\": 0}, \"hovertemplate\": \"State/UTs=West Bengal<br>Active Ratio (%)=%{x}<br>Death Ratio (%)=%{y}\", \"legendgroup\": \"State/UTs=West Bengal\", \"marker\": {\"color\": \"#19d3f3\", \"symbol\": \"circle\"}, \"mode\": \"markers\", \"name\": \"State/UTs=West Bengal\", \"showlegend\": true, \"type\": \"scatter\", \"x\": [0.71], \"xaxis\": \"x\", \"y\": [1.19], \"yaxis\": \"y\"}],\n",
       "                        {\"legend\": {\"tracegroupgap\": 0}, \"margin\": {\"t\": 60}, \"template\": {\"data\": {\"bar\": [{\"error_x\": {\"color\": \"#2a3f5f\"}, \"error_y\": {\"color\": \"#2a3f5f\"}, \"marker\": {\"line\": {\"color\": \"#E5ECF6\", \"width\": 0.5}}, \"type\": \"bar\"}], \"barpolar\": [{\"marker\": {\"line\": {\"color\": \"#E5ECF6\", \"width\": 0.5}}, \"type\": \"barpolar\"}], \"carpet\": [{\"aaxis\": {\"endlinecolor\": \"#2a3f5f\", \"gridcolor\": \"white\", \"linecolor\": \"white\", \"minorgridcolor\": \"white\", \"startlinecolor\": \"#2a3f5f\"}, \"baxis\": {\"endlinecolor\": \"#2a3f5f\", \"gridcolor\": \"white\", \"linecolor\": \"white\", \"minorgridcolor\": \"white\", \"startlinecolor\": \"#2a3f5f\"}, \"type\": \"carpet\"}], \"choropleth\": [{\"colorbar\": {\"outlinewidth\": 0, \"ticks\": \"\"}, \"type\": \"choropleth\"}], \"contour\": [{\"colorbar\": {\"outlinewidth\": 0, \"ticks\": \"\"}, \"colorscale\": [[0.0, \"#0d0887\"], [0.1111111111111111, \"#46039f\"], [0.2222222222222222, \"#7201a8\"], [0.3333333333333333, \"#9c179e\"], [0.4444444444444444, \"#bd3786\"], [0.5555555555555556, \"#d8576b\"], [0.6666666666666666, \"#ed7953\"], [0.7777777777777778, \"#fb9f3a\"], [0.8888888888888888, \"#fdca26\"], [1.0, \"#f0f921\"]], \"type\": \"contour\"}], \"contourcarpet\": [{\"colorbar\": {\"outlinewidth\": 0, \"ticks\": \"\"}, \"type\": \"contourcarpet\"}], \"heatmap\": [{\"colorbar\": {\"outlinewidth\": 0, \"ticks\": \"\"}, \"colorscale\": [[0.0, \"#0d0887\"], [0.1111111111111111, \"#46039f\"], [0.2222222222222222, \"#7201a8\"], [0.3333333333333333, \"#9c179e\"], [0.4444444444444444, \"#bd3786\"], [0.5555555555555556, \"#d8576b\"], [0.6666666666666666, \"#ed7953\"], [0.7777777777777778, \"#fb9f3a\"], [0.8888888888888888, \"#fdca26\"], [1.0, \"#f0f921\"]], \"type\": \"heatmap\"}], \"heatmapgl\": [{\"colorbar\": {\"outlinewidth\": 0, \"ticks\": \"\"}, \"colorscale\": [[0.0, \"#0d0887\"], [0.1111111111111111, \"#46039f\"], [0.2222222222222222, \"#7201a8\"], [0.3333333333333333, \"#9c179e\"], [0.4444444444444444, \"#bd3786\"], [0.5555555555555556, \"#d8576b\"], [0.6666666666666666, \"#ed7953\"], [0.7777777777777778, \"#fb9f3a\"], [0.8888888888888888, \"#fdca26\"], [1.0, \"#f0f921\"]], \"type\": \"heatmapgl\"}], \"histogram\": [{\"marker\": {\"colorbar\": {\"outlinewidth\": 0, \"ticks\": \"\"}}, \"type\": \"histogram\"}], \"histogram2d\": [{\"colorbar\": {\"outlinewidth\": 0, \"ticks\": \"\"}, \"colorscale\": [[0.0, \"#0d0887\"], [0.1111111111111111, \"#46039f\"], [0.2222222222222222, \"#7201a8\"], [0.3333333333333333, \"#9c179e\"], [0.4444444444444444, \"#bd3786\"], [0.5555555555555556, \"#d8576b\"], [0.6666666666666666, \"#ed7953\"], [0.7777777777777778, \"#fb9f3a\"], [0.8888888888888888, \"#fdca26\"], [1.0, \"#f0f921\"]], \"type\": \"histogram2d\"}], \"histogram2dcontour\": [{\"colorbar\": {\"outlinewidth\": 0, \"ticks\": \"\"}, \"colorscale\": [[0.0, \"#0d0887\"], [0.1111111111111111, \"#46039f\"], [0.2222222222222222, \"#7201a8\"], [0.3333333333333333, \"#9c179e\"], [0.4444444444444444, \"#bd3786\"], [0.5555555555555556, \"#d8576b\"], [0.6666666666666666, \"#ed7953\"], [0.7777777777777778, \"#fb9f3a\"], [0.8888888888888888, \"#fdca26\"], [1.0, \"#f0f921\"]], \"type\": \"histogram2dcontour\"}], \"mesh3d\": [{\"colorbar\": {\"outlinewidth\": 0, \"ticks\": \"\"}, \"type\": \"mesh3d\"}], \"parcoords\": [{\"line\": {\"colorbar\": {\"outlinewidth\": 0, \"ticks\": \"\"}}, \"type\": \"parcoords\"}], \"pie\": [{\"automargin\": true, \"type\": \"pie\"}], \"scatter\": [{\"marker\": {\"colorbar\": {\"outlinewidth\": 0, \"ticks\": \"\"}}, \"type\": \"scatter\"}], \"scatter3d\": [{\"line\": {\"colorbar\": {\"outlinewidth\": 0, \"ticks\": \"\"}}, \"marker\": {\"colorbar\": {\"outlinewidth\": 0, \"ticks\": \"\"}}, \"type\": \"scatter3d\"}], \"scattercarpet\": [{\"marker\": {\"colorbar\": {\"outlinewidth\": 0, \"ticks\": \"\"}}, \"type\": \"scattercarpet\"}], \"scattergeo\": [{\"marker\": {\"colorbar\": {\"outlinewidth\": 0, \"ticks\": \"\"}}, \"type\": \"scattergeo\"}], \"scattergl\": [{\"marker\": {\"colorbar\": {\"outlinewidth\": 0, \"ticks\": \"\"}}, \"type\": \"scattergl\"}], \"scattermapbox\": [{\"marker\": {\"colorbar\": {\"outlinewidth\": 0, \"ticks\": \"\"}}, \"type\": \"scattermapbox\"}], \"scatterpolar\": [{\"marker\": {\"colorbar\": {\"outlinewidth\": 0, \"ticks\": \"\"}}, \"type\": \"scatterpolar\"}], \"scatterpolargl\": [{\"marker\": {\"colorbar\": {\"outlinewidth\": 0, \"ticks\": \"\"}}, \"type\": \"scatterpolargl\"}], \"scatterternary\": [{\"marker\": {\"colorbar\": {\"outlinewidth\": 0, \"ticks\": \"\"}}, \"type\": \"scatterternary\"}], \"surface\": [{\"colorbar\": {\"outlinewidth\": 0, \"ticks\": \"\"}, \"colorscale\": [[0.0, \"#0d0887\"], [0.1111111111111111, \"#46039f\"], [0.2222222222222222, \"#7201a8\"], [0.3333333333333333, \"#9c179e\"], [0.4444444444444444, \"#bd3786\"], [0.5555555555555556, \"#d8576b\"], [0.6666666666666666, \"#ed7953\"], [0.7777777777777778, \"#fb9f3a\"], [0.8888888888888888, \"#fdca26\"], [1.0, \"#f0f921\"]], \"type\": \"surface\"}], \"table\": [{\"cells\": {\"fill\": {\"color\": \"#EBF0F8\"}, \"line\": {\"color\": \"white\"}}, \"header\": {\"fill\": {\"color\": \"#C8D4E3\"}, \"line\": {\"color\": \"white\"}}, \"type\": \"table\"}]}, \"layout\": {\"annotationdefaults\": {\"arrowcolor\": \"#2a3f5f\", \"arrowhead\": 0, \"arrowwidth\": 1}, \"coloraxis\": {\"colorbar\": {\"outlinewidth\": 0, \"ticks\": \"\"}}, \"colorscale\": {\"diverging\": [[0, \"#8e0152\"], [0.1, \"#c51b7d\"], [0.2, \"#de77ae\"], [0.3, \"#f1b6da\"], [0.4, \"#fde0ef\"], [0.5, \"#f7f7f7\"], [0.6, \"#e6f5d0\"], [0.7, \"#b8e186\"], [0.8, \"#7fbc41\"], [0.9, \"#4d9221\"], [1, \"#276419\"]], \"sequential\": [[0.0, \"#0d0887\"], [0.1111111111111111, \"#46039f\"], [0.2222222222222222, \"#7201a8\"], [0.3333333333333333, \"#9c179e\"], [0.4444444444444444, \"#bd3786\"], [0.5555555555555556, \"#d8576b\"], [0.6666666666666666, \"#ed7953\"], [0.7777777777777778, \"#fb9f3a\"], [0.8888888888888888, \"#fdca26\"], [1.0, \"#f0f921\"]], \"sequentialminus\": [[0.0, \"#0d0887\"], [0.1111111111111111, \"#46039f\"], [0.2222222222222222, \"#7201a8\"], [0.3333333333333333, \"#9c179e\"], [0.4444444444444444, \"#bd3786\"], [0.5555555555555556, \"#d8576b\"], [0.6666666666666666, \"#ed7953\"], [0.7777777777777778, \"#fb9f3a\"], [0.8888888888888888, \"#fdca26\"], [1.0, \"#f0f921\"]]}, \"colorway\": [\"#636efa\", \"#EF553B\", \"#00cc96\", \"#ab63fa\", \"#FFA15A\", \"#19d3f3\", \"#FF6692\", \"#B6E880\", \"#FF97FF\", \"#FECB52\"], \"font\": {\"color\": \"#2a3f5f\"}, \"geo\": {\"bgcolor\": \"white\", \"lakecolor\": \"white\", \"landcolor\": \"#E5ECF6\", \"showlakes\": true, \"showland\": true, \"subunitcolor\": \"white\"}, \"hoverlabel\": {\"align\": \"left\"}, \"hovermode\": \"closest\", \"mapbox\": {\"style\": \"light\"}, \"paper_bgcolor\": \"white\", \"plot_bgcolor\": \"#E5ECF6\", \"polar\": {\"angularaxis\": {\"gridcolor\": \"white\", \"linecolor\": \"white\", \"ticks\": \"\"}, \"bgcolor\": \"#E5ECF6\", \"radialaxis\": {\"gridcolor\": \"white\", \"linecolor\": \"white\", \"ticks\": \"\"}}, \"scene\": {\"xaxis\": {\"backgroundcolor\": \"#E5ECF6\", \"gridcolor\": \"white\", \"gridwidth\": 2, \"linecolor\": \"white\", \"showbackground\": true, \"ticks\": \"\", \"zerolinecolor\": \"white\"}, \"yaxis\": {\"backgroundcolor\": \"#E5ECF6\", \"gridcolor\": \"white\", \"gridwidth\": 2, \"linecolor\": \"white\", \"showbackground\": true, \"ticks\": \"\", \"zerolinecolor\": \"white\"}, \"zaxis\": {\"backgroundcolor\": \"#E5ECF6\", \"gridcolor\": \"white\", \"gridwidth\": 2, \"linecolor\": \"white\", \"showbackground\": true, \"ticks\": \"\", \"zerolinecolor\": \"white\"}}, \"shapedefaults\": {\"line\": {\"color\": \"#2a3f5f\"}}, \"ternary\": {\"aaxis\": {\"gridcolor\": \"white\", \"linecolor\": \"white\", \"ticks\": \"\"}, \"baxis\": {\"gridcolor\": \"white\", \"linecolor\": \"white\", \"ticks\": \"\"}, \"bgcolor\": \"#E5ECF6\", \"caxis\": {\"gridcolor\": \"white\", \"linecolor\": \"white\", \"ticks\": \"\"}}, \"title\": {\"x\": 0.05}, \"xaxis\": {\"automargin\": true, \"gridcolor\": \"white\", \"linecolor\": \"white\", \"ticks\": \"\", \"title\": {\"standoff\": 15}, \"zerolinecolor\": \"white\", \"zerolinewidth\": 2}, \"yaxis\": {\"automargin\": true, \"gridcolor\": \"white\", \"linecolor\": \"white\", \"ticks\": \"\", \"title\": {\"standoff\": 15}, \"zerolinecolor\": \"white\", \"zerolinewidth\": 2}}}, \"xaxis\": {\"anchor\": \"y\", \"domain\": [0.0, 1.0], \"title\": {\"text\": \"Active Ratio (%)\"}}, \"yaxis\": {\"anchor\": \"x\", \"domain\": [0.0, 1.0], \"title\": {\"text\": \"Death Ratio (%)\"}}},\n",
       "                        {\"responsive\": true}\n",
       "                    ).then(function(){\n",
       "                            \n",
       "var gd = document.getElementById('da1a7ba0-a78e-4905-98b5-204c75710e08');\n",
       "var x = new MutationObserver(function (mutations, observer) {{\n",
       "        var display = window.getComputedStyle(gd).display;\n",
       "        if (!display || display === 'none') {{\n",
       "            console.log([gd, 'removed!']);\n",
       "            Plotly.purge(gd);\n",
       "            observer.disconnect();\n",
       "        }}\n",
       "}});\n",
       "\n",
       "// Listen for the removal of the full notebook cells\n",
       "var notebookContainer = gd.closest('#notebook-container');\n",
       "if (notebookContainer) {{\n",
       "    x.observe(notebookContainer, {childList: true});\n",
       "}}\n",
       "\n",
       "// Listen for the clearing of the current output cell\n",
       "var outputEl = gd.closest('.output');\n",
       "if (outputEl) {{\n",
       "    x.observe(outputEl, {childList: true});\n",
       "}}\n",
       "\n",
       "                        })\n",
       "                };\n",
       "                \n",
       "            </script>\n",
       "        </div>\n",
       "</body>\n",
       "</html>"
      ]
     },
     "metadata": {
      "tags": []
     },
     "output_type": "display_data"
    }
   ],
   "source": [
    "px.scatter(df, x='Active Ratio (%)',y='Death Ratio (%)', color=df['State/UTs'])"
   ]
  },
  {
   "cell_type": "markdown",
   "metadata": {
    "id": "PIvO-TlJW10o"
   },
   "source": [
    "-Punjab has the highest number of death ratio i.e = 2.72,followed by uk ,2.15 however active cases are low in number here\n",
    "\n",
    "\n",
    "\n",
    "\n",
    "\n",
    "\n"
   ]
  },
  {
   "cell_type": "code",
   "execution_count": 36,
   "metadata": {
    "colab": {
     "base_uri": "https://localhost:8080/",
     "height": 1000
    },
    "id": "wMReOJUlW0zV",
    "outputId": "98752860-b6dc-4185-b02a-d3e8b44573e2"
   },
   "outputs": [
    {
     "data": {
      "text/plain": [
       "<seaborn.axisgrid.PairGrid at 0x7f611e66a3d0>"
      ]
     },
     "execution_count": 36,
     "metadata": {
      "tags": []
     },
     "output_type": "execute_result"
    },
    {
     "data": {
      "image/png": "[encoded data removed]",
      "text/plain": [
       "<Figure size 1260x1260 with 56 Axes>"
      ]
     },
     "metadata": {
      "needs_background": "light",
      "tags": []
     },
     "output_type": "display_data"
    }
   ],
   "source": [
    "sns.pairplot(df)"
   ]
  },
  {
   "cell_type": "code",
   "execution_count": 37,
   "metadata": {
    "colab": {
     "base_uri": "https://localhost:8080/",
     "height": 542
    },
    "id": "M8n_2YScYdtf",
    "outputId": "4c07c871-3dfc-49ad-c68f-0ca3a445dad4"
   },
   "outputs": [
    {
     "data": {
      "text/html": [
       "<html>\n",
       "<head><meta charset=\"utf-8\" /></head>\n",
       "<body>\n",
       "    <div>\n",
       "            <script src=\"https://cdnjs.cloudflare.com/ajax/libs/mathjax/2.7.5/MathJax.js?config=TeX-AMS-MML_SVG\"></script><script type=\"text/javascript\">if (window.MathJax) {MathJax.Hub.Config({SVG: {font: \"STIX-Web\"}});}</script>\n",
       "                <script type=\"text/javascript\">window.PlotlyConfig = {MathJaxConfig: 'local'};</script>\n",
       "        <script src=\"https://cdn.plot.ly/plotly-latest.min.js\"></script>    \n",
       "            <div id=\"833c2a74-315f-4ff5-803f-d6345f5714ba\" class=\"plotly-graph-div\" style=\"height:525px; width:100%;\"></div>\n",
       "            <script type=\"text/javascript\">\n",
       "                \n",
       "                    window.PLOTLYENV=window.PLOTLYENV || {};\n",
       "                    \n",
       "                if (document.getElementById(\"833c2a74-315f-4ff5-803f-d6345f5714ba\")) {\n",
       "                    Plotly.newPlot(\n",
       "                        '833c2a74-315f-4ff5-803f-d6345f5714ba',\n",
       "                        [{\"dimensions\": [{\"axis\": {\"matches\": true}, \"label\": \"Total Cases\", \"values\": [7539]}, {\"axis\": {\"matches\": true}, \"label\": \"Active\", \"values\": [6]}, {\"axis\": {\"matches\": true}, \"label\": \"Discharged\", \"values\": [7404]}, {\"axis\": {\"matches\": true}, \"label\": \"Deaths\", \"values\": [129]}], \"hoverlabel\": {\"namelength\": 0}, \"hovertemplate\": \"State/UTs=Andaman and Nicobar<br>%{xaxis.title.text}=%{x}<br>%{yaxis.title.text}=%{y}\", \"legendgroup\": \"State/UTs=Andaman and Nicobar\", \"marker\": {\"color\": \"#636efa\", \"symbol\": \"circle\"}, \"name\": \"State/UTs=Andaman and Nicobar\", \"showlegend\": true, \"type\": \"splom\"}, {\"dimensions\": [{\"axis\": {\"matches\": true}, \"label\": \"Total Cases\", \"values\": [1970008]}, {\"axis\": {\"matches\": true}, \"label\": \"Active\", \"values\": [20582]}, {\"axis\": {\"matches\": true}, \"label\": \"Discharged\", \"values\": [1936016]}, {\"axis\": {\"matches\": true}, \"label\": \"Deaths\", \"values\": [13410]}], \"hoverlabel\": {\"namelength\": 0}, \"hovertemplate\": \"State/UTs=Andhra Pradesh<br>%{xaxis.title.text}=%{x}<br>%{yaxis.title.text}=%{y}\", \"legendgroup\": \"State/UTs=Andhra Pradesh\", \"marker\": {\"color\": \"#EF553B\", \"symbol\": \"circle\"}, \"name\": \"State/UTs=Andhra Pradesh\", \"showlegend\": true, \"type\": \"splom\"}, {\"dimensions\": [{\"axis\": {\"matches\": true}, \"label\": \"Total Cases\", \"values\": [48565]}, {\"axis\": {\"matches\": true}, \"label\": \"Active\", \"values\": [3508]}, {\"axis\": {\"matches\": true}, \"label\": \"Discharged\", \"values\": [44823]}, {\"axis\": {\"matches\": true}, \"label\": \"Deaths\", \"values\": [234]}], \"hoverlabel\": {\"namelength\": 0}, \"hovertemplate\": \"State/UTs=Arunachal Pradesh<br>%{xaxis.title.text}=%{x}<br>%{yaxis.title.text}=%{y}\", \"legendgroup\": \"State/UTs=Arunachal Pradesh\", \"marker\": {\"color\": \"#00cc96\", \"symbol\": \"circle\"}, \"name\": \"State/UTs=Arunachal Pradesh\", \"showlegend\": true, \"type\": \"splom\"}, {\"dimensions\": [{\"axis\": {\"matches\": true}, \"label\": \"Total Cases\", \"values\": [568257]}, {\"axis\": {\"matches\": true}, \"label\": \"Active\", \"values\": [12429]}, {\"axis\": {\"matches\": true}, \"label\": \"Discharged\", \"values\": [550534]}, {\"axis\": {\"matches\": true}, \"label\": \"Deaths\", \"values\": [5294]}], \"hoverlabel\": {\"namelength\": 0}, \"hovertemplate\": \"State/UTs=Assam<br>%{xaxis.title.text}=%{x}<br>%{yaxis.title.text}=%{y}\", \"legendgroup\": \"State/UTs=Assam\", \"marker\": {\"color\": \"#ab63fa\", \"symbol\": \"circle\"}, \"name\": \"State/UTs=Assam\", \"showlegend\": true, \"type\": \"splom\"}, {\"dimensions\": [{\"axis\": {\"matches\": true}, \"label\": \"Total Cases\", \"values\": [724917]}, {\"axis\": {\"matches\": true}, \"label\": \"Active\", \"values\": [401]}, {\"axis\": {\"matches\": true}, \"label\": \"Discharged\", \"values\": [714872]}, {\"axis\": {\"matches\": true}, \"label\": \"Deaths\", \"values\": [9644]}], \"hoverlabel\": {\"namelength\": 0}, \"hovertemplate\": \"State/UTs=Bihar<br>%{xaxis.title.text}=%{x}<br>%{yaxis.title.text}=%{y}\", \"legendgroup\": \"State/UTs=Bihar\", \"marker\": {\"color\": \"#FFA15A\", \"symbol\": \"circle\"}, \"name\": \"State/UTs=Bihar\", \"showlegend\": true, \"type\": \"splom\"}, {\"dimensions\": [{\"axis\": {\"matches\": true}, \"label\": \"Total Cases\", \"values\": [61960]}, {\"axis\": {\"matches\": true}, \"label\": \"Active\", \"values\": [33]}, {\"axis\": {\"matches\": true}, \"label\": \"Discharged\", \"values\": [61116]}, {\"axis\": {\"matches\": true}, \"label\": \"Deaths\", \"values\": [811]}], \"hoverlabel\": {\"namelength\": 0}, \"hovertemplate\": \"State/UTs=Chandigarh<br>%{xaxis.title.text}=%{x}<br>%{yaxis.title.text}=%{y}\", \"legendgroup\": \"State/UTs=Chandigarh\", \"marker\": {\"color\": \"#19d3f3\", \"symbol\": \"circle\"}, \"name\": \"State/UTs=Chandigarh\", \"showlegend\": true, \"type\": \"splom\"}, {\"dimensions\": [{\"axis\": {\"matches\": true}, \"label\": \"Total Cases\", \"values\": [1002458]}, {\"axis\": {\"matches\": true}, \"label\": \"Active\", \"values\": [1918]}, {\"axis\": {\"matches\": true}, \"label\": \"Discharged\", \"values\": [987012]}, {\"axis\": {\"matches\": true}, \"label\": \"Deaths\", \"values\": [13528]}], \"hoverlabel\": {\"namelength\": 0}, \"hovertemplate\": \"State/UTs=Chhattisgarh<br>%{xaxis.title.text}=%{x}<br>%{yaxis.title.text}=%{y}\", \"legendgroup\": \"State/UTs=Chhattisgarh\", \"marker\": {\"color\": \"#FF6692\", \"symbol\": \"circle\"}, \"name\": \"State/UTs=Chhattisgarh\", \"showlegend\": true, \"type\": \"splom\"}, {\"dimensions\": [{\"axis\": {\"matches\": true}, \"label\": \"Total Cases\", \"values\": [10650]}, {\"axis\": {\"matches\": true}, \"label\": \"Active\", \"values\": [15]}, {\"axis\": {\"matches\": true}, \"label\": \"Discharged\", \"values\": [10631]}, {\"axis\": {\"matches\": true}, \"label\": \"Deaths\", \"values\": [4]}], \"hoverlabel\": {\"namelength\": 0}, \"hovertemplate\": \"State/UTs=Daman and Diu<br>%{xaxis.title.text}=%{x}<br>%{yaxis.title.text}=%{y}\", \"legendgroup\": \"State/UTs=Daman and Diu\", \"marker\": {\"color\": \"#B6E880\", \"symbol\": \"circle\"}, \"name\": \"State/UTs=Daman and Diu\", \"showlegend\": true, \"type\": \"splom\"}, {\"dimensions\": [{\"axis\": {\"matches\": true}, \"label\": \"Total Cases\", \"values\": [1436401]}, {\"axis\": {\"matches\": true}, \"label\": \"Active\", \"values\": [538]}, {\"axis\": {\"matches\": true}, \"label\": \"Discharged\", \"values\": [1410809]}, {\"axis\": {\"matches\": true}, \"label\": \"Deaths\", \"values\": [25054]}], \"hoverlabel\": {\"namelength\": 0}, \"hovertemplate\": \"State/UTs=Delhi<br>%{xaxis.title.text}=%{x}<br>%{yaxis.title.text}=%{y}\", \"legendgroup\": \"State/UTs=Delhi\", \"marker\": {\"color\": \"#FF97FF\", \"symbol\": \"circle\"}, \"name\": \"State/UTs=Delhi\", \"showlegend\": true, \"type\": \"splom\"}, {\"dimensions\": [{\"axis\": {\"matches\": true}, \"label\": \"Total Cases\", \"values\": [171295]}, {\"axis\": {\"matches\": true}, \"label\": \"Active\", \"values\": [1027]}, {\"axis\": {\"matches\": true}, \"label\": \"Discharged\", \"values\": [167118]}, {\"axis\": {\"matches\": true}, \"label\": \"Deaths\", \"values\": [3150]}], \"hoverlabel\": {\"namelength\": 0}, \"hovertemplate\": \"State/UTs=Goa<br>%{xaxis.title.text}=%{x}<br>%{yaxis.title.text}=%{y}\", \"legendgroup\": \"State/UTs=Goa\", \"marker\": {\"color\": \"#FECB52\", \"symbol\": \"circle\"}, \"name\": \"State/UTs=Goa\", \"showlegend\": true, \"type\": \"splom\"}, {\"dimensions\": [{\"axis\": {\"matches\": true}, \"label\": \"Total Cases\", \"values\": [824922]}, {\"axis\": {\"matches\": true}, \"label\": \"Active\", \"values\": [251]}, {\"axis\": {\"matches\": true}, \"label\": \"Discharged\", \"values\": [814595]}, {\"axis\": {\"matches\": true}, \"label\": \"Deaths\", \"values\": [10076]}], \"hoverlabel\": {\"namelength\": 0}, \"hovertemplate\": \"State/UTs=Gujarat<br>%{xaxis.title.text}=%{x}<br>%{yaxis.title.text}=%{y}\", \"legendgroup\": \"State/UTs=Gujarat\", \"marker\": {\"color\": \"#636efa\", \"symbol\": \"circle\"}, \"name\": \"State/UTs=Gujarat\", \"showlegend\": true, \"type\": \"splom\"}, {\"dimensions\": [{\"axis\": {\"matches\": true}, \"label\": \"Total Cases\", \"values\": [769956]}, {\"axis\": {\"matches\": true}, \"label\": \"Active\", \"values\": [703]}, {\"axis\": {\"matches\": true}, \"label\": \"Discharged\", \"values\": [759614]}, {\"axis\": {\"matches\": true}, \"label\": \"Deaths\", \"values\": [9639]}], \"hoverlabel\": {\"namelength\": 0}, \"hovertemplate\": \"State/UTs=Haryana<br>%{xaxis.title.text}=%{x}<br>%{yaxis.title.text}=%{y}\", \"legendgroup\": \"State/UTs=Haryana\", \"marker\": {\"color\": \"#EF553B\", \"symbol\": \"circle\"}, \"name\": \"State/UTs=Haryana\", \"showlegend\": true, \"type\": \"splom\"}, {\"dimensions\": [{\"axis\": {\"matches\": true}, \"label\": \"Total Cases\", \"values\": [206369]}, {\"axis\": {\"matches\": true}, \"label\": \"Active\", \"values\": [1304]}, {\"axis\": {\"matches\": true}, \"label\": \"Discharged\", \"values\": [201543]}, {\"axis\": {\"matches\": true}, \"label\": \"Deaths\", \"values\": [3522]}], \"hoverlabel\": {\"namelength\": 0}, \"hovertemplate\": \"State/UTs=Himachal Pradesh<br>%{xaxis.title.text}=%{x}<br>%{yaxis.title.text}=%{y}\", \"legendgroup\": \"State/UTs=Himachal Pradesh\", \"marker\": {\"color\": \"#00cc96\", \"symbol\": \"circle\"}, \"name\": \"State/UTs=Himachal Pradesh\", \"showlegend\": true, \"type\": \"splom\"}, {\"dimensions\": [{\"axis\": {\"matches\": true}, \"label\": \"Total Cases\", \"values\": [321725]}, {\"axis\": {\"matches\": true}, \"label\": \"Active\", \"values\": [1254]}, {\"axis\": {\"matches\": true}, \"label\": \"Discharged\", \"values\": [316090]}, {\"axis\": {\"matches\": true}, \"label\": \"Deaths\", \"values\": [4381]}], \"hoverlabel\": {\"namelength\": 0}, \"hovertemplate\": \"State/UTs=Jammu and Kashmir<br>%{xaxis.title.text}=%{x}<br>%{yaxis.title.text}=%{y}\", \"legendgroup\": \"State/UTs=Jammu and Kashmir\", \"marker\": {\"color\": \"#ab63fa\", \"symbol\": \"circle\"}, \"name\": \"State/UTs=Jammu and Kashmir\", \"showlegend\": true, \"type\": \"splom\"}, {\"dimensions\": [{\"axis\": {\"matches\": true}, \"label\": \"Total Cases\", \"values\": [347223]}, {\"axis\": {\"matches\": true}, \"label\": \"Active\", \"values\": [239]}, {\"axis\": {\"matches\": true}, \"label\": \"Discharged\", \"values\": [341855]}, {\"axis\": {\"matches\": true}, \"label\": \"Deaths\", \"values\": [5129]}], \"hoverlabel\": {\"namelength\": 0}, \"hovertemplate\": \"State/UTs=Jharkhand<br>%{xaxis.title.text}=%{x}<br>%{yaxis.title.text}=%{y}\", \"legendgroup\": \"State/UTs=Jharkhand\", \"marker\": {\"color\": \"#FFA15A\", \"symbol\": \"circle\"}, \"name\": \"State/UTs=Jharkhand\", \"showlegend\": true, \"type\": \"splom\"}, {\"dimensions\": [{\"axis\": {\"matches\": true}, \"label\": \"Total Cases\", \"values\": [2908284]}, {\"axis\": {\"matches\": true}, \"label\": \"Active\", \"values\": [24045]}, {\"axis\": {\"matches\": true}, \"label\": \"Discharged\", \"values\": [2847627]}, {\"axis\": {\"matches\": true}, \"label\": \"Deaths\", \"values\": [36612]}], \"hoverlabel\": {\"namelength\": 0}, \"hovertemplate\": \"State/UTs=Karnataka<br>%{xaxis.title.text}=%{x}<br>%{yaxis.title.text}=%{y}\", \"legendgroup\": \"State/UTs=Karnataka\", \"marker\": {\"color\": \"#19d3f3\", \"symbol\": \"circle\"}, \"name\": \"State/UTs=Karnataka\", \"showlegend\": true, \"type\": \"splom\"}, {\"dimensions\": [{\"axis\": {\"matches\": true}, \"label\": \"Total Cases\", \"values\": [3425473]}, {\"axis\": {\"matches\": true}, \"label\": \"Active\", \"values\": [165834]}, {\"axis\": {\"matches\": true}, \"label\": \"Discharged\", \"values\": [3242684]}, {\"axis\": {\"matches\": true}, \"label\": \"Deaths\", \"values\": [16955]}], \"hoverlabel\": {\"namelength\": 0}, \"hovertemplate\": \"State/UTs=Kerala<br>%{xaxis.title.text}=%{x}<br>%{yaxis.title.text}=%{y}\", \"legendgroup\": \"State/UTs=Kerala\", \"marker\": {\"color\": \"#FF6692\", \"symbol\": \"circle\"}, \"name\": \"State/UTs=Kerala\", \"showlegend\": true, \"type\": \"splom\"}, {\"dimensions\": [{\"axis\": {\"matches\": true}, \"label\": \"Total Cases\", \"values\": [20345]}, {\"axis\": {\"matches\": true}, \"label\": \"Active\", \"values\": [57]}, {\"axis\": {\"matches\": true}, \"label\": \"Discharged\", \"values\": [20081]}, {\"axis\": {\"matches\": true}, \"label\": \"Deaths\", \"values\": [207]}], \"hoverlabel\": {\"namelength\": 0}, \"hovertemplate\": \"State/UTs=Ladakh<br>%{xaxis.title.text}=%{x}<br>%{yaxis.title.text}=%{y}\", \"legendgroup\": \"State/UTs=Ladakh\", \"marker\": {\"color\": \"#B6E880\", \"symbol\": \"circle\"}, \"name\": \"State/UTs=Ladakh\", \"showlegend\": true, \"type\": \"splom\"}, {\"dimensions\": [{\"axis\": {\"matches\": true}, \"label\": \"Total Cases\", \"values\": [10207]}, {\"axis\": {\"matches\": true}, \"label\": \"Active\", \"values\": [79]}, {\"axis\": {\"matches\": true}, \"label\": \"Discharged\", \"values\": [10078]}, {\"axis\": {\"matches\": true}, \"label\": \"Deaths\", \"values\": [50]}], \"hoverlabel\": {\"namelength\": 0}, \"hovertemplate\": \"State/UTs=Lakshadweep<br>%{xaxis.title.text}=%{x}<br>%{yaxis.title.text}=%{y}\", \"legendgroup\": \"State/UTs=Lakshadweep\", \"marker\": {\"color\": \"#FF97FF\", \"symbol\": \"circle\"}, \"name\": \"State/UTs=Lakshadweep\", \"showlegend\": true, \"type\": \"splom\"}, {\"dimensions\": [{\"axis\": {\"matches\": true}, \"label\": \"Total Cases\", \"values\": [791862]}, {\"axis\": {\"matches\": true}, \"label\": \"Active\", \"values\": [132]}, {\"axis\": {\"matches\": true}, \"label\": \"Discharged\", \"values\": [781217]}, {\"axis\": {\"matches\": true}, \"label\": \"Deaths\", \"values\": [10513]}], \"hoverlabel\": {\"namelength\": 0}, \"hovertemplate\": \"State/UTs=Madhya Pradesh<br>%{xaxis.title.text}=%{x}<br>%{yaxis.title.text}=%{y}\", \"legendgroup\": \"State/UTs=Madhya Pradesh\", \"marker\": {\"color\": \"#FECB52\", \"symbol\": \"circle\"}, \"name\": \"State/UTs=Madhya Pradesh\", \"showlegend\": true, \"type\": \"splom\"}, {\"dimensions\": [{\"axis\": {\"matches\": true}, \"label\": \"Total Cases\", \"values\": [6315063]}, {\"axis\": {\"matches\": true}, \"label\": \"Active\", \"values\": [78700]}, {\"axis\": {\"matches\": true}, \"label\": \"Discharged\", \"values\": [6103325]}, {\"axis\": {\"matches\": true}, \"label\": \"Deaths\", \"values\": [133038]}], \"hoverlabel\": {\"namelength\": 0}, \"hovertemplate\": \"State/UTs=Maharashtra<br>%{xaxis.title.text}=%{x}<br>%{yaxis.title.text}=%{y}\", \"legendgroup\": \"State/UTs=Maharashtra\", \"marker\": {\"color\": \"#636efa\", \"symbol\": \"circle\"}, \"name\": \"State/UTs=Maharashtra\", \"showlegend\": true, \"type\": \"splom\"}, {\"dimensions\": [{\"axis\": {\"matches\": true}, \"label\": \"Total Cases\", \"values\": [99872]}, {\"axis\": {\"matches\": true}, \"label\": \"Active\", \"values\": [9814]}, {\"axis\": {\"matches\": true}, \"label\": \"Discharged\", \"values\": [88480]}, {\"axis\": {\"matches\": true}, \"label\": \"Deaths\", \"values\": [1578]}], \"hoverlabel\": {\"namelength\": 0}, \"hovertemplate\": \"State/UTs=Manipur<br>%{xaxis.title.text}=%{x}<br>%{yaxis.title.text}=%{y}\", \"legendgroup\": \"State/UTs=Manipur\", \"marker\": {\"color\": \"#EF553B\", \"symbol\": \"circle\"}, \"name\": \"State/UTs=Manipur\", \"showlegend\": true, \"type\": \"splom\"}, {\"dimensions\": [{\"axis\": {\"matches\": true}, \"label\": \"Total Cases\", \"values\": [65939]}, {\"axis\": {\"matches\": true}, \"label\": \"Active\", \"values\": [5843]}, {\"axis\": {\"matches\": true}, \"label\": \"Discharged\", \"values\": [58987]}, {\"axis\": {\"matches\": true}, \"label\": \"Deaths\", \"values\": [1109]}], \"hoverlabel\": {\"namelength\": 0}, \"hovertemplate\": \"State/UTs=Meghalaya<br>%{xaxis.title.text}=%{x}<br>%{yaxis.title.text}=%{y}\", \"legendgroup\": \"State/UTs=Meghalaya\", \"marker\": {\"color\": \"#00cc96\", \"symbol\": \"circle\"}, \"name\": \"State/UTs=Meghalaya\", \"showlegend\": true, \"type\": \"splom\"}, {\"dimensions\": [{\"axis\": {\"matches\": true}, \"label\": \"Total Cases\", \"values\": [40111]}, {\"axis\": {\"matches\": true}, \"label\": \"Active\", \"values\": [12316]}, {\"axis\": {\"matches\": true}, \"label\": \"Discharged\", \"values\": [27642]}, {\"axis\": {\"matches\": true}, \"label\": \"Deaths\", \"values\": [153]}], \"hoverlabel\": {\"namelength\": 0}, \"hovertemplate\": \"State/UTs=Mizoram<br>%{xaxis.title.text}=%{x}<br>%{yaxis.title.text}=%{y}\", \"legendgroup\": \"State/UTs=Mizoram\", \"marker\": {\"color\": \"#ab63fa\", \"symbol\": \"circle\"}, \"name\": \"State/UTs=Mizoram\", \"showlegend\": true, \"type\": \"splom\"}, {\"dimensions\": [{\"axis\": {\"matches\": true}, \"label\": \"Total Cases\", \"values\": [28004]}, {\"axis\": {\"matches\": true}, \"label\": \"Active\", \"values\": [1300]}, {\"axis\": {\"matches\": true}, \"label\": \"Discharged\", \"values\": [26130]}, {\"axis\": {\"matches\": true}, \"label\": \"Deaths\", \"values\": [574]}], \"hoverlabel\": {\"namelength\": 0}, \"hovertemplate\": \"State/UTs=Nagaland<br>%{xaxis.title.text}=%{x}<br>%{yaxis.title.text}=%{y}\", \"legendgroup\": \"State/UTs=Nagaland\", \"marker\": {\"color\": \"#FFA15A\", \"symbol\": \"circle\"}, \"name\": \"State/UTs=Nagaland\", \"showlegend\": true, \"type\": \"splom\"}, {\"dimensions\": [{\"axis\": {\"matches\": true}, \"label\": \"Total Cases\", \"values\": [979737]}, {\"axis\": {\"matches\": true}, \"label\": \"Active\", \"values\": [13318]}, {\"axis\": {\"matches\": true}, \"label\": \"Discharged\", \"values\": [960386]}, {\"axis\": {\"matches\": true}, \"label\": \"Deaths\", \"values\": [6033]}], \"hoverlabel\": {\"namelength\": 0}, \"hovertemplate\": \"State/UTs=Odisha<br>%{xaxis.title.text}=%{x}<br>%{yaxis.title.text}=%{y}\", \"legendgroup\": \"State/UTs=Odisha\", \"marker\": {\"color\": \"#19d3f3\", \"symbol\": \"circle\"}, \"name\": \"State/UTs=Odisha\", \"showlegend\": true, \"type\": \"splom\"}, {\"dimensions\": [{\"axis\": {\"matches\": true}, \"label\": \"Total Cases\", \"values\": [121059]}, {\"axis\": {\"matches\": true}, \"label\": \"Active\", \"values\": [944]}, {\"axis\": {\"matches\": true}, \"label\": \"Discharged\", \"values\": [118320]}, {\"axis\": {\"matches\": true}, \"label\": \"Deaths\", \"values\": [1795]}], \"hoverlabel\": {\"namelength\": 0}, \"hovertemplate\": \"State/UTs=Puducherry<br>%{xaxis.title.text}=%{x}<br>%{yaxis.title.text}=%{y}\", \"legendgroup\": \"State/UTs=Puducherry\", \"marker\": {\"color\": \"#FF6692\", \"symbol\": \"circle\"}, \"name\": \"State/UTs=Puducherry\", \"showlegend\": true, \"type\": \"splom\"}, {\"dimensions\": [{\"axis\": {\"matches\": true}, \"label\": \"Total Cases\", \"values\": [599162]}, {\"axis\": {\"matches\": true}, \"label\": \"Active\", \"values\": [473]}, {\"axis\": {\"matches\": true}, \"label\": \"Discharged\", \"values\": [582395]}, {\"axis\": {\"matches\": true}, \"label\": \"Deaths\", \"values\": [16294]}], \"hoverlabel\": {\"namelength\": 0}, \"hovertemplate\": \"State/UTs=Punjab<br>%{xaxis.title.text}=%{x}<br>%{yaxis.title.text}=%{y}\", \"legendgroup\": \"State/UTs=Punjab\", \"marker\": {\"color\": \"#B6E880\", \"symbol\": \"circle\"}, \"name\": \"State/UTs=Punjab\", \"showlegend\": true, \"type\": \"splom\"}, {\"dimensions\": [{\"axis\": {\"matches\": true}, \"label\": \"Total Cases\", \"values\": [953704]}, {\"axis\": {\"matches\": true}, \"label\": \"Active\", \"values\": [241]}, {\"axis\": {\"matches\": true}, \"label\": \"Discharged\", \"values\": [944509]}, {\"axis\": {\"matches\": true}, \"label\": \"Deaths\", \"values\": [8954]}], \"hoverlabel\": {\"namelength\": 0}, \"hovertemplate\": \"State/UTs=Rajasthan<br>%{xaxis.title.text}=%{x}<br>%{yaxis.title.text}=%{y}\", \"legendgroup\": \"State/UTs=Rajasthan\", \"marker\": {\"color\": \"#FF97FF\", \"symbol\": \"circle\"}, \"name\": \"State/UTs=Rajasthan\", \"showlegend\": true, \"type\": \"splom\"}, {\"dimensions\": [{\"axis\": {\"matches\": true}, \"label\": \"Total Cases\", \"values\": [26880]}, {\"axis\": {\"matches\": true}, \"label\": \"Active\", \"values\": [3323]}, {\"axis\": {\"matches\": true}, \"label\": \"Discharged\", \"values\": [23211]}, {\"axis\": {\"matches\": true}, \"label\": \"Deaths\", \"values\": [346]}], \"hoverlabel\": {\"namelength\": 0}, \"hovertemplate\": \"State/UTs=Sikkim<br>%{xaxis.title.text}=%{x}<br>%{yaxis.title.text}=%{y}\", \"legendgroup\": \"State/UTs=Sikkim\", \"marker\": {\"color\": \"#FECB52\", \"symbol\": \"circle\"}, \"name\": \"State/UTs=Sikkim\", \"showlegend\": true, \"type\": \"splom\"}, {\"dimensions\": [{\"axis\": {\"matches\": true}, \"label\": \"Total Cases\", \"values\": [2563544]}, {\"axis\": {\"matches\": true}, \"label\": \"Active\", \"values\": [20385]}, {\"axis\": {\"matches\": true}, \"label\": \"Discharged\", \"values\": [2509029]}, {\"axis\": {\"matches\": true}, \"label\": \"Deaths\", \"values\": [34130]}], \"hoverlabel\": {\"namelength\": 0}, \"hovertemplate\": \"State/UTs=Tamil Nadu<br>%{xaxis.title.text}=%{x}<br>%{yaxis.title.text}=%{y}\", \"legendgroup\": \"State/UTs=Tamil Nadu\", \"marker\": {\"color\": \"#636efa\", \"symbol\": \"circle\"}, \"name\": \"State/UTs=Tamil Nadu\", \"showlegend\": true, \"type\": \"splom\"}, {\"dimensions\": [{\"axis\": {\"matches\": true}, \"label\": \"Total Cases\", \"values\": [645997]}, {\"axis\": {\"matches\": true}, \"label\": \"Active\", \"values\": [8819]}, {\"axis\": {\"matches\": true}, \"label\": \"Discharged\", \"values\": [633371]}, {\"axis\": {\"matches\": true}, \"label\": \"Deaths\", \"values\": [3807]}], \"hoverlabel\": {\"namelength\": 0}, \"hovertemplate\": \"State/UTs=Telengana<br>%{xaxis.title.text}=%{x}<br>%{yaxis.title.text}=%{y}\", \"legendgroup\": \"State/UTs=Telengana\", \"marker\": {\"color\": \"#EF553B\", \"symbol\": \"circle\"}, \"name\": \"State/UTs=Telengana\", \"showlegend\": true, \"type\": \"splom\"}, {\"dimensions\": [{\"axis\": {\"matches\": true}, \"label\": \"Total Cases\", \"values\": [79026]}, {\"axis\": {\"matches\": true}, \"label\": \"Active\", \"values\": [3104]}, {\"axis\": {\"matches\": true}, \"label\": \"Discharged\", \"values\": [75167]}, {\"axis\": {\"matches\": true}, \"label\": \"Deaths\", \"values\": [755]}], \"hoverlabel\": {\"namelength\": 0}, \"hovertemplate\": \"State/UTs=Tripura<br>%{xaxis.title.text}=%{x}<br>%{yaxis.title.text}=%{y}\", \"legendgroup\": \"State/UTs=Tripura\", \"marker\": {\"color\": \"#00cc96\", \"symbol\": \"circle\"}, \"name\": \"State/UTs=Tripura\", \"showlegend\": true, \"type\": \"splom\"}, {\"dimensions\": [{\"axis\": {\"matches\": true}, \"label\": \"Total Cases\", \"values\": [1708500]}, {\"axis\": {\"matches\": true}, \"label\": \"Active\", \"values\": [646]}, {\"axis\": {\"matches\": true}, \"label\": \"Discharged\", \"values\": [1685091]}, {\"axis\": {\"matches\": true}, \"label\": \"Deaths\", \"values\": [22763]}], \"hoverlabel\": {\"namelength\": 0}, \"hovertemplate\": \"State/UTs=Uttar Pradesh<br>%{xaxis.title.text}=%{x}<br>%{yaxis.title.text}=%{y}\", \"legendgroup\": \"State/UTs=Uttar Pradesh\", \"marker\": {\"color\": \"#ab63fa\", \"symbol\": \"circle\"}, \"name\": \"State/UTs=Uttar Pradesh\", \"showlegend\": true, \"type\": \"splom\"}, {\"dimensions\": [{\"axis\": {\"matches\": true}, \"label\": \"Total Cases\", \"values\": [342198]}, {\"axis\": {\"matches\": true}, \"label\": \"Active\", \"values\": [574]}, {\"axis\": {\"matches\": true}, \"label\": \"Discharged\", \"values\": [334261]}, {\"axis\": {\"matches\": true}, \"label\": \"Deaths\", \"values\": [7363]}], \"hoverlabel\": {\"namelength\": 0}, \"hovertemplate\": \"State/UTs=Uttarakhand<br>%{xaxis.title.text}=%{x}<br>%{yaxis.title.text}=%{y}\", \"legendgroup\": \"State/UTs=Uttarakhand\", \"marker\": {\"color\": \"#FFA15A\", \"symbol\": \"circle\"}, \"name\": \"State/UTs=Uttarakhand\", \"showlegend\": true, \"type\": \"splom\"}, {\"dimensions\": [{\"axis\": {\"matches\": true}, \"label\": \"Total Cases\", \"values\": [1529295]}, {\"axis\": {\"matches\": true}, \"label\": \"Active\", \"values\": [10803]}, {\"axis\": {\"matches\": true}, \"label\": \"Discharged\", \"values\": [1500331]}, {\"axis\": {\"matches\": true}, \"label\": \"Deaths\", \"values\": [18161]}], \"hoverlabel\": {\"namelength\": 0}, \"hovertemplate\": \"State/UTs=West Bengal<br>%{xaxis.title.text}=%{x}<br>%{yaxis.title.text}=%{y}\", \"legendgroup\": \"State/UTs=West Bengal\", \"marker\": {\"color\": \"#19d3f3\", \"symbol\": \"circle\"}, \"name\": \"State/UTs=West Bengal\", \"showlegend\": true, \"type\": \"splom\"}],\n",
       "                        {\"dragmode\": \"select\", \"legend\": {\"tracegroupgap\": 0}, \"margin\": {\"t\": 60}, \"template\": {\"data\": {\"bar\": [{\"error_x\": {\"color\": \"#2a3f5f\"}, \"error_y\": {\"color\": \"#2a3f5f\"}, \"marker\": {\"line\": {\"color\": \"#E5ECF6\", \"width\": 0.5}}, \"type\": \"bar\"}], \"barpolar\": [{\"marker\": {\"line\": {\"color\": \"#E5ECF6\", \"width\": 0.5}}, \"type\": \"barpolar\"}], \"carpet\": [{\"aaxis\": {\"endlinecolor\": \"#2a3f5f\", \"gridcolor\": \"white\", \"linecolor\": \"white\", \"minorgridcolor\": \"white\", \"startlinecolor\": \"#2a3f5f\"}, \"baxis\": {\"endlinecolor\": \"#2a3f5f\", \"gridcolor\": \"white\", \"linecolor\": \"white\", \"minorgridcolor\": \"white\", \"startlinecolor\": \"#2a3f5f\"}, \"type\": \"carpet\"}], \"choropleth\": [{\"colorbar\": {\"outlinewidth\": 0, \"ticks\": \"\"}, \"type\": \"choropleth\"}], \"contour\": [{\"colorbar\": {\"outlinewidth\": 0, \"ticks\": \"\"}, \"colorscale\": [[0.0, \"#0d0887\"], [0.1111111111111111, \"#46039f\"], [0.2222222222222222, \"#7201a8\"], [0.3333333333333333, \"#9c179e\"], [0.4444444444444444, \"#bd3786\"], [0.5555555555555556, \"#d8576b\"], [0.6666666666666666, \"#ed7953\"], [0.7777777777777778, \"#fb9f3a\"], [0.8888888888888888, \"#fdca26\"], [1.0, \"#f0f921\"]], \"type\": \"contour\"}], \"contourcarpet\": [{\"colorbar\": {\"outlinewidth\": 0, \"ticks\": \"\"}, \"type\": \"contourcarpet\"}], \"heatmap\": [{\"colorbar\": {\"outlinewidth\": 0, \"ticks\": \"\"}, \"colorscale\": [[0.0, \"#0d0887\"], [0.1111111111111111, \"#46039f\"], [0.2222222222222222, \"#7201a8\"], [0.3333333333333333, \"#9c179e\"], [0.4444444444444444, \"#bd3786\"], [0.5555555555555556, \"#d8576b\"], [0.6666666666666666, \"#ed7953\"], [0.7777777777777778, \"#fb9f3a\"], [0.8888888888888888, \"#fdca26\"], [1.0, \"#f0f921\"]], \"type\": \"heatmap\"}], \"heatmapgl\": [{\"colorbar\": {\"outlinewidth\": 0, \"ticks\": \"\"}, \"colorscale\": [[0.0, \"#0d0887\"], [0.1111111111111111, \"#46039f\"], [0.2222222222222222, \"#7201a8\"], [0.3333333333333333, \"#9c179e\"], [0.4444444444444444, \"#bd3786\"], [0.5555555555555556, \"#d8576b\"], [0.6666666666666666, \"#ed7953\"], [0.7777777777777778, \"#fb9f3a\"], [0.8888888888888888, \"#fdca26\"], [1.0, \"#f0f921\"]], \"type\": \"heatmapgl\"}], \"histogram\": [{\"marker\": {\"colorbar\": {\"outlinewidth\": 0, \"ticks\": \"\"}}, \"type\": \"histogram\"}], \"histogram2d\": [{\"colorbar\": {\"outlinewidth\": 0, \"ticks\": \"\"}, \"colorscale\": [[0.0, \"#0d0887\"], [0.1111111111111111, \"#46039f\"], [0.2222222222222222, \"#7201a8\"], [0.3333333333333333, \"#9c179e\"], [0.4444444444444444, \"#bd3786\"], [0.5555555555555556, \"#d8576b\"], [0.6666666666666666, \"#ed7953\"], [0.7777777777777778, \"#fb9f3a\"], [0.8888888888888888, \"#fdca26\"], [1.0, \"#f0f921\"]], \"type\": \"histogram2d\"}], \"histogram2dcontour\": [{\"colorbar\": {\"outlinewidth\": 0, \"ticks\": \"\"}, \"colorscale\": [[0.0, \"#0d0887\"], [0.1111111111111111, \"#46039f\"], [0.2222222222222222, \"#7201a8\"], [0.3333333333333333, \"#9c179e\"], [0.4444444444444444, \"#bd3786\"], [0.5555555555555556, \"#d8576b\"], [0.6666666666666666, \"#ed7953\"], [0.7777777777777778, \"#fb9f3a\"], [0.8888888888888888, \"#fdca26\"], [1.0, \"#f0f921\"]], \"type\": \"histogram2dcontour\"}], \"mesh3d\": [{\"colorbar\": {\"outlinewidth\": 0, \"ticks\": \"\"}, \"type\": \"mesh3d\"}], \"parcoords\": [{\"line\": {\"colorbar\": {\"outlinewidth\": 0, \"ticks\": \"\"}}, \"type\": \"parcoords\"}], \"pie\": [{\"automargin\": true, \"type\": \"pie\"}], \"scatter\": [{\"marker\": {\"colorbar\": {\"outlinewidth\": 0, \"ticks\": \"\"}}, \"type\": \"scatter\"}], \"scatter3d\": [{\"line\": {\"colorbar\": {\"outlinewidth\": 0, \"ticks\": \"\"}}, \"marker\": {\"colorbar\": {\"outlinewidth\": 0, \"ticks\": \"\"}}, \"type\": \"scatter3d\"}], \"scattercarpet\": [{\"marker\": {\"colorbar\": {\"outlinewidth\": 0, \"ticks\": \"\"}}, \"type\": \"scattercarpet\"}], \"scattergeo\": [{\"marker\": {\"colorbar\": {\"outlinewidth\": 0, \"ticks\": \"\"}}, \"type\": \"scattergeo\"}], \"scattergl\": [{\"marker\": {\"colorbar\": {\"outlinewidth\": 0, \"ticks\": \"\"}}, \"type\": \"scattergl\"}], \"scattermapbox\": [{\"marker\": {\"colorbar\": {\"outlinewidth\": 0, \"ticks\": \"\"}}, \"type\": \"scattermapbox\"}], \"scatterpolar\": [{\"marker\": {\"colorbar\": {\"outlinewidth\": 0, \"ticks\": \"\"}}, \"type\": \"scatterpolar\"}], \"scatterpolargl\": [{\"marker\": {\"colorbar\": {\"outlinewidth\": 0, \"ticks\": \"\"}}, \"type\": \"scatterpolargl\"}], \"scatterternary\": [{\"marker\": {\"colorbar\": {\"outlinewidth\": 0, \"ticks\": \"\"}}, \"type\": \"scatterternary\"}], \"surface\": [{\"colorbar\": {\"outlinewidth\": 0, \"ticks\": \"\"}, \"colorscale\": [[0.0, \"#0d0887\"], [0.1111111111111111, \"#46039f\"], [0.2222222222222222, \"#7201a8\"], [0.3333333333333333, \"#9c179e\"], [0.4444444444444444, \"#bd3786\"], [0.5555555555555556, \"#d8576b\"], [0.6666666666666666, \"#ed7953\"], [0.7777777777777778, \"#fb9f3a\"], [0.8888888888888888, \"#fdca26\"], [1.0, \"#f0f921\"]], \"type\": \"surface\"}], \"table\": [{\"cells\": {\"fill\": {\"color\": \"#EBF0F8\"}, \"line\": {\"color\": \"white\"}}, \"header\": {\"fill\": {\"color\": \"#C8D4E3\"}, \"line\": {\"color\": \"white\"}}, \"type\": \"table\"}]}, \"layout\": {\"annotationdefaults\": {\"arrowcolor\": \"#2a3f5f\", \"arrowhead\": 0, \"arrowwidth\": 1}, \"coloraxis\": {\"colorbar\": {\"outlinewidth\": 0, \"ticks\": \"\"}}, \"colorscale\": {\"diverging\": [[0, \"#8e0152\"], [0.1, \"#c51b7d\"], [0.2, \"#de77ae\"], [0.3, \"#f1b6da\"], [0.4, \"#fde0ef\"], [0.5, \"#f7f7f7\"], [0.6, \"#e6f5d0\"], [0.7, \"#b8e186\"], [0.8, \"#7fbc41\"], [0.9, \"#4d9221\"], [1, \"#276419\"]], \"sequential\": [[0.0, \"#0d0887\"], [0.1111111111111111, \"#46039f\"], [0.2222222222222222, \"#7201a8\"], [0.3333333333333333, \"#9c179e\"], [0.4444444444444444, \"#bd3786\"], [0.5555555555555556, \"#d8576b\"], [0.6666666666666666, \"#ed7953\"], [0.7777777777777778, \"#fb9f3a\"], [0.8888888888888888, \"#fdca26\"], [1.0, \"#f0f921\"]], \"sequentialminus\": [[0.0, \"#0d0887\"], [0.1111111111111111, \"#46039f\"], [0.2222222222222222, \"#7201a8\"], [0.3333333333333333, \"#9c179e\"], [0.4444444444444444, \"#bd3786\"], [0.5555555555555556, \"#d8576b\"], [0.6666666666666666, \"#ed7953\"], [0.7777777777777778, \"#fb9f3a\"], [0.8888888888888888, \"#fdca26\"], [1.0, \"#f0f921\"]]}, \"colorway\": [\"#636efa\", \"#EF553B\", \"#00cc96\", \"#ab63fa\", \"#FFA15A\", \"#19d3f3\", \"#FF6692\", \"#B6E880\", \"#FF97FF\", \"#FECB52\"], \"font\": {\"color\": \"#2a3f5f\"}, \"geo\": {\"bgcolor\": \"white\", \"lakecolor\": \"white\", \"landcolor\": \"#E5ECF6\", \"showlakes\": true, \"showland\": true, \"subunitcolor\": \"white\"}, \"hoverlabel\": {\"align\": \"left\"}, \"hovermode\": \"closest\", \"mapbox\": {\"style\": \"light\"}, \"paper_bgcolor\": \"white\", \"plot_bgcolor\": \"#E5ECF6\", \"polar\": {\"angularaxis\": {\"gridcolor\": \"white\", \"linecolor\": \"white\", \"ticks\": \"\"}, \"bgcolor\": \"#E5ECF6\", \"radialaxis\": {\"gridcolor\": \"white\", \"linecolor\": \"white\", \"ticks\": \"\"}}, \"scene\": {\"xaxis\": {\"backgroundcolor\": \"#E5ECF6\", \"gridcolor\": \"white\", \"gridwidth\": 2, \"linecolor\": \"white\", \"showbackground\": true, \"ticks\": \"\", \"zerolinecolor\": \"white\"}, \"yaxis\": {\"backgroundcolor\": \"#E5ECF6\", \"gridcolor\": \"white\", \"gridwidth\": 2, \"linecolor\": \"white\", \"showbackground\": true, \"ticks\": \"\", \"zerolinecolor\": \"white\"}, \"zaxis\": {\"backgroundcolor\": \"#E5ECF6\", \"gridcolor\": \"white\", \"gridwidth\": 2, \"linecolor\": \"white\", \"showbackground\": true, \"ticks\": \"\", \"zerolinecolor\": \"white\"}}, \"shapedefaults\": {\"line\": {\"color\": \"#2a3f5f\"}}, \"ternary\": {\"aaxis\": {\"gridcolor\": \"white\", \"linecolor\": \"white\", \"ticks\": \"\"}, \"baxis\": {\"gridcolor\": \"white\", \"linecolor\": \"white\", \"ticks\": \"\"}, \"bgcolor\": \"#E5ECF6\", \"caxis\": {\"gridcolor\": \"white\", \"linecolor\": \"white\", \"ticks\": \"\"}}, \"title\": {\"x\": 0.05}, \"xaxis\": {\"automargin\": true, \"gridcolor\": \"white\", \"linecolor\": \"white\", \"ticks\": \"\", \"title\": {\"standoff\": 15}, \"zerolinecolor\": \"white\", \"zerolinewidth\": 2}, \"yaxis\": {\"automargin\": true, \"gridcolor\": \"white\", \"linecolor\": \"white\", \"ticks\": \"\", \"title\": {\"standoff\": 15}, \"zerolinecolor\": \"white\", \"zerolinewidth\": 2}}}},\n",
       "                        {\"responsive\": true}\n",
       "                    ).then(function(){\n",
       "                            \n",
       "var gd = document.getElementById('833c2a74-315f-4ff5-803f-d6345f5714ba');\n",
       "var x = new MutationObserver(function (mutations, observer) {{\n",
       "        var display = window.getComputedStyle(gd).display;\n",
       "        if (!display || display === 'none') {{\n",
       "            console.log([gd, 'removed!']);\n",
       "            Plotly.purge(gd);\n",
       "            observer.disconnect();\n",
       "        }}\n",
       "}});\n",
       "\n",
       "// Listen for the removal of the full notebook cells\n",
       "var notebookContainer = gd.closest('#notebook-container');\n",
       "if (notebookContainer) {{\n",
       "    x.observe(notebookContainer, {childList: true});\n",
       "}}\n",
       "\n",
       "// Listen for the clearing of the current output cell\n",
       "var outputEl = gd.closest('.output');\n",
       "if (outputEl) {{\n",
       "    x.observe(outputEl, {childList: true});\n",
       "}}\n",
       "\n",
       "                        })\n",
       "                };\n",
       "                \n",
       "            </script>\n",
       "        </div>\n",
       "</body>\n",
       "</html>"
      ]
     },
     "metadata": {
      "tags": []
     },
     "output_type": "display_data"
    }
   ],
   "source": [
    "fig = px.scatter_matrix(df, dimensions=[\"Total Cases\", \"Active\", \"Discharged\", \"Deaths\"], color=df['State/UTs'])\n",
    "fig.show()"
   ]
  },
  {
   "cell_type": "code",
   "execution_count": 38,
   "metadata": {
    "colab": {
     "base_uri": "https://localhost:8080/",
     "height": 542
    },
    "id": "Gi7f5vKPY13u",
    "outputId": "799615d0-8e93-4127-94ed-aa72ce43a1fe"
   },
   "outputs": [
    {
     "data": {
      "text/html": [
       "<html>\n",
       "<head><meta charset=\"utf-8\" /></head>\n",
       "<body>\n",
       "    <div>\n",
       "            <script src=\"https://cdnjs.cloudflare.com/ajax/libs/mathjax/2.7.5/MathJax.js?config=TeX-AMS-MML_SVG\"></script><script type=\"text/javascript\">if (window.MathJax) {MathJax.Hub.Config({SVG: {font: \"STIX-Web\"}});}</script>\n",
       "                <script type=\"text/javascript\">window.PlotlyConfig = {MathJaxConfig: 'local'};</script>\n",
       "        <script src=\"https://cdn.plot.ly/plotly-latest.min.js\"></script>    \n",
       "            <div id=\"e6c21953-beef-4ab1-828c-920471078ea3\" class=\"plotly-graph-div\" style=\"height:525px; width:100%;\"></div>\n",
       "            <script type=\"text/javascript\">\n",
       "                \n",
       "                    window.PLOTLYENV=window.PLOTLYENV || {};\n",
       "                    \n",
       "                if (document.getElementById(\"e6c21953-beef-4ab1-828c-920471078ea3\")) {\n",
       "                    Plotly.newPlot(\n",
       "                        'e6c21953-beef-4ab1-828c-920471078ea3',\n",
       "                        [{\"hoverlabel\": {\"namelength\": 0}, \"hovertemplate\": \"<b>%{hovertext}</b><br><br>Total Cases=%{x}<br>Active=%{y}<br>Active Ratio (%)=%{marker.color}\", \"hovertext\": [\"Andaman and Nicobar\", \"Andhra Pradesh\", \"Arunachal Pradesh\", \"Assam\", \"Bihar\", \"Chandigarh\", \"Chhattisgarh\", \"Daman and Diu\", \"Delhi\", \"Goa\", \"Gujarat\", \"Haryana\", \"Himachal Pradesh\", \"Jammu and Kashmir\", \"Jharkhand\", \"Karnataka\", \"Kerala\", \"Ladakh\", \"Lakshadweep\", \"Madhya Pradesh\", \"Maharashtra\", \"Manipur\", \"Meghalaya\", \"Mizoram\", \"Nagaland\", \"Odisha\", \"Puducherry\", \"Punjab\", \"Rajasthan\", \"Sikkim\", \"Tamil Nadu\", \"Telengana\", \"Tripura\", \"Uttar Pradesh\", \"Uttarakhand\", \"West Bengal\"], \"legendgroup\": \"\", \"marker\": {\"color\": [0.08, 1.04, 7.22, 2.19, 0.06, 0.05, 0.19, 0.14, 0.04, 0.6, 0.03, 0.09, 0.63, 0.39, 0.07, 0.83, 4.84, 0.28, 0.77, 0.02, 1.25, 9.83, 8.86, 30.7, 4.64, 1.36, 0.78, 0.08, 0.03, 12.36, 0.8, 1.37, 3.93, 0.04, 0.17, 0.71], \"coloraxis\": \"coloraxis\", \"size\": [0.08, 1.04, 7.22, 2.19, 0.06, 0.05, 0.19, 0.14, 0.04, 0.6, 0.03, 0.09, 0.63, 0.39, 0.07, 0.83, 4.84, 0.28, 0.77, 0.02, 1.25, 9.83, 8.86, 30.7, 4.64, 1.36, 0.78, 0.08, 0.03, 12.36, 0.8, 1.37, 3.93, 0.04, 0.17, 0.71], \"sizemode\": \"area\", \"sizeref\": 0.008527777777777778, \"symbol\": \"circle\"}, \"mode\": \"markers\", \"name\": \"\", \"showlegend\": false, \"type\": \"scatter\", \"x\": [7539, 1970008, 48565, 568257, 724917, 61960, 1002458, 10650, 1436401, 171295, 824922, 769956, 206369, 321725, 347223, 2908284, 3425473, 20345, 10207, 791862, 6315063, 99872, 65939, 40111, 28004, 979737, 121059, 599162, 953704, 26880, 2563544, 645997, 79026, 1708500, 342198, 1529295], \"xaxis\": \"x\", \"y\": [6, 20582, 3508, 12429, 401, 33, 1918, 15, 538, 1027, 251, 703, 1304, 1254, 239, 24045, 165834, 57, 79, 132, 78700, 9814, 5843, 12316, 1300, 13318, 944, 473, 241, 3323, 20385, 8819, 3104, 646, 574, 10803], \"yaxis\": \"y\"}],\n",
       "                        {\"coloraxis\": {\"colorbar\": {\"title\": {\"text\": \"Active Ratio (%)\"}}, \"colorscale\": [[0.0, \"#0d0887\"], [0.1111111111111111, \"#46039f\"], [0.2222222222222222, \"#7201a8\"], [0.3333333333333333, \"#9c179e\"], [0.4444444444444444, \"#bd3786\"], [0.5555555555555556, \"#d8576b\"], [0.6666666666666666, \"#ed7953\"], [0.7777777777777778, \"#fb9f3a\"], [0.8888888888888888, \"#fdca26\"], [1.0, \"#f0f921\"]]}, \"legend\": {\"itemsizing\": \"constant\", \"tracegroupgap\": 0}, \"margin\": {\"t\": 60}, \"template\": {\"data\": {\"bar\": [{\"error_x\": {\"color\": \"#2a3f5f\"}, \"error_y\": {\"color\": \"#2a3f5f\"}, \"marker\": {\"line\": {\"color\": \"#E5ECF6\", \"width\": 0.5}}, \"type\": \"bar\"}], \"barpolar\": [{\"marker\": {\"line\": {\"color\": \"#E5ECF6\", \"width\": 0.5}}, \"type\": \"barpolar\"}], \"carpet\": [{\"aaxis\": {\"endlinecolor\": \"#2a3f5f\", \"gridcolor\": \"white\", \"linecolor\": \"white\", \"minorgridcolor\": \"white\", \"startlinecolor\": \"#2a3f5f\"}, \"baxis\": {\"endlinecolor\": \"#2a3f5f\", \"gridcolor\": \"white\", \"linecolor\": \"white\", \"minorgridcolor\": \"white\", \"startlinecolor\": \"#2a3f5f\"}, \"type\": \"carpet\"}], \"choropleth\": [{\"colorbar\": {\"outlinewidth\": 0, \"ticks\": \"\"}, \"type\": \"choropleth\"}], \"contour\": [{\"colorbar\": {\"outlinewidth\": 0, \"ticks\": \"\"}, \"colorscale\": [[0.0, \"#0d0887\"], [0.1111111111111111, \"#46039f\"], [0.2222222222222222, \"#7201a8\"], [0.3333333333333333, \"#9c179e\"], [0.4444444444444444, \"#bd3786\"], [0.5555555555555556, \"#d8576b\"], [0.6666666666666666, \"#ed7953\"], [0.7777777777777778, \"#fb9f3a\"], [0.8888888888888888, \"#fdca26\"], [1.0, \"#f0f921\"]], \"type\": \"contour\"}], \"contourcarpet\": [{\"colorbar\": {\"outlinewidth\": 0, \"ticks\": \"\"}, \"type\": \"contourcarpet\"}], \"heatmap\": [{\"colorbar\": {\"outlinewidth\": 0, \"ticks\": \"\"}, \"colorscale\": [[0.0, \"#0d0887\"], [0.1111111111111111, \"#46039f\"], [0.2222222222222222, \"#7201a8\"], [0.3333333333333333, \"#9c179e\"], [0.4444444444444444, \"#bd3786\"], [0.5555555555555556, \"#d8576b\"], [0.6666666666666666, \"#ed7953\"], [0.7777777777777778, \"#fb9f3a\"], [0.8888888888888888, \"#fdca26\"], [1.0, \"#f0f921\"]], \"type\": \"heatmap\"}], \"heatmapgl\": [{\"colorbar\": {\"outlinewidth\": 0, \"ticks\": \"\"}, \"colorscale\": [[0.0, \"#0d0887\"], [0.1111111111111111, \"#46039f\"], [0.2222222222222222, \"#7201a8\"], [0.3333333333333333, \"#9c179e\"], [0.4444444444444444, \"#bd3786\"], [0.5555555555555556, \"#d8576b\"], [0.6666666666666666, \"#ed7953\"], [0.7777777777777778, \"#fb9f3a\"], [0.8888888888888888, \"#fdca26\"], [1.0, \"#f0f921\"]], \"type\": \"heatmapgl\"}], \"histogram\": [{\"marker\": {\"colorbar\": {\"outlinewidth\": 0, \"ticks\": \"\"}}, \"type\": \"histogram\"}], \"histogram2d\": [{\"colorbar\": {\"outlinewidth\": 0, \"ticks\": \"\"}, \"colorscale\": [[0.0, \"#0d0887\"], [0.1111111111111111, \"#46039f\"], [0.2222222222222222, \"#7201a8\"], [0.3333333333333333, \"#9c179e\"], [0.4444444444444444, \"#bd3786\"], [0.5555555555555556, \"#d8576b\"], [0.6666666666666666, \"#ed7953\"], [0.7777777777777778, \"#fb9f3a\"], [0.8888888888888888, \"#fdca26\"], [1.0, \"#f0f921\"]], \"type\": \"histogram2d\"}], \"histogram2dcontour\": [{\"colorbar\": {\"outlinewidth\": 0, \"ticks\": \"\"}, \"colorscale\": [[0.0, \"#0d0887\"], [0.1111111111111111, \"#46039f\"], [0.2222222222222222, \"#7201a8\"], [0.3333333333333333, \"#9c179e\"], [0.4444444444444444, \"#bd3786\"], [0.5555555555555556, \"#d8576b\"], [0.6666666666666666, \"#ed7953\"], [0.7777777777777778, \"#fb9f3a\"], [0.8888888888888888, \"#fdca26\"], [1.0, \"#f0f921\"]], \"type\": \"histogram2dcontour\"}], \"mesh3d\": [{\"colorbar\": {\"outlinewidth\": 0, \"ticks\": \"\"}, \"type\": \"mesh3d\"}], \"parcoords\": [{\"line\": {\"colorbar\": {\"outlinewidth\": 0, \"ticks\": \"\"}}, \"type\": \"parcoords\"}], \"pie\": [{\"automargin\": true, \"type\": \"pie\"}], \"scatter\": [{\"marker\": {\"colorbar\": {\"outlinewidth\": 0, \"ticks\": \"\"}}, \"type\": \"scatter\"}], \"scatter3d\": [{\"line\": {\"colorbar\": {\"outlinewidth\": 0, \"ticks\": \"\"}}, \"marker\": {\"colorbar\": {\"outlinewidth\": 0, \"ticks\": \"\"}}, \"type\": \"scatter3d\"}], \"scattercarpet\": [{\"marker\": {\"colorbar\": {\"outlinewidth\": 0, \"ticks\": \"\"}}, \"type\": \"scattercarpet\"}], \"scattergeo\": [{\"marker\": {\"colorbar\": {\"outlinewidth\": 0, \"ticks\": \"\"}}, \"type\": \"scattergeo\"}], \"scattergl\": [{\"marker\": {\"colorbar\": {\"outlinewidth\": 0, \"ticks\": \"\"}}, \"type\": \"scattergl\"}], \"scattermapbox\": [{\"marker\": {\"colorbar\": {\"outlinewidth\": 0, \"ticks\": \"\"}}, \"type\": \"scattermapbox\"}], \"scatterpolar\": [{\"marker\": {\"colorbar\": {\"outlinewidth\": 0, \"ticks\": \"\"}}, \"type\": \"scatterpolar\"}], \"scatterpolargl\": [{\"marker\": {\"colorbar\": {\"outlinewidth\": 0, \"ticks\": \"\"}}, \"type\": \"scatterpolargl\"}], \"scatterternary\": [{\"marker\": {\"colorbar\": {\"outlinewidth\": 0, \"ticks\": \"\"}}, \"type\": \"scatterternary\"}], \"surface\": [{\"colorbar\": {\"outlinewidth\": 0, \"ticks\": \"\"}, \"colorscale\": [[0.0, \"#0d0887\"], [0.1111111111111111, \"#46039f\"], [0.2222222222222222, \"#7201a8\"], [0.3333333333333333, \"#9c179e\"], [0.4444444444444444, \"#bd3786\"], [0.5555555555555556, \"#d8576b\"], [0.6666666666666666, \"#ed7953\"], [0.7777777777777778, \"#fb9f3a\"], [0.8888888888888888, \"#fdca26\"], [1.0, \"#f0f921\"]], \"type\": \"surface\"}], \"table\": [{\"cells\": {\"fill\": {\"color\": \"#EBF0F8\"}, \"line\": {\"color\": \"white\"}}, \"header\": {\"fill\": {\"color\": \"#C8D4E3\"}, \"line\": {\"color\": \"white\"}}, \"type\": \"table\"}]}, \"layout\": {\"annotationdefaults\": {\"arrowcolor\": \"#2a3f5f\", \"arrowhead\": 0, \"arrowwidth\": 1}, \"coloraxis\": {\"colorbar\": {\"outlinewidth\": 0, \"ticks\": \"\"}}, \"colorscale\": {\"diverging\": [[0, \"#8e0152\"], [0.1, \"#c51b7d\"], [0.2, \"#de77ae\"], [0.3, \"#f1b6da\"], [0.4, \"#fde0ef\"], [0.5, \"#f7f7f7\"], [0.6, \"#e6f5d0\"], [0.7, \"#b8e186\"], [0.8, \"#7fbc41\"], [0.9, \"#4d9221\"], [1, \"#276419\"]], \"sequential\": [[0.0, \"#0d0887\"], [0.1111111111111111, \"#46039f\"], [0.2222222222222222, \"#7201a8\"], [0.3333333333333333, \"#9c179e\"], [0.4444444444444444, \"#bd3786\"], [0.5555555555555556, \"#d8576b\"], [0.6666666666666666, \"#ed7953\"], [0.7777777777777778, \"#fb9f3a\"], [0.8888888888888888, \"#fdca26\"], [1.0, \"#f0f921\"]], \"sequentialminus\": [[0.0, \"#0d0887\"], [0.1111111111111111, \"#46039f\"], [0.2222222222222222, \"#7201a8\"], [0.3333333333333333, \"#9c179e\"], [0.4444444444444444, \"#bd3786\"], [0.5555555555555556, \"#d8576b\"], [0.6666666666666666, \"#ed7953\"], [0.7777777777777778, \"#fb9f3a\"], [0.8888888888888888, \"#fdca26\"], [1.0, \"#f0f921\"]]}, \"colorway\": [\"#636efa\", \"#EF553B\", \"#00cc96\", \"#ab63fa\", \"#FFA15A\", \"#19d3f3\", \"#FF6692\", \"#B6E880\", \"#FF97FF\", \"#FECB52\"], \"font\": {\"color\": \"#2a3f5f\"}, \"geo\": {\"bgcolor\": \"white\", \"lakecolor\": \"white\", \"landcolor\": \"#E5ECF6\", \"showlakes\": true, \"showland\": true, \"subunitcolor\": \"white\"}, \"hoverlabel\": {\"align\": \"left\"}, \"hovermode\": \"closest\", \"mapbox\": {\"style\": \"light\"}, \"paper_bgcolor\": \"white\", \"plot_bgcolor\": \"#E5ECF6\", \"polar\": {\"angularaxis\": {\"gridcolor\": \"white\", \"linecolor\": \"white\", \"ticks\": \"\"}, \"bgcolor\": \"#E5ECF6\", \"radialaxis\": {\"gridcolor\": \"white\", \"linecolor\": \"white\", \"ticks\": \"\"}}, \"scene\": {\"xaxis\": {\"backgroundcolor\": \"#E5ECF6\", \"gridcolor\": \"white\", \"gridwidth\": 2, \"linecolor\": \"white\", \"showbackground\": true, \"ticks\": \"\", \"zerolinecolor\": \"white\"}, \"yaxis\": {\"backgroundcolor\": \"#E5ECF6\", \"gridcolor\": \"white\", \"gridwidth\": 2, \"linecolor\": \"white\", \"showbackground\": true, \"ticks\": \"\", \"zerolinecolor\": \"white\"}, \"zaxis\": {\"backgroundcolor\": \"#E5ECF6\", \"gridcolor\": \"white\", \"gridwidth\": 2, \"linecolor\": \"white\", \"showbackground\": true, \"ticks\": \"\", \"zerolinecolor\": \"white\"}}, \"shapedefaults\": {\"line\": {\"color\": \"#2a3f5f\"}}, \"ternary\": {\"aaxis\": {\"gridcolor\": \"white\", \"linecolor\": \"white\", \"ticks\": \"\"}, \"baxis\": {\"gridcolor\": \"white\", \"linecolor\": \"white\", \"ticks\": \"\"}, \"bgcolor\": \"#E5ECF6\", \"caxis\": {\"gridcolor\": \"white\", \"linecolor\": \"white\", \"ticks\": \"\"}}, \"title\": {\"x\": 0.05}, \"xaxis\": {\"automargin\": true, \"gridcolor\": \"white\", \"linecolor\": \"white\", \"ticks\": \"\", \"title\": {\"standoff\": 15}, \"zerolinecolor\": \"white\", \"zerolinewidth\": 2}, \"yaxis\": {\"automargin\": true, \"gridcolor\": \"white\", \"linecolor\": \"white\", \"ticks\": \"\", \"title\": {\"standoff\": 15}, \"zerolinecolor\": \"white\", \"zerolinewidth\": 2}}}, \"xaxis\": {\"anchor\": \"y\", \"domain\": [0.0, 1.0], \"title\": {\"text\": \"Total Cases\"}, \"type\": \"log\"}, \"yaxis\": {\"anchor\": \"x\", \"domain\": [0.0, 1.0], \"title\": {\"text\": \"Active\"}}},\n",
       "                        {\"responsive\": true}\n",
       "                    ).then(function(){\n",
       "                            \n",
       "var gd = document.getElementById('e6c21953-beef-4ab1-828c-920471078ea3');\n",
       "var x = new MutationObserver(function (mutations, observer) {{\n",
       "        var display = window.getComputedStyle(gd).display;\n",
       "        if (!display || display === 'none') {{\n",
       "            console.log([gd, 'removed!']);\n",
       "            Plotly.purge(gd);\n",
       "            observer.disconnect();\n",
       "        }}\n",
       "}});\n",
       "\n",
       "// Listen for the removal of the full notebook cells\n",
       "var notebookContainer = gd.closest('#notebook-container');\n",
       "if (notebookContainer) {{\n",
       "    x.observe(notebookContainer, {childList: true});\n",
       "}}\n",
       "\n",
       "// Listen for the clearing of the current output cell\n",
       "var outputEl = gd.closest('.output');\n",
       "if (outputEl) {{\n",
       "    x.observe(outputEl, {childList: true});\n",
       "}}\n",
       "\n",
       "                        })\n",
       "                };\n",
       "                \n",
       "            </script>\n",
       "        </div>\n",
       "</body>\n",
       "</html>"
      ]
     },
     "metadata": {
      "tags": []
     },
     "output_type": "display_data"
    }
   ],
   "source": [
    "px.scatter(df, x=\"Total Cases\", y=\"Active\",size=\"Active Ratio (%)\", color=\"Active Ratio (%)\",hover_name=\"State/UTs\", log_x=True, size_max=60)"
   ]
  },
  {
   "cell_type": "markdown",
   "metadata": {
    "id": "h5CxAAj_Y6GR"
   },
   "source": [
    "\n",
    "\n",
    "> Mizoram has highest number of cases \n",
    "\n"
   ]
  },
  {
   "cell_type": "code",
   "execution_count": 41,
   "metadata": {
    "colab": {
     "base_uri": "https://localhost:8080/",
     "height": 542
    },
    "id": "Rbe_12y9ZKX9",
    "outputId": "6372be80-2533-429a-a73e-78bb10ec62c5"
   },
   "outputs": [
    {
     "data": {
      "text/html": [
       "<html>\n",
       "<head><meta charset=\"utf-8\" /></head>\n",
       "<body>\n",
       "    <div>\n",
       "            <script src=\"https://cdnjs.cloudflare.com/ajax/libs/mathjax/2.7.5/MathJax.js?config=TeX-AMS-MML_SVG\"></script><script type=\"text/javascript\">if (window.MathJax) {MathJax.Hub.Config({SVG: {font: \"STIX-Web\"}});}</script>\n",
       "                <script type=\"text/javascript\">window.PlotlyConfig = {MathJaxConfig: 'local'};</script>\n",
       "        <script src=\"https://cdn.plot.ly/plotly-latest.min.js\"></script>    \n",
       "            <div id=\"e5d33fe7-a075-4592-be8a-095b9168c158\" class=\"plotly-graph-div\" style=\"height:525px; width:100%;\"></div>\n",
       "            <script type=\"text/javascript\">\n",
       "                \n",
       "                    window.PLOTLYENV=window.PLOTLYENV || {};\n",
       "                    \n",
       "                if (document.getElementById(\"e5d33fe7-a075-4592-be8a-095b9168c158\")) {\n",
       "                    Plotly.newPlot(\n",
       "                        'e5d33fe7-a075-4592-be8a-095b9168c158',\n",
       "                        [{\"domain\": {\"x\": [0.0, 1.0], \"y\": [0.0, 1.0]}, \"hoverlabel\": {\"namelength\": 0}, \"hovertemplate\": \"State/UTs=%{label}<br>Total Cases=%{value}\", \"labels\": [\"Andaman and Nicobar\", \"Andhra Pradesh\", \"Arunachal Pradesh\", \"Assam\", \"Bihar\", \"Chandigarh\", \"Chhattisgarh\", \"Daman and Diu\", \"Delhi\", \"Goa\", \"Gujarat\", \"Haryana\", \"Himachal Pradesh\", \"Jammu and Kashmir\", \"Jharkhand\", \"Karnataka\", \"Kerala\", \"Ladakh\", \"Lakshadweep\", \"Madhya Pradesh\", \"Maharashtra\", \"Manipur\", \"Meghalaya\", \"Mizoram\", \"Nagaland\", \"Odisha\", \"Puducherry\", \"Punjab\", \"Rajasthan\", \"Sikkim\", \"Tamil Nadu\", \"Telengana\", \"Tripura\", \"Uttar Pradesh\", \"Uttarakhand\", \"West Bengal\"], \"legendgroup\": \"\", \"name\": \"\", \"showlegend\": true, \"type\": \"pie\", \"values\": [7539, 1970008, 48565, 568257, 724917, 61960, 1002458, 10650, 1436401, 171295, 824922, 769956, 206369, 321725, 347223, 2908284, 3425473, 20345, 10207, 791862, 6315063, 99872, 65939, 40111, 28004, 979737, 121059, 599162, 953704, 26880, 2563544, 645997, 79026, 1708500, 342198, 1529295]}],\n",
       "                        {\"legend\": {\"tracegroupgap\": 0}, \"template\": {\"data\": {\"bar\": [{\"error_x\": {\"color\": \"#2a3f5f\"}, \"error_y\": {\"color\": \"#2a3f5f\"}, \"marker\": {\"line\": {\"color\": \"#E5ECF6\", \"width\": 0.5}}, \"type\": \"bar\"}], \"barpolar\": [{\"marker\": {\"line\": {\"color\": \"#E5ECF6\", \"width\": 0.5}}, \"type\": \"barpolar\"}], \"carpet\": [{\"aaxis\": {\"endlinecolor\": \"#2a3f5f\", \"gridcolor\": \"white\", \"linecolor\": \"white\", \"minorgridcolor\": \"white\", \"startlinecolor\": \"#2a3f5f\"}, \"baxis\": {\"endlinecolor\": \"#2a3f5f\", \"gridcolor\": \"white\", \"linecolor\": \"white\", \"minorgridcolor\": \"white\", \"startlinecolor\": \"#2a3f5f\"}, \"type\": \"carpet\"}], \"choropleth\": [{\"colorbar\": {\"outlinewidth\": 0, \"ticks\": \"\"}, \"type\": \"choropleth\"}], \"contour\": [{\"colorbar\": {\"outlinewidth\": 0, \"ticks\": \"\"}, \"colorscale\": [[0.0, \"#0d0887\"], [0.1111111111111111, \"#46039f\"], [0.2222222222222222, \"#7201a8\"], [0.3333333333333333, \"#9c179e\"], [0.4444444444444444, \"#bd3786\"], [0.5555555555555556, \"#d8576b\"], [0.6666666666666666, \"#ed7953\"], [0.7777777777777778, \"#fb9f3a\"], [0.8888888888888888, \"#fdca26\"], [1.0, \"#f0f921\"]], \"type\": \"contour\"}], \"contourcarpet\": [{\"colorbar\": {\"outlinewidth\": 0, \"ticks\": \"\"}, \"type\": \"contourcarpet\"}], \"heatmap\": [{\"colorbar\": {\"outlinewidth\": 0, \"ticks\": \"\"}, \"colorscale\": [[0.0, \"#0d0887\"], [0.1111111111111111, \"#46039f\"], [0.2222222222222222, \"#7201a8\"], [0.3333333333333333, \"#9c179e\"], [0.4444444444444444, \"#bd3786\"], [0.5555555555555556, \"#d8576b\"], [0.6666666666666666, \"#ed7953\"], [0.7777777777777778, \"#fb9f3a\"], [0.8888888888888888, \"#fdca26\"], [1.0, \"#f0f921\"]], \"type\": \"heatmap\"}], \"heatmapgl\": [{\"colorbar\": {\"outlinewidth\": 0, \"ticks\": \"\"}, \"colorscale\": [[0.0, \"#0d0887\"], [0.1111111111111111, \"#46039f\"], [0.2222222222222222, \"#7201a8\"], [0.3333333333333333, \"#9c179e\"], [0.4444444444444444, \"#bd3786\"], [0.5555555555555556, \"#d8576b\"], [0.6666666666666666, \"#ed7953\"], [0.7777777777777778, \"#fb9f3a\"], [0.8888888888888888, \"#fdca26\"], [1.0, \"#f0f921\"]], \"type\": \"heatmapgl\"}], \"histogram\": [{\"marker\": {\"colorbar\": {\"outlinewidth\": 0, \"ticks\": \"\"}}, \"type\": \"histogram\"}], \"histogram2d\": [{\"colorbar\": {\"outlinewidth\": 0, \"ticks\": \"\"}, \"colorscale\": [[0.0, \"#0d0887\"], [0.1111111111111111, \"#46039f\"], [0.2222222222222222, \"#7201a8\"], [0.3333333333333333, \"#9c179e\"], [0.4444444444444444, \"#bd3786\"], [0.5555555555555556, \"#d8576b\"], [0.6666666666666666, \"#ed7953\"], [0.7777777777777778, \"#fb9f3a\"], [0.8888888888888888, \"#fdca26\"], [1.0, \"#f0f921\"]], \"type\": \"histogram2d\"}], \"histogram2dcontour\": [{\"colorbar\": {\"outlinewidth\": 0, \"ticks\": \"\"}, \"colorscale\": [[0.0, \"#0d0887\"], [0.1111111111111111, \"#46039f\"], [0.2222222222222222, \"#7201a8\"], [0.3333333333333333, \"#9c179e\"], [0.4444444444444444, \"#bd3786\"], [0.5555555555555556, \"#d8576b\"], [0.6666666666666666, \"#ed7953\"], [0.7777777777777778, \"#fb9f3a\"], [0.8888888888888888, \"#fdca26\"], [1.0, \"#f0f921\"]], \"type\": \"histogram2dcontour\"}], \"mesh3d\": [{\"colorbar\": {\"outlinewidth\": 0, \"ticks\": \"\"}, \"type\": \"mesh3d\"}], \"parcoords\": [{\"line\": {\"colorbar\": {\"outlinewidth\": 0, \"ticks\": \"\"}}, \"type\": \"parcoords\"}], \"pie\": [{\"automargin\": true, \"type\": \"pie\"}], \"scatter\": [{\"marker\": {\"colorbar\": {\"outlinewidth\": 0, \"ticks\": \"\"}}, \"type\": \"scatter\"}], \"scatter3d\": [{\"line\": {\"colorbar\": {\"outlinewidth\": 0, \"ticks\": \"\"}}, \"marker\": {\"colorbar\": {\"outlinewidth\": 0, \"ticks\": \"\"}}, \"type\": \"scatter3d\"}], \"scattercarpet\": [{\"marker\": {\"colorbar\": {\"outlinewidth\": 0, \"ticks\": \"\"}}, \"type\": \"scattercarpet\"}], \"scattergeo\": [{\"marker\": {\"colorbar\": {\"outlinewidth\": 0, \"ticks\": \"\"}}, \"type\": \"scattergeo\"}], \"scattergl\": [{\"marker\": {\"colorbar\": {\"outlinewidth\": 0, \"ticks\": \"\"}}, \"type\": \"scattergl\"}], \"scattermapbox\": [{\"marker\": {\"colorbar\": {\"outlinewidth\": 0, \"ticks\": \"\"}}, \"type\": \"scattermapbox\"}], \"scatterpolar\": [{\"marker\": {\"colorbar\": {\"outlinewidth\": 0, \"ticks\": \"\"}}, \"type\": \"scatterpolar\"}], \"scatterpolargl\": [{\"marker\": {\"colorbar\": {\"outlinewidth\": 0, \"ticks\": \"\"}}, \"type\": \"scatterpolargl\"}], \"scatterternary\": [{\"marker\": {\"colorbar\": {\"outlinewidth\": 0, \"ticks\": \"\"}}, \"type\": \"scatterternary\"}], \"surface\": [{\"colorbar\": {\"outlinewidth\": 0, \"ticks\": \"\"}, \"colorscale\": [[0.0, \"#0d0887\"], [0.1111111111111111, \"#46039f\"], [0.2222222222222222, \"#7201a8\"], [0.3333333333333333, \"#9c179e\"], [0.4444444444444444, \"#bd3786\"], [0.5555555555555556, \"#d8576b\"], [0.6666666666666666, \"#ed7953\"], [0.7777777777777778, \"#fb9f3a\"], [0.8888888888888888, \"#fdca26\"], [1.0, \"#f0f921\"]], \"type\": \"surface\"}], \"table\": [{\"cells\": {\"fill\": {\"color\": \"#EBF0F8\"}, \"line\": {\"color\": \"white\"}}, \"header\": {\"fill\": {\"color\": \"#C8D4E3\"}, \"line\": {\"color\": \"white\"}}, \"type\": \"table\"}]}, \"layout\": {\"annotationdefaults\": {\"arrowcolor\": \"#2a3f5f\", \"arrowhead\": 0, \"arrowwidth\": 1}, \"coloraxis\": {\"colorbar\": {\"outlinewidth\": 0, \"ticks\": \"\"}}, \"colorscale\": {\"diverging\": [[0, \"#8e0152\"], [0.1, \"#c51b7d\"], [0.2, \"#de77ae\"], [0.3, \"#f1b6da\"], [0.4, \"#fde0ef\"], [0.5, \"#f7f7f7\"], [0.6, \"#e6f5d0\"], [0.7, \"#b8e186\"], [0.8, \"#7fbc41\"], [0.9, \"#4d9221\"], [1, \"#276419\"]], \"sequential\": [[0.0, \"#0d0887\"], [0.1111111111111111, \"#46039f\"], [0.2222222222222222, \"#7201a8\"], [0.3333333333333333, \"#9c179e\"], [0.4444444444444444, \"#bd3786\"], [0.5555555555555556, \"#d8576b\"], [0.6666666666666666, \"#ed7953\"], [0.7777777777777778, \"#fb9f3a\"], [0.8888888888888888, \"#fdca26\"], [1.0, \"#f0f921\"]], \"sequentialminus\": [[0.0, \"#0d0887\"], [0.1111111111111111, \"#46039f\"], [0.2222222222222222, \"#7201a8\"], [0.3333333333333333, \"#9c179e\"], [0.4444444444444444, \"#bd3786\"], [0.5555555555555556, \"#d8576b\"], [0.6666666666666666, \"#ed7953\"], [0.7777777777777778, \"#fb9f3a\"], [0.8888888888888888, \"#fdca26\"], [1.0, \"#f0f921\"]]}, \"colorway\": [\"#636efa\", \"#EF553B\", \"#00cc96\", \"#ab63fa\", \"#FFA15A\", \"#19d3f3\", \"#FF6692\", \"#B6E880\", \"#FF97FF\", \"#FECB52\"], \"font\": {\"color\": \"#2a3f5f\"}, \"geo\": {\"bgcolor\": \"white\", \"lakecolor\": \"white\", \"landcolor\": \"#E5ECF6\", \"showlakes\": true, \"showland\": true, \"subunitcolor\": \"white\"}, \"hoverlabel\": {\"align\": \"left\"}, \"hovermode\": \"closest\", \"mapbox\": {\"style\": \"light\"}, \"paper_bgcolor\": \"white\", \"plot_bgcolor\": \"#E5ECF6\", \"polar\": {\"angularaxis\": {\"gridcolor\": \"white\", \"linecolor\": \"white\", \"ticks\": \"\"}, \"bgcolor\": \"#E5ECF6\", \"radialaxis\": {\"gridcolor\": \"white\", \"linecolor\": \"white\", \"ticks\": \"\"}}, \"scene\": {\"xaxis\": {\"backgroundcolor\": \"#E5ECF6\", \"gridcolor\": \"white\", \"gridwidth\": 2, \"linecolor\": \"white\", \"showbackground\": true, \"ticks\": \"\", \"zerolinecolor\": \"white\"}, \"yaxis\": {\"backgroundcolor\": \"#E5ECF6\", \"gridcolor\": \"white\", \"gridwidth\": 2, \"linecolor\": \"white\", \"showbackground\": true, \"ticks\": \"\", \"zerolinecolor\": \"white\"}, \"zaxis\": {\"backgroundcolor\": \"#E5ECF6\", \"gridcolor\": \"white\", \"gridwidth\": 2, \"linecolor\": \"white\", \"showbackground\": true, \"ticks\": \"\", \"zerolinecolor\": \"white\"}}, \"shapedefaults\": {\"line\": {\"color\": \"#2a3f5f\"}}, \"ternary\": {\"aaxis\": {\"gridcolor\": \"white\", \"linecolor\": \"white\", \"ticks\": \"\"}, \"baxis\": {\"gridcolor\": \"white\", \"linecolor\": \"white\", \"ticks\": \"\"}, \"bgcolor\": \"#E5ECF6\", \"caxis\": {\"gridcolor\": \"white\", \"linecolor\": \"white\", \"ticks\": \"\"}}, \"title\": {\"x\": 0.05}, \"xaxis\": {\"automargin\": true, \"gridcolor\": \"white\", \"linecolor\": \"white\", \"ticks\": \"\", \"title\": {\"standoff\": 15}, \"zerolinecolor\": \"white\", \"zerolinewidth\": 2}, \"yaxis\": {\"automargin\": true, \"gridcolor\": \"white\", \"linecolor\": \"white\", \"ticks\": \"\", \"title\": {\"standoff\": 15}, \"zerolinecolor\": \"white\", \"zerolinewidth\": 2}}}, \"title\": {\"text\": \"Covid cases (%) in all states of India\"}},\n",
       "                        {\"responsive\": true}\n",
       "                    ).then(function(){\n",
       "                            \n",
       "var gd = document.getElementById('e5d33fe7-a075-4592-be8a-095b9168c158');\n",
       "var x = new MutationObserver(function (mutations, observer) {{\n",
       "        var display = window.getComputedStyle(gd).display;\n",
       "        if (!display || display === 'none') {{\n",
       "            console.log([gd, 'removed!']);\n",
       "            Plotly.purge(gd);\n",
       "            observer.disconnect();\n",
       "        }}\n",
       "}});\n",
       "\n",
       "// Listen for the removal of the full notebook cells\n",
       "var notebookContainer = gd.closest('#notebook-container');\n",
       "if (notebookContainer) {{\n",
       "    x.observe(notebookContainer, {childList: true});\n",
       "}}\n",
       "\n",
       "// Listen for the clearing of the current output cell\n",
       "var outputEl = gd.closest('.output');\n",
       "if (outputEl) {{\n",
       "    x.observe(outputEl, {childList: true});\n",
       "}}\n",
       "\n",
       "                        })\n",
       "                };\n",
       "                \n",
       "            </script>\n",
       "        </div>\n",
       "</body>\n",
       "</html>"
      ]
     },
     "metadata": {
      "tags": []
     },
     "output_type": "display_data"
    }
   ],
   "source": [
    "fig = px.pie(df, values='Total Cases', names=df['State/UTs'], title='Covid cases (%) in all states of India')\n",
    "fig.show()"
   ]
  },
  {
   "cell_type": "markdown",
   "metadata": {
    "id": "-I3cw75OZ0QP"
   },
   "source": [
    "\n",
    "\n",
    "> More than 50 percent of cases of India are coming from 5-6 states together.\n",
    "\n"
   ]
  },
  {
   "cell_type": "code",
   "execution_count": 42,
   "metadata": {
    "colab": {
     "base_uri": "https://localhost:8080/"
    },
    "id": "_b_St4U3aM8x",
    "outputId": "17d3188a-f5a3-4e3d-ca0f-e499313b2aea"
   },
   "outputs": [
    {
     "data": {
      "text/plain": [
       "State/UTs              36\n",
       "Total Cases            36\n",
       "Active                 36\n",
       "Discharged             36\n",
       "Deaths                 36\n",
       "Active Ratio (%)       33\n",
       "Discharge Ratio (%)    35\n",
       "Death Ratio (%)        30\n",
       "dtype: int64"
      ]
     },
     "execution_count": 42,
     "metadata": {
      "tags": []
     },
     "output_type": "execute_result"
    }
   ],
   "source": [
    "df.nunique()"
   ]
  },
  {
   "cell_type": "markdown",
   "metadata": {
    "id": "5ZtsEtVOaayu"
   },
   "source": [
    "-highest number of cases"
   ]
  },
  {
   "cell_type": "code",
   "execution_count": 43,
   "metadata": {
    "colab": {
     "base_uri": "https://localhost:8080/",
     "height": 80
    },
    "id": "WHg_V1IIaYzH",
    "outputId": "44204614-b235-4599-a868-a0742703d923"
   },
   "outputs": [
    {
     "data": {
      "text/html": [
       "<div>\n",
       "<style scoped>\n",
       "    .dataframe tbody tr th:only-of-type {\n",
       "        vertical-align: middle;\n",
       "    }\n",
       "\n",
       "    .dataframe tbody tr th {\n",
       "        vertical-align: top;\n",
       "    }\n",
       "\n",
       "    .dataframe thead th {\n",
       "        text-align: right;\n",
       "    }\n",
       "</style>\n",
       "<table border=\"1\" class=\"dataframe\">\n",
       "  <thead>\n",
       "    <tr style=\"text-align: right;\">\n",
       "      <th></th>\n",
       "      <th>State/UTs</th>\n",
       "      <th>Total Cases</th>\n",
       "      <th>Active</th>\n",
       "      <th>Discharged</th>\n",
       "      <th>Deaths</th>\n",
       "      <th>Active Ratio (%)</th>\n",
       "      <th>Discharge Ratio (%)</th>\n",
       "      <th>Death Ratio (%)</th>\n",
       "    </tr>\n",
       "  </thead>\n",
       "  <tbody>\n",
       "    <tr>\n",
       "      <th>20</th>\n",
       "      <td>Maharashtra</td>\n",
       "      <td>6315063</td>\n",
       "      <td>78700</td>\n",
       "      <td>6103325</td>\n",
       "      <td>133038</td>\n",
       "      <td>1.25</td>\n",
       "      <td>96.65</td>\n",
       "      <td>2.11</td>\n",
       "    </tr>\n",
       "  </tbody>\n",
       "</table>\n",
       "</div>"
      ],
      "text/plain": [
       "      State/UTs  Total Cases  ...  Discharge Ratio (%)  Death Ratio (%)\n",
       "20  Maharashtra      6315063  ...                96.65             2.11\n",
       "\n",
       "[1 rows x 8 columns]"
      ]
     },
     "execution_count": 43,
     "metadata": {
      "tags": []
     },
     "output_type": "execute_result"
    }
   ],
   "source": [
    "\n",
    "highest_cases = df[df['Total Cases'] == max(df['Total Cases'])]\n",
    "highest_cases"
   ]
  },
  {
   "cell_type": "code",
   "execution_count": 44,
   "metadata": {
    "colab": {
     "base_uri": "https://localhost:8080/",
     "height": 111
    },
    "id": "3T_0faBNaq0u",
    "outputId": "1bc7baa9-55a0-4879-dbcc-aa70c9fae203"
   },
   "outputs": [
    {
     "data": {
      "text/html": [
       "<div>\n",
       "<style scoped>\n",
       "    .dataframe tbody tr th:only-of-type {\n",
       "        vertical-align: middle;\n",
       "    }\n",
       "\n",
       "    .dataframe tbody tr th {\n",
       "        vertical-align: top;\n",
       "    }\n",
       "\n",
       "    .dataframe thead th {\n",
       "        text-align: right;\n",
       "    }\n",
       "</style>\n",
       "<table border=\"1\" class=\"dataframe\">\n",
       "  <thead>\n",
       "    <tr style=\"text-align: right;\">\n",
       "      <th></th>\n",
       "      <th>State/UTs</th>\n",
       "      <th>Total Cases</th>\n",
       "      <th>Active</th>\n",
       "      <th>Discharged</th>\n",
       "      <th>Deaths</th>\n",
       "      <th>Active Ratio (%)</th>\n",
       "      <th>Discharge Ratio (%)</th>\n",
       "      <th>Death Ratio (%)</th>\n",
       "    </tr>\n",
       "  </thead>\n",
       "  <tbody>\n",
       "    <tr>\n",
       "      <th>0</th>\n",
       "      <td>Andaman and Nicobar</td>\n",
       "      <td>7539</td>\n",
       "      <td>6</td>\n",
       "      <td>7404</td>\n",
       "      <td>129</td>\n",
       "      <td>0.08</td>\n",
       "      <td>98.21</td>\n",
       "      <td>1.71</td>\n",
       "    </tr>\n",
       "    <tr>\n",
       "      <th>1</th>\n",
       "      <td>Andhra Pradesh</td>\n",
       "      <td>1970008</td>\n",
       "      <td>20582</td>\n",
       "      <td>1936016</td>\n",
       "      <td>13410</td>\n",
       "      <td>1.04</td>\n",
       "      <td>98.27</td>\n",
       "      <td>0.68</td>\n",
       "    </tr>\n",
       "  </tbody>\n",
       "</table>\n",
       "</div>"
      ],
      "text/plain": [
       "             State/UTs  Total Cases  ...  Discharge Ratio (%)  Death Ratio (%)\n",
       "0  Andaman and Nicobar         7539  ...                98.21             1.71\n",
       "1       Andhra Pradesh      1970008  ...                98.27             0.68\n",
       "\n",
       "[2 rows x 8 columns]"
      ]
     },
     "execution_count": 44,
     "metadata": {
      "tags": []
     },
     "output_type": "execute_result"
    }
   ],
   "source": [
    "df.head(2)"
   ]
  },
  {
   "cell_type": "code",
   "execution_count": 45,
   "metadata": {
    "colab": {
     "base_uri": "https://localhost:8080/",
     "height": 80
    },
    "id": "JBf0aAWzaQtA",
    "outputId": "946b534c-3f7e-492d-a874-8086e9bfdf76"
   },
   "outputs": [
    {
     "data": {
      "text/html": [
       "<div>\n",
       "<style scoped>\n",
       "    .dataframe tbody tr th:only-of-type {\n",
       "        vertical-align: middle;\n",
       "    }\n",
       "\n",
       "    .dataframe tbody tr th {\n",
       "        vertical-align: top;\n",
       "    }\n",
       "\n",
       "    .dataframe thead th {\n",
       "        text-align: right;\n",
       "    }\n",
       "</style>\n",
       "<table border=\"1\" class=\"dataframe\">\n",
       "  <thead>\n",
       "    <tr style=\"text-align: right;\">\n",
       "      <th></th>\n",
       "      <th>State/UTs</th>\n",
       "      <th>Total Cases</th>\n",
       "      <th>Active</th>\n",
       "      <th>Discharged</th>\n",
       "      <th>Deaths</th>\n",
       "      <th>Active Ratio (%)</th>\n",
       "      <th>Discharge Ratio (%)</th>\n",
       "      <th>Death Ratio (%)</th>\n",
       "    </tr>\n",
       "  </thead>\n",
       "  <tbody>\n",
       "    <tr>\n",
       "      <th>20</th>\n",
       "      <td>Maharashtra</td>\n",
       "      <td>6315063</td>\n",
       "      <td>78700</td>\n",
       "      <td>6103325</td>\n",
       "      <td>133038</td>\n",
       "      <td>1.25</td>\n",
       "      <td>96.65</td>\n",
       "      <td>2.11</td>\n",
       "    </tr>\n",
       "  </tbody>\n",
       "</table>\n",
       "</div>"
      ],
      "text/plain": [
       "      State/UTs  Total Cases  ...  Discharge Ratio (%)  Death Ratio (%)\n",
       "20  Maharashtra      6315063  ...                96.65             2.11\n",
       "\n",
       "[1 rows x 8 columns]"
      ]
     },
     "execution_count": 45,
     "metadata": {
      "tags": []
     },
     "output_type": "execute_result"
    }
   ],
   "source": [
    "\n",
    "highest_deaths = df[df['Deaths'] == max(df['Deaths'])]\n",
    "highest_deaths"
   ]
  },
  {
   "cell_type": "code",
   "execution_count": 48,
   "metadata": {
    "colab": {
     "base_uri": "https://localhost:8080/",
     "height": 80
    },
    "id": "FZ7D5i2Eb4_t",
    "outputId": "68e15d43-646a-473a-d790-338d69ce101a"
   },
   "outputs": [
    {
     "data": {
      "text/html": [
       "<div>\n",
       "<style scoped>\n",
       "    .dataframe tbody tr th:only-of-type {\n",
       "        vertical-align: middle;\n",
       "    }\n",
       "\n",
       "    .dataframe tbody tr th {\n",
       "        vertical-align: top;\n",
       "    }\n",
       "\n",
       "    .dataframe thead th {\n",
       "        text-align: right;\n",
       "    }\n",
       "</style>\n",
       "<table border=\"1\" class=\"dataframe\">\n",
       "  <thead>\n",
       "    <tr style=\"text-align: right;\">\n",
       "      <th></th>\n",
       "      <th>State/UTs</th>\n",
       "      <th>Total Cases</th>\n",
       "      <th>Active</th>\n",
       "      <th>Discharged</th>\n",
       "      <th>Deaths</th>\n",
       "      <th>Active Ratio (%)</th>\n",
       "      <th>Discharge Ratio (%)</th>\n",
       "      <th>Death Ratio (%)</th>\n",
       "    </tr>\n",
       "  </thead>\n",
       "  <tbody>\n",
       "    <tr>\n",
       "      <th>7</th>\n",
       "      <td>Daman and Diu</td>\n",
       "      <td>10650</td>\n",
       "      <td>15</td>\n",
       "      <td>10631</td>\n",
       "      <td>4</td>\n",
       "      <td>0.14</td>\n",
       "      <td>99.82</td>\n",
       "      <td>0.04</td>\n",
       "    </tr>\n",
       "  </tbody>\n",
       "</table>\n",
       "</div>"
      ],
      "text/plain": [
       "       State/UTs  Total Cases  ...  Discharge Ratio (%)  Death Ratio (%)\n",
       "7  Daman and Diu        10650  ...                99.82             0.04\n",
       "\n",
       "[1 rows x 8 columns]"
      ]
     },
     "execution_count": 48,
     "metadata": {
      "tags": []
     },
     "output_type": "execute_result"
    }
   ],
   "source": [
    "low_deaths = df[df['Deaths'] == min(df['Deaths'])]\n",
    "low_deaths"
   ]
  },
  {
   "cell_type": "markdown",
   "metadata": {
    "id": "qusS1rz6cCZv"
   },
   "source": [
    "\n",
    "\n",
    "> Highest death rate in Maharastra and Lowest in Daman and Diu\n",
    "\n"
   ]
  },
  {
   "cell_type": "code",
   "execution_count": 46,
   "metadata": {
    "colab": {
     "base_uri": "https://localhost:8080/",
     "height": 80
    },
    "id": "eOn0Cy8ia-kG",
    "outputId": "6542a7e5-5e13-4958-fbb6-e11e85333a94"
   },
   "outputs": [
    {
     "data": {
      "text/html": [
       "<div>\n",
       "<style scoped>\n",
       "    .dataframe tbody tr th:only-of-type {\n",
       "        vertical-align: middle;\n",
       "    }\n",
       "\n",
       "    .dataframe tbody tr th {\n",
       "        vertical-align: top;\n",
       "    }\n",
       "\n",
       "    .dataframe thead th {\n",
       "        text-align: right;\n",
       "    }\n",
       "</style>\n",
       "<table border=\"1\" class=\"dataframe\">\n",
       "  <thead>\n",
       "    <tr style=\"text-align: right;\">\n",
       "      <th></th>\n",
       "      <th>State/UTs</th>\n",
       "      <th>Total Cases</th>\n",
       "      <th>Active</th>\n",
       "      <th>Discharged</th>\n",
       "      <th>Deaths</th>\n",
       "      <th>Active Ratio (%)</th>\n",
       "      <th>Discharge Ratio (%)</th>\n",
       "      <th>Death Ratio (%)</th>\n",
       "    </tr>\n",
       "  </thead>\n",
       "  <tbody>\n",
       "    <tr>\n",
       "      <th>16</th>\n",
       "      <td>Kerala</td>\n",
       "      <td>3425473</td>\n",
       "      <td>165834</td>\n",
       "      <td>3242684</td>\n",
       "      <td>16955</td>\n",
       "      <td>4.84</td>\n",
       "      <td>94.66</td>\n",
       "      <td>0.49</td>\n",
       "    </tr>\n",
       "  </tbody>\n",
       "</table>\n",
       "</div>"
      ],
      "text/plain": [
       "   State/UTs  Total Cases  ...  Discharge Ratio (%)  Death Ratio (%)\n",
       "16    Kerala      3425473  ...                94.66             0.49\n",
       "\n",
       "[1 rows x 8 columns]"
      ]
     },
     "execution_count": 46,
     "metadata": {
      "tags": []
     },
     "output_type": "execute_result"
    }
   ],
   "source": [
    "active = df[df['Active'] == max(df['Active'])]\n",
    "active"
   ]
  },
  {
   "cell_type": "code",
   "execution_count": 47,
   "metadata": {
    "colab": {
     "base_uri": "https://localhost:8080/",
     "height": 80
    },
    "id": "L0ZKqkNcbST5",
    "outputId": "781a0cf8-cfc9-4647-d221-8023ac23fbb2"
   },
   "outputs": [
    {
     "data": {
      "text/html": [
       "<div>\n",
       "<style scoped>\n",
       "    .dataframe tbody tr th:only-of-type {\n",
       "        vertical-align: middle;\n",
       "    }\n",
       "\n",
       "    .dataframe tbody tr th {\n",
       "        vertical-align: top;\n",
       "    }\n",
       "\n",
       "    .dataframe thead th {\n",
       "        text-align: right;\n",
       "    }\n",
       "</style>\n",
       "<table border=\"1\" class=\"dataframe\">\n",
       "  <thead>\n",
       "    <tr style=\"text-align: right;\">\n",
       "      <th></th>\n",
       "      <th>State/UTs</th>\n",
       "      <th>Total Cases</th>\n",
       "      <th>Active</th>\n",
       "      <th>Discharged</th>\n",
       "      <th>Deaths</th>\n",
       "      <th>Active Ratio (%)</th>\n",
       "      <th>Discharge Ratio (%)</th>\n",
       "      <th>Death Ratio (%)</th>\n",
       "    </tr>\n",
       "  </thead>\n",
       "  <tbody>\n",
       "    <tr>\n",
       "      <th>0</th>\n",
       "      <td>Andaman and Nicobar</td>\n",
       "      <td>7539</td>\n",
       "      <td>6</td>\n",
       "      <td>7404</td>\n",
       "      <td>129</td>\n",
       "      <td>0.08</td>\n",
       "      <td>98.21</td>\n",
       "      <td>1.71</td>\n",
       "    </tr>\n",
       "  </tbody>\n",
       "</table>\n",
       "</div>"
      ],
      "text/plain": [
       "             State/UTs  Total Cases  ...  Discharge Ratio (%)  Death Ratio (%)\n",
       "0  Andaman and Nicobar         7539  ...                98.21             1.71\n",
       "\n",
       "[1 rows x 8 columns]"
      ]
     },
     "execution_count": 47,
     "metadata": {
      "tags": []
     },
     "output_type": "execute_result"
    }
   ],
   "source": [
    "active_low = df[df['Active'] == min(df['Active'])]\n",
    "active_low"
   ]
  },
  {
   "cell_type": "markdown",
   "metadata": {
    "id": "C_J9Tt73bahv"
   },
   "source": [
    "\n",
    "\n",
    "> Highest number of active cases in kerala and lowest number of active cases in Andaman and Nicobar.\n",
    "\n"
   ]
  },
  {
   "cell_type": "code",
   "execution_count": 61,
   "metadata": {
    "colab": {
     "base_uri": "https://localhost:8080/",
     "height": 295
    },
    "id": "zsSn-IHSbZ_3",
    "outputId": "99ca89c9-f965-4724-d73f-200a3e46276a"
   },
   "outputs": [
    {
     "data": {
      "image/png": "[encoded data removed]",
      "text/plain": [
       "<Figure size 432x288 with 1 Axes>"
      ]
     },
     "metadata": {
      "needs_background": "light",
      "tags": []
     },
     "output_type": "display_data"
    }
   ],
   "source": [
    "# Visualization of top 10 state having highest Death ratio in India.\n",
    "df1 = df.sort_values(by='Death Ratio (%)', ascending=False).head(10)\n",
    "states = df1['State/UTs']\n",
    "ratio = df1['Death Ratio (%)']\n",
    "plt.barh(states, ratio, color = '#CCCCFF')\n",
    "plt.xlabel('Death Ratio (%)')\n",
    "plt.ylabel('State')\n",
    "plt.title('State with  more death ratio in India')\n",
    "plt.show()"
   ]
  },
  {
   "cell_type": "code",
   "execution_count": 53,
   "metadata": {
    "colab": {
     "base_uri": "https://localhost:8080/",
     "height": 359
    },
    "id": "8ZUtPXbqdYFR",
    "outputId": "a72e3af2-f014-41ad-dda2-14e476220d8b"
   },
   "outputs": [
    {
     "data": {
      "text/html": [
       "<div>\n",
       "<style scoped>\n",
       "    .dataframe tbody tr th:only-of-type {\n",
       "        vertical-align: middle;\n",
       "    }\n",
       "\n",
       "    .dataframe tbody tr th {\n",
       "        vertical-align: top;\n",
       "    }\n",
       "\n",
       "    .dataframe thead th {\n",
       "        text-align: right;\n",
       "    }\n",
       "</style>\n",
       "<table border=\"1\" class=\"dataframe\">\n",
       "  <thead>\n",
       "    <tr style=\"text-align: right;\">\n",
       "      <th></th>\n",
       "      <th>State/UTs</th>\n",
       "      <th>Total Cases</th>\n",
       "      <th>Active</th>\n",
       "      <th>Discharged</th>\n",
       "      <th>Deaths</th>\n",
       "      <th>Active Ratio (%)</th>\n",
       "      <th>Discharge Ratio (%)</th>\n",
       "      <th>Death Ratio (%)</th>\n",
       "    </tr>\n",
       "  </thead>\n",
       "  <tbody>\n",
       "    <tr>\n",
       "      <th>27</th>\n",
       "      <td>Punjab</td>\n",
       "      <td>599162</td>\n",
       "      <td>473</td>\n",
       "      <td>582395</td>\n",
       "      <td>16294</td>\n",
       "      <td>0.08</td>\n",
       "      <td>97.20</td>\n",
       "      <td>2.72</td>\n",
       "    </tr>\n",
       "    <tr>\n",
       "      <th>34</th>\n",
       "      <td>Uttarakhand</td>\n",
       "      <td>342198</td>\n",
       "      <td>574</td>\n",
       "      <td>334261</td>\n",
       "      <td>7363</td>\n",
       "      <td>0.17</td>\n",
       "      <td>97.68</td>\n",
       "      <td>2.15</td>\n",
       "    </tr>\n",
       "    <tr>\n",
       "      <th>20</th>\n",
       "      <td>Maharashtra</td>\n",
       "      <td>6315063</td>\n",
       "      <td>78700</td>\n",
       "      <td>6103325</td>\n",
       "      <td>133038</td>\n",
       "      <td>1.25</td>\n",
       "      <td>96.65</td>\n",
       "      <td>2.11</td>\n",
       "    </tr>\n",
       "    <tr>\n",
       "      <th>24</th>\n",
       "      <td>Nagaland</td>\n",
       "      <td>28004</td>\n",
       "      <td>1300</td>\n",
       "      <td>26130</td>\n",
       "      <td>574</td>\n",
       "      <td>4.64</td>\n",
       "      <td>93.31</td>\n",
       "      <td>2.05</td>\n",
       "    </tr>\n",
       "    <tr>\n",
       "      <th>9</th>\n",
       "      <td>Goa</td>\n",
       "      <td>171295</td>\n",
       "      <td>1027</td>\n",
       "      <td>167118</td>\n",
       "      <td>3150</td>\n",
       "      <td>0.60</td>\n",
       "      <td>97.56</td>\n",
       "      <td>1.84</td>\n",
       "    </tr>\n",
       "    <tr>\n",
       "      <th>8</th>\n",
       "      <td>Delhi</td>\n",
       "      <td>1436401</td>\n",
       "      <td>538</td>\n",
       "      <td>1410809</td>\n",
       "      <td>25054</td>\n",
       "      <td>0.04</td>\n",
       "      <td>98.22</td>\n",
       "      <td>1.74</td>\n",
       "    </tr>\n",
       "    <tr>\n",
       "      <th>0</th>\n",
       "      <td>Andaman and Nicobar</td>\n",
       "      <td>7539</td>\n",
       "      <td>6</td>\n",
       "      <td>7404</td>\n",
       "      <td>129</td>\n",
       "      <td>0.08</td>\n",
       "      <td>98.21</td>\n",
       "      <td>1.71</td>\n",
       "    </tr>\n",
       "    <tr>\n",
       "      <th>12</th>\n",
       "      <td>Himachal Pradesh</td>\n",
       "      <td>206369</td>\n",
       "      <td>1304</td>\n",
       "      <td>201543</td>\n",
       "      <td>3522</td>\n",
       "      <td>0.63</td>\n",
       "      <td>97.66</td>\n",
       "      <td>1.71</td>\n",
       "    </tr>\n",
       "    <tr>\n",
       "      <th>22</th>\n",
       "      <td>Meghalaya</td>\n",
       "      <td>65939</td>\n",
       "      <td>5843</td>\n",
       "      <td>58987</td>\n",
       "      <td>1109</td>\n",
       "      <td>8.86</td>\n",
       "      <td>89.46</td>\n",
       "      <td>1.68</td>\n",
       "    </tr>\n",
       "    <tr>\n",
       "      <th>21</th>\n",
       "      <td>Manipur</td>\n",
       "      <td>99872</td>\n",
       "      <td>9814</td>\n",
       "      <td>88480</td>\n",
       "      <td>1578</td>\n",
       "      <td>9.83</td>\n",
       "      <td>88.59</td>\n",
       "      <td>1.58</td>\n",
       "    </tr>\n",
       "  </tbody>\n",
       "</table>\n",
       "</div>"
      ],
      "text/plain": [
       "              State/UTs  Total Cases  ...  Discharge Ratio (%)  Death Ratio (%)\n",
       "27               Punjab       599162  ...                97.20             2.72\n",
       "34          Uttarakhand       342198  ...                97.68             2.15\n",
       "20          Maharashtra      6315063  ...                96.65             2.11\n",
       "24             Nagaland        28004  ...                93.31             2.05\n",
       "9                   Goa       171295  ...                97.56             1.84\n",
       "8                 Delhi      1436401  ...                98.22             1.74\n",
       "0   Andaman and Nicobar         7539  ...                98.21             1.71\n",
       "12     Himachal Pradesh       206369  ...                97.66             1.71\n",
       "22            Meghalaya        65939  ...                89.46             1.68\n",
       "21              Manipur        99872  ...                88.59             1.58\n",
       "\n",
       "[10 rows x 8 columns]"
      ]
     },
     "execution_count": 53,
     "metadata": {
      "tags": []
     },
     "output_type": "execute_result"
    }
   ],
   "source": [
    "df1"
   ]
  },
  {
   "cell_type": "markdown",
   "metadata": {
    "id": "oS_QXBAcdakK"
   },
   "source": [
    "-above is information mentioned about top 10 STATES having highest death ratio"
   ]
  },
  {
   "cell_type": "markdown",
   "metadata": {
    "id": "C6teQkzne-kB"
   },
   "source": [
    "### TOP 10 STATES WITH HIGHEST NUMBER OF ACTIVE CASES"
   ]
  },
  {
   "cell_type": "code",
   "execution_count": 60,
   "metadata": {
    "colab": {
     "base_uri": "https://localhost:8080/",
     "height": 295
    },
    "id": "eojU2uu_eZkf",
    "outputId": "8bbfd792-2c5e-4059-d03a-d67d5dde8c9e"
   },
   "outputs": [
    {
     "data": {
      "image/png": "[encoded data removed]",
      "text/plain": [
       "<Figure size 432x288 with 1 Axes>"
      ]
     },
     "metadata": {
      "needs_background": "light",
      "tags": []
     },
     "output_type": "display_data"
    }
   ],
   "source": [
    "df1 = df.sort_values(by='Active', ascending=False).head(10)\n",
    "states = df1['State/UTs']\n",
    "cases = df1['Active']\n",
    "plt.barh(states,cases, color = '#E5CCFF')\n",
    "plt.xlabel('Active Cases')\n",
    "plt.ylabel('State')\n",
    "plt.title('State with  more Active Cases in India')\n",
    "plt.show()\n"
   ]
  },
  {
   "cell_type": "markdown",
   "metadata": {
    "id": "QdCphs3QfHJG"
   },
   "source": [
    "### TOP 10 STATES WITH LOWEST NUMBER OF ACTIVE CASES"
   ]
  },
  {
   "cell_type": "code",
   "execution_count": 59,
   "metadata": {
    "colab": {
     "base_uri": "https://localhost:8080/",
     "height": 295
    },
    "id": "a-52g41cfO2H",
    "outputId": "3bd60259-817c-4fb2-c71b-07418bfb646e"
   },
   "outputs": [
    {
     "data": {
      "image/png": "[encoded data removed]",
      "text/plain": [
       "<Figure size 432x288 with 1 Axes>"
      ]
     },
     "metadata": {
      "needs_background": "light",
      "tags": []
     },
     "output_type": "display_data"
    }
   ],
   "source": [
    "df2 = df.sort_values(by='Active').head(10)\n",
    "states = df2['State/UTs']\n",
    "cases = df2['Active']\n",
    "plt.barh(states,cases, color = '#FF99CC')\n",
    "plt.xlabel('Active Cases')\n",
    "plt.ylabel('State')\n",
    "plt.title('State with minimum Active Cases in India')\n",
    "plt.show()\n"
   ]
  }
 ],
 "metadata": {
  "colab": {
   "collapsed_sections": [],
   "name": "covidcases.ipynb",
   "provenance": []
  },
  "language_info": {
   "name": "python"
  }
 },
 "nbformat": 4,
 "nbformat_minor": 0
}